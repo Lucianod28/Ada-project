{
 "cells": [
  {
   "cell_type": "markdown",
   "metadata": {},
   "source": [
    "# Loading data and preprocessing"
   ]
  },
  {
   "cell_type": "code",
   "execution_count": 3,
   "metadata": {},
   "outputs": [],
   "source": [
    "import pandas as pd\n",
    "import numpy as np\n",
    "from ipywidgets import interact\n",
    "from sklearn.linear_model import LinearRegression\n",
    "import matplotlib.pyplot as plt\n",
    "import matplotlib\n",
    "%matplotlib inline"
   ]
  },
  {
   "cell_type": "code",
   "execution_count": 2,
   "metadata": {},
   "outputs": [],
   "source": [
    "# Load the data\n",
    "path = 'data/dunnhumby_The-Complete-Journey/dunnhumby - The Complete Journey CSV/'\n",
    "data = {f: pd.read_csv(path + f + '.csv') for f in ['campaign_desc', 'campaign_table',\n",
    "                                                    'causal_data', 'coupon', 'coupon_redempt',\n",
    "                                                    'hh_demographic', 'product',\n",
    "                                                    'transaction_data']}"
   ]
  },
  {
   "cell_type": "markdown",
   "metadata": {},
   "source": [
    "# Checking for NaN data"
   ]
  },
  {
   "cell_type": "code",
   "execution_count": 3,
   "metadata": {},
   "outputs": [
    {
     "name": "stdout",
     "output_type": "stream",
     "text": [
      "NaN Data: False\n"
     ]
    },
    {
     "data": {
      "text/html": [
       "<div>\n",
       "<style scoped>\n",
       "    .dataframe tbody tr th:only-of-type {\n",
       "        vertical-align: middle;\n",
       "    }\n",
       "\n",
       "    .dataframe tbody tr th {\n",
       "        vertical-align: top;\n",
       "    }\n",
       "\n",
       "    .dataframe thead th {\n",
       "        text-align: right;\n",
       "    }\n",
       "</style>\n",
       "<table border=\"1\" class=\"dataframe\">\n",
       "  <thead>\n",
       "    <tr style=\"text-align: right;\">\n",
       "      <th></th>\n",
       "      <th>AGE_DESC</th>\n",
       "      <th>MARITAL_STATUS_CODE</th>\n",
       "      <th>INCOME_DESC</th>\n",
       "      <th>HOMEOWNER_DESC</th>\n",
       "      <th>HH_COMP_DESC</th>\n",
       "      <th>HOUSEHOLD_SIZE_DESC</th>\n",
       "      <th>KID_CATEGORY_DESC</th>\n",
       "      <th>household_key</th>\n",
       "    </tr>\n",
       "  </thead>\n",
       "  <tbody>\n",
       "    <tr>\n",
       "      <th>0</th>\n",
       "      <td>65+</td>\n",
       "      <td>A</td>\n",
       "      <td>35-49K</td>\n",
       "      <td>Homeowner</td>\n",
       "      <td>2 Adults No Kids</td>\n",
       "      <td>2</td>\n",
       "      <td>None/Unknown</td>\n",
       "      <td>1</td>\n",
       "    </tr>\n",
       "    <tr>\n",
       "      <th>1</th>\n",
       "      <td>45-54</td>\n",
       "      <td>A</td>\n",
       "      <td>50-74K</td>\n",
       "      <td>Homeowner</td>\n",
       "      <td>2 Adults No Kids</td>\n",
       "      <td>2</td>\n",
       "      <td>None/Unknown</td>\n",
       "      <td>7</td>\n",
       "    </tr>\n",
       "    <tr>\n",
       "      <th>2</th>\n",
       "      <td>25-34</td>\n",
       "      <td>U</td>\n",
       "      <td>25-34K</td>\n",
       "      <td>Unknown</td>\n",
       "      <td>2 Adults Kids</td>\n",
       "      <td>3</td>\n",
       "      <td>1</td>\n",
       "      <td>8</td>\n",
       "    </tr>\n",
       "    <tr>\n",
       "      <th>3</th>\n",
       "      <td>25-34</td>\n",
       "      <td>U</td>\n",
       "      <td>75-99K</td>\n",
       "      <td>Homeowner</td>\n",
       "      <td>2 Adults Kids</td>\n",
       "      <td>4</td>\n",
       "      <td>2</td>\n",
       "      <td>13</td>\n",
       "    </tr>\n",
       "    <tr>\n",
       "      <th>4</th>\n",
       "      <td>45-54</td>\n",
       "      <td>B</td>\n",
       "      <td>50-74K</td>\n",
       "      <td>Homeowner</td>\n",
       "      <td>Single Female</td>\n",
       "      <td>1</td>\n",
       "      <td>None/Unknown</td>\n",
       "      <td>16</td>\n",
       "    </tr>\n",
       "  </tbody>\n",
       "</table>\n",
       "</div>"
      ],
      "text/plain": [
       "  AGE_DESC MARITAL_STATUS_CODE INCOME_DESC HOMEOWNER_DESC      HH_COMP_DESC  \\\n",
       "0      65+                   A      35-49K      Homeowner  2 Adults No Kids   \n",
       "1    45-54                   A      50-74K      Homeowner  2 Adults No Kids   \n",
       "2    25-34                   U      25-34K        Unknown     2 Adults Kids   \n",
       "3    25-34                   U      75-99K      Homeowner     2 Adults Kids   \n",
       "4    45-54                   B      50-74K      Homeowner     Single Female   \n",
       "\n",
       "  HOUSEHOLD_SIZE_DESC KID_CATEGORY_DESC  household_key  \n",
       "0                   2      None/Unknown              1  \n",
       "1                   2      None/Unknown              7  \n",
       "2                   3                 1              8  \n",
       "3                   4                 2             13  \n",
       "4                   1      None/Unknown             16  "
      ]
     },
     "execution_count": 3,
     "metadata": {},
     "output_type": "execute_result"
    }
   ],
   "source": [
    "def data_missing(dataframes):\n",
    "    any_missing_data = False\n",
    "\n",
    "    for (name, dataframe) in dataframes.items():\n",
    "        any_missing_data = any_missing_data | dataframe.isna().values.any()\n",
    "\n",
    "    return any_missing_data\n",
    "\n",
    "print('NaN Data: %r' % data_missing(data))\n",
    "data['hh_demographic'].head()"
   ]
  },
  {
   "cell_type": "markdown",
   "metadata": {},
   "source": [
    "# Checking for other anomalies in the data"
   ]
  },
  {
   "cell_type": "markdown",
   "metadata": {},
   "source": [
    "<font color = \"green\">\n",
    "\n",
    "* As we can see we do not have any **NaN** data, so we do not have to worry about preprocessing, but we have indeed values that have the **Unknown** string instead of something valid. For this type of missing data we will not use lines that are marked with **Unknown** when creating plots if we need to know the value of that column."
   ]
  },
  {
   "cell_type": "code",
   "execution_count": 4,
   "metadata": {},
   "outputs": [
    {
     "data": {
      "text/plain": [
       "array(['GROCERY', 'MISC. TRANS.', 'PASTRY', 'DRUG GM', 'MEAT-PCKGD',\n",
       "       'SEAFOOD-PCKGD', 'PRODUCE', 'NUTRITION', 'DELI', 'COSMETICS',\n",
       "       'MEAT', 'FLORAL', 'TRAVEL & LEISUR', 'SEAFOOD', 'MISC SALES TRAN',\n",
       "       'SALAD BAR', 'KIOSK-GAS', 'ELECT &PLUMBING', 'GRO BAKERY',\n",
       "       'GM MERCH EXP', 'FROZEN GROCERY', 'COUP/STR & MFG', 'SPIRITS',\n",
       "       'GARDEN CENTER', 'TOYS', 'CHARITABLE CONT', 'RESTAURANT', 'RX',\n",
       "       'PROD-WHS SALES', 'MEAT-WHSE', 'DAIRY DELI', 'CHEF SHOPPE', 'HBC',\n",
       "       'DELI/SNACK BAR', 'PORK', 'AUTOMOTIVE', 'VIDEO RENTAL', ' ',\n",
       "       'CNTRL/STORE SUP', 'HOUSEWARES', 'POSTAL CENTER', 'PHOTO', 'VIDEO',\n",
       "       'PHARMACY SUPPLY'], dtype=object)"
      ]
     },
     "execution_count": 4,
     "metadata": {},
     "output_type": "execute_result"
    }
   ],
   "source": [
    "data['product']['DEPARTMENT'].unique()"
   ]
  },
  {
   "cell_type": "markdown",
   "metadata": {},
   "source": [
    "<font color = \"green\">\n",
    "    \n",
    "* Inspecting the `product` dataframe we see that there is a department name that contains only on space in its name. We shall print those lines to see if they have relevant information and if the haven't we shall remove them."
   ]
  },
  {
   "cell_type": "code",
   "execution_count": 5,
   "metadata": {
    "scrolled": true
   },
   "outputs": [
    {
     "data": {
      "text/html": [
       "<div>\n",
       "<style scoped>\n",
       "    .dataframe tbody tr th:only-of-type {\n",
       "        vertical-align: middle;\n",
       "    }\n",
       "\n",
       "    .dataframe tbody tr th {\n",
       "        vertical-align: top;\n",
       "    }\n",
       "\n",
       "    .dataframe thead th {\n",
       "        text-align: right;\n",
       "    }\n",
       "</style>\n",
       "<table border=\"1\" class=\"dataframe\">\n",
       "  <thead>\n",
       "    <tr style=\"text-align: right;\">\n",
       "      <th></th>\n",
       "      <th>PRODUCT_ID</th>\n",
       "      <th>MANUFACTURER</th>\n",
       "      <th>DEPARTMENT</th>\n",
       "      <th>BRAND</th>\n",
       "      <th>COMMODITY_DESC</th>\n",
       "      <th>SUB_COMMODITY_DESC</th>\n",
       "      <th>CURR_SIZE_OF_PRODUCT</th>\n",
       "    </tr>\n",
       "  </thead>\n",
       "  <tbody>\n",
       "    <tr>\n",
       "      <th>52189</th>\n",
       "      <td>5126087</td>\n",
       "      <td>1</td>\n",
       "      <td></td>\n",
       "      <td>National</td>\n",
       "      <td></td>\n",
       "      <td></td>\n",
       "      <td></td>\n",
       "    </tr>\n",
       "    <tr>\n",
       "      <th>52190</th>\n",
       "      <td>5126088</td>\n",
       "      <td>1</td>\n",
       "      <td></td>\n",
       "      <td>National</td>\n",
       "      <td></td>\n",
       "      <td></td>\n",
       "      <td></td>\n",
       "    </tr>\n",
       "    <tr>\n",
       "      <th>52191</th>\n",
       "      <td>5126106</td>\n",
       "      <td>1</td>\n",
       "      <td></td>\n",
       "      <td>National</td>\n",
       "      <td></td>\n",
       "      <td></td>\n",
       "      <td></td>\n",
       "    </tr>\n",
       "    <tr>\n",
       "      <th>52192</th>\n",
       "      <td>5126107</td>\n",
       "      <td>1</td>\n",
       "      <td></td>\n",
       "      <td>National</td>\n",
       "      <td></td>\n",
       "      <td></td>\n",
       "      <td></td>\n",
       "    </tr>\n",
       "    <tr>\n",
       "      <th>55048</th>\n",
       "      <td>5977100</td>\n",
       "      <td>1</td>\n",
       "      <td></td>\n",
       "      <td>National</td>\n",
       "      <td></td>\n",
       "      <td></td>\n",
       "      <td></td>\n",
       "    </tr>\n",
       "    <tr>\n",
       "      <th>55054</th>\n",
       "      <td>5978648</td>\n",
       "      <td>1</td>\n",
       "      <td></td>\n",
       "      <td>National</td>\n",
       "      <td></td>\n",
       "      <td></td>\n",
       "      <td></td>\n",
       "    </tr>\n",
       "    <tr>\n",
       "      <th>55055</th>\n",
       "      <td>5978649</td>\n",
       "      <td>1</td>\n",
       "      <td></td>\n",
       "      <td>National</td>\n",
       "      <td></td>\n",
       "      <td></td>\n",
       "      <td></td>\n",
       "    </tr>\n",
       "    <tr>\n",
       "      <th>55056</th>\n",
       "      <td>5978650</td>\n",
       "      <td>1</td>\n",
       "      <td></td>\n",
       "      <td>National</td>\n",
       "      <td></td>\n",
       "      <td></td>\n",
       "      <td></td>\n",
       "    </tr>\n",
       "    <tr>\n",
       "      <th>55057</th>\n",
       "      <td>5978656</td>\n",
       "      <td>1</td>\n",
       "      <td></td>\n",
       "      <td>National</td>\n",
       "      <td></td>\n",
       "      <td></td>\n",
       "      <td></td>\n",
       "    </tr>\n",
       "    <tr>\n",
       "      <th>55058</th>\n",
       "      <td>5978657</td>\n",
       "      <td>1</td>\n",
       "      <td></td>\n",
       "      <td>National</td>\n",
       "      <td></td>\n",
       "      <td></td>\n",
       "      <td></td>\n",
       "    </tr>\n",
       "    <tr>\n",
       "      <th>55059</th>\n",
       "      <td>5978659</td>\n",
       "      <td>1</td>\n",
       "      <td></td>\n",
       "      <td>National</td>\n",
       "      <td></td>\n",
       "      <td></td>\n",
       "      <td></td>\n",
       "    </tr>\n",
       "    <tr>\n",
       "      <th>55277</th>\n",
       "      <td>5993051</td>\n",
       "      <td>1</td>\n",
       "      <td></td>\n",
       "      <td>National</td>\n",
       "      <td></td>\n",
       "      <td></td>\n",
       "      <td></td>\n",
       "    </tr>\n",
       "    <tr>\n",
       "      <th>55278</th>\n",
       "      <td>5993054</td>\n",
       "      <td>1</td>\n",
       "      <td></td>\n",
       "      <td>National</td>\n",
       "      <td></td>\n",
       "      <td></td>\n",
       "      <td></td>\n",
       "    </tr>\n",
       "    <tr>\n",
       "      <th>55279</th>\n",
       "      <td>5993055</td>\n",
       "      <td>1</td>\n",
       "      <td></td>\n",
       "      <td>National</td>\n",
       "      <td></td>\n",
       "      <td></td>\n",
       "      <td></td>\n",
       "    </tr>\n",
       "    <tr>\n",
       "      <th>58244</th>\n",
       "      <td>6693056</td>\n",
       "      <td>1</td>\n",
       "      <td></td>\n",
       "      <td>National</td>\n",
       "      <td></td>\n",
       "      <td></td>\n",
       "      <td></td>\n",
       "    </tr>\n",
       "  </tbody>\n",
       "</table>\n",
       "</div>"
      ],
      "text/plain": [
       "       PRODUCT_ID  MANUFACTURER DEPARTMENT     BRAND COMMODITY_DESC  \\\n",
       "52189     5126087             1             National                  \n",
       "52190     5126088             1             National                  \n",
       "52191     5126106             1             National                  \n",
       "52192     5126107             1             National                  \n",
       "55048     5977100             1             National                  \n",
       "55054     5978648             1             National                  \n",
       "55055     5978649             1             National                  \n",
       "55056     5978650             1             National                  \n",
       "55057     5978656             1             National                  \n",
       "55058     5978657             1             National                  \n",
       "55059     5978659             1             National                  \n",
       "55277     5993051             1             National                  \n",
       "55278     5993054             1             National                  \n",
       "55279     5993055             1             National                  \n",
       "58244     6693056             1             National                  \n",
       "\n",
       "      SUB_COMMODITY_DESC CURR_SIZE_OF_PRODUCT  \n",
       "52189                                          \n",
       "52190                                          \n",
       "52191                                          \n",
       "52192                                          \n",
       "55048                                          \n",
       "55054                                          \n",
       "55055                                          \n",
       "55056                                          \n",
       "55057                                          \n",
       "55058                                          \n",
       "55059                                          \n",
       "55277                                          \n",
       "55278                                          \n",
       "55279                                          \n",
       "58244                                          "
      ]
     },
     "execution_count": 5,
     "metadata": {},
     "output_type": "execute_result"
    }
   ],
   "source": [
    "data['product'][data['product']['DEPARTMENT'].apply(lambda e: len(e)) == 1]"
   ]
  },
  {
   "cell_type": "markdown",
   "metadata": {},
   "source": [
    "<font color = \"green\">\n",
    "    \n",
    "* The above dataframe contains only 15 entries that do not tell anything, so we remove them."
   ]
  },
  {
   "cell_type": "code",
   "execution_count": 6,
   "metadata": {},
   "outputs": [
    {
     "data": {
      "text/plain": [
       "array(['GROCERY', 'MISC. TRANS.', 'PASTRY', 'DRUG GM', 'MEAT-PCKGD',\n",
       "       'SEAFOOD-PCKGD', 'PRODUCE', 'NUTRITION', 'DELI', 'COSMETICS',\n",
       "       'MEAT', 'FLORAL', 'TRAVEL & LEISUR', 'SEAFOOD', 'MISC SALES TRAN',\n",
       "       'SALAD BAR', 'KIOSK-GAS', 'ELECT &PLUMBING', 'GRO BAKERY',\n",
       "       'GM MERCH EXP', 'FROZEN GROCERY', 'COUP/STR & MFG', 'SPIRITS',\n",
       "       'GARDEN CENTER', 'TOYS', 'CHARITABLE CONT', 'RESTAURANT', 'RX',\n",
       "       'PROD-WHS SALES', 'MEAT-WHSE', 'DAIRY DELI', 'CHEF SHOPPE', 'HBC',\n",
       "       'DELI/SNACK BAR', 'PORK', 'AUTOMOTIVE', 'VIDEO RENTAL',\n",
       "       'CNTRL/STORE SUP', 'HOUSEWARES', 'POSTAL CENTER', 'PHOTO', 'VIDEO',\n",
       "       'PHARMACY SUPPLY'], dtype=object)"
      ]
     },
     "execution_count": 6,
     "metadata": {},
     "output_type": "execute_result"
    }
   ],
   "source": [
    "data['product'] = data['product'][data['product']['DEPARTMENT'].apply(lambda e: len(e)) > 1]\n",
    "data['product']['DEPARTMENT'].unique()"
   ]
  },
  {
   "cell_type": "markdown",
   "metadata": {},
   "source": [
    "<font color = \"green\">\n",
    "\n",
    "* We can notice that all the departments have a valid name now."
   ]
  },
  {
   "cell_type": "markdown",
   "metadata": {},
   "source": [
    "## Merge transactions set with other metadata"
   ]
  },
  {
   "cell_type": "code",
   "execution_count": 7,
   "metadata": {},
   "outputs": [],
   "source": [
    "transactions = data[\"transaction_data\"]\\\n",
    "                .merge(data[\"hh_demographic\"], on=\"household_key\", how=\"left\")\\\n",
    "                .merge(data[\"product\"], on=\"PRODUCT_ID\", how=\"left\")"
   ]
  },
  {
   "cell_type": "markdown",
   "metadata": {},
   "source": [
    "## Compute some time based features"
   ]
  },
  {
   "cell_type": "code",
   "execution_count": 8,
   "metadata": {},
   "outputs": [],
   "source": [
    "# compute an approximation of which month we are in (assuming all months are 30 days)\n",
    "transactions[\"MONTH\"] = (np.floor(transactions[\"DAY\"] / 30) + 1).apply(int)"
   ]
  },
  {
   "cell_type": "code",
   "execution_count": 9,
   "metadata": {},
   "outputs": [
    {
     "data": {
      "text/plain": [
       "WEEK_NO\n",
       "1                          [1, 2, 3, 4, 5]\n",
       "2                 [6, 7, 8, 9, 10, 11, 12]\n",
       "3             [13, 14, 15, 16, 17, 18, 19]\n",
       "4             [20, 21, 22, 23, 24, 25, 26]\n",
       "5             [27, 28, 29, 30, 31, 32, 33]\n",
       "                      ...                 \n",
       "98     [678, 679, 680, 681, 682, 683, 684]\n",
       "99     [685, 686, 687, 688, 689, 690, 691]\n",
       "100    [692, 693, 694, 695, 696, 697, 698]\n",
       "101    [699, 700, 701, 702, 703, 704, 705]\n",
       "102         [706, 707, 708, 709, 710, 711]\n",
       "Name: DAY, Length: 102, dtype: object"
      ]
     },
     "execution_count": 9,
     "metadata": {},
     "output_type": "execute_result"
    }
   ],
   "source": [
    "# Analyze weekday distribution\n",
    "transactions.groupby(\"WEEK_NO\")[\"DAY\"].unique()"
   ]
  },
  {
   "cell_type": "markdown",
   "metadata": {},
   "source": [
    "<font color = \"green\">\n",
    "\n",
    "* We can see that first and last week are underrepresented, so we will drop them. The second week starts at 6 so we will devise this to be 1st day of the week.\n",
    "\n",
    "* Unfortunately we cannot exactly say which day is which weekday, 1st day can be Monday or Sunday based on two most common weekday numbering schemes.\n",
    "\n",
    "* In further analyses we have seen bigger sales on two last days of the week so we hypothesize this is the weekend (so that would mean first day is Monday) - this will be explained in a further section."
   ]
  },
  {
   "cell_type": "code",
   "execution_count": 10,
   "metadata": {},
   "outputs": [],
   "source": [
    "transactions[\"DAY_OF_WEEK\"] = (transactions[\"DAY\"] - 6) % 7 + 1"
   ]
  },
  {
   "cell_type": "code",
   "execution_count": 11,
   "metadata": {},
   "outputs": [],
   "source": [
    "transactions[\"HOUR\"] = np.floor(transactions.TRANS_TIME / 100).apply(int)"
   ]
  },
  {
   "cell_type": "code",
   "execution_count": 12,
   "metadata": {},
   "outputs": [
    {
     "data": {
      "text/html": [
       "<div>\n",
       "<style scoped>\n",
       "    .dataframe tbody tr th:only-of-type {\n",
       "        vertical-align: middle;\n",
       "    }\n",
       "\n",
       "    .dataframe tbody tr th {\n",
       "        vertical-align: top;\n",
       "    }\n",
       "\n",
       "    .dataframe thead th {\n",
       "        text-align: right;\n",
       "    }\n",
       "</style>\n",
       "<table border=\"1\" class=\"dataframe\">\n",
       "  <thead>\n",
       "    <tr style=\"text-align: right;\">\n",
       "      <th></th>\n",
       "      <th>HOUR</th>\n",
       "      <th>DAY_OF_WEEK</th>\n",
       "      <th>WEEK_NO</th>\n",
       "      <th>DAY</th>\n",
       "      <th>MONTH</th>\n",
       "    </tr>\n",
       "  </thead>\n",
       "  <tbody>\n",
       "    <tr>\n",
       "      <th>820862</th>\n",
       "      <td>16</td>\n",
       "      <td>1</td>\n",
       "      <td>40</td>\n",
       "      <td>272</td>\n",
       "      <td>10</td>\n",
       "    </tr>\n",
       "    <tr>\n",
       "      <th>635605</th>\n",
       "      <td>7</td>\n",
       "      <td>4</td>\n",
       "      <td>33</td>\n",
       "      <td>226</td>\n",
       "      <td>8</td>\n",
       "    </tr>\n",
       "    <tr>\n",
       "      <th>1504013</th>\n",
       "      <td>19</td>\n",
       "      <td>3</td>\n",
       "      <td>64</td>\n",
       "      <td>442</td>\n",
       "      <td>15</td>\n",
       "    </tr>\n",
       "    <tr>\n",
       "      <th>118516</th>\n",
       "      <td>22</td>\n",
       "      <td>4</td>\n",
       "      <td>13</td>\n",
       "      <td>86</td>\n",
       "      <td>3</td>\n",
       "    </tr>\n",
       "    <tr>\n",
       "      <th>1758013</th>\n",
       "      <td>20</td>\n",
       "      <td>3</td>\n",
       "      <td>73</td>\n",
       "      <td>505</td>\n",
       "      <td>17</td>\n",
       "    </tr>\n",
       "  </tbody>\n",
       "</table>\n",
       "</div>"
      ],
      "text/plain": [
       "         HOUR  DAY_OF_WEEK  WEEK_NO  DAY  MONTH\n",
       "820862     16            1       40  272     10\n",
       "635605      7            4       33  226      8\n",
       "1504013    19            3       64  442     15\n",
       "118516     22            4       13   86      3\n",
       "1758013    20            3       73  505     17"
      ]
     },
     "execution_count": 12,
     "metadata": {},
     "output_type": "execute_result"
    }
   ],
   "source": [
    "# We look at a random sample of the time features we generated to make sure they look ok\n",
    "transactions[[\"HOUR\", \"DAY_OF_WEEK\", \"WEEK_NO\", \"DAY\", \"MONTH\"]].sample(5)"
   ]
  },
  {
   "cell_type": "markdown",
   "metadata": {},
   "source": [
    "## Create a demographic and product dataframe"
   ]
  },
  {
   "cell_type": "code",
   "execution_count": 13,
   "metadata": {},
   "outputs": [
    {
     "name": "stdout",
     "output_type": "stream",
     "text": [
      "45.01346826251709% of transactions doesn't have demographic data\n"
     ]
    }
   ],
   "source": [
    "missing_demographic = 100 * transactions.HOMEOWNER_DESC.isna().sum() / transactions.shape[0]\n",
    "print(f\"{missing_demographic}% of transactions doesn't have demographic data\")"
   ]
  },
  {
   "cell_type": "markdown",
   "metadata": {},
   "source": [
    "<font color = \"green\">\n",
    "    \n",
    "* Since some transactions are missing demographic data, we create a dataframe that contains only transactions with demographic data for demographic analysis, and a second dataframe without these columns for other tasks."
   ]
  },
  {
   "cell_type": "code",
   "execution_count": 14,
   "metadata": {},
   "outputs": [],
   "source": [
    "demographic_columns = list(data['hh_demographic'].columns[:-1])"
   ]
  },
  {
   "cell_type": "code",
   "execution_count": 15,
   "metadata": {},
   "outputs": [],
   "source": [
    "transactions_demographic = transactions.dropna(subset=demographic_columns)"
   ]
  },
  {
   "cell_type": "code",
   "execution_count": 16,
   "metadata": {},
   "outputs": [],
   "source": [
    "transactions_products = transactions.drop(columns=demographic_columns).dropna()"
   ]
  },
  {
   "cell_type": "code",
   "execution_count": 17,
   "metadata": {},
   "outputs": [
    {
     "data": {
      "text/html": [
       "<div>\n",
       "<style scoped>\n",
       "    .dataframe tbody tr th:only-of-type {\n",
       "        vertical-align: middle;\n",
       "    }\n",
       "\n",
       "    .dataframe tbody tr th {\n",
       "        vertical-align: top;\n",
       "    }\n",
       "\n",
       "    .dataframe thead th {\n",
       "        text-align: right;\n",
       "    }\n",
       "</style>\n",
       "<table border=\"1\" class=\"dataframe\">\n",
       "  <thead>\n",
       "    <tr style=\"text-align: right;\">\n",
       "      <th></th>\n",
       "      <th>household_key</th>\n",
       "      <th>BASKET_ID</th>\n",
       "      <th>DAY</th>\n",
       "      <th>PRODUCT_ID</th>\n",
       "      <th>QUANTITY</th>\n",
       "      <th>SALES_VALUE</th>\n",
       "      <th>STORE_ID</th>\n",
       "      <th>RETAIL_DISC</th>\n",
       "      <th>TRANS_TIME</th>\n",
       "      <th>WEEK_NO</th>\n",
       "      <th>...</th>\n",
       "      <th>KID_CATEGORY_DESC</th>\n",
       "      <th>MANUFACTURER</th>\n",
       "      <th>DEPARTMENT</th>\n",
       "      <th>BRAND</th>\n",
       "      <th>COMMODITY_DESC</th>\n",
       "      <th>SUB_COMMODITY_DESC</th>\n",
       "      <th>CURR_SIZE_OF_PRODUCT</th>\n",
       "      <th>MONTH</th>\n",
       "      <th>DAY_OF_WEEK</th>\n",
       "      <th>HOUR</th>\n",
       "    </tr>\n",
       "  </thead>\n",
       "  <tbody>\n",
       "    <tr>\n",
       "      <th>11</th>\n",
       "      <td>1364</td>\n",
       "      <td>26984896261</td>\n",
       "      <td>1</td>\n",
       "      <td>842930</td>\n",
       "      <td>1</td>\n",
       "      <td>2.19</td>\n",
       "      <td>31742</td>\n",
       "      <td>0.00</td>\n",
       "      <td>1520</td>\n",
       "      <td>1</td>\n",
       "      <td>...</td>\n",
       "      <td>None/Unknown</td>\n",
       "      <td>69.0</td>\n",
       "      <td>GROCERY</td>\n",
       "      <td>Private</td>\n",
       "      <td>CONVENIENT BRKFST/WHLSM SNACKS</td>\n",
       "      <td>GRANOLA BARS</td>\n",
       "      <td>10 OZ</td>\n",
       "      <td>1</td>\n",
       "      <td>3</td>\n",
       "      <td>15</td>\n",
       "    </tr>\n",
       "    <tr>\n",
       "      <th>12</th>\n",
       "      <td>1364</td>\n",
       "      <td>26984896261</td>\n",
       "      <td>1</td>\n",
       "      <td>897044</td>\n",
       "      <td>1</td>\n",
       "      <td>2.99</td>\n",
       "      <td>31742</td>\n",
       "      <td>-0.40</td>\n",
       "      <td>1520</td>\n",
       "      <td>1</td>\n",
       "      <td>...</td>\n",
       "      <td>None/Unknown</td>\n",
       "      <td>1075.0</td>\n",
       "      <td>GROCERY</td>\n",
       "      <td>National</td>\n",
       "      <td>CRACKERS/MISC BKD FD</td>\n",
       "      <td>SNACK CRACKERS</td>\n",
       "      <td>9.5 OZ</td>\n",
       "      <td>1</td>\n",
       "      <td>3</td>\n",
       "      <td>15</td>\n",
       "    </tr>\n",
       "    <tr>\n",
       "      <th>13</th>\n",
       "      <td>1364</td>\n",
       "      <td>26984896261</td>\n",
       "      <td>1</td>\n",
       "      <td>920955</td>\n",
       "      <td>1</td>\n",
       "      <td>3.09</td>\n",
       "      <td>31742</td>\n",
       "      <td>0.00</td>\n",
       "      <td>1520</td>\n",
       "      <td>1</td>\n",
       "      <td>...</td>\n",
       "      <td>None/Unknown</td>\n",
       "      <td>3664.0</td>\n",
       "      <td>MEAT</td>\n",
       "      <td>National</td>\n",
       "      <td>BEEF</td>\n",
       "      <td>GRND/PATTY - ROUND</td>\n",
       "      <td></td>\n",
       "      <td>1</td>\n",
       "      <td>3</td>\n",
       "      <td>15</td>\n",
       "    </tr>\n",
       "    <tr>\n",
       "      <th>14</th>\n",
       "      <td>1364</td>\n",
       "      <td>26984896261</td>\n",
       "      <td>1</td>\n",
       "      <td>937406</td>\n",
       "      <td>1</td>\n",
       "      <td>2.50</td>\n",
       "      <td>31742</td>\n",
       "      <td>-0.99</td>\n",
       "      <td>1520</td>\n",
       "      <td>1</td>\n",
       "      <td>...</td>\n",
       "      <td>None/Unknown</td>\n",
       "      <td>2209.0</td>\n",
       "      <td>MEAT-PCKGD</td>\n",
       "      <td>National</td>\n",
       "      <td>BREAKFAST SAUSAGE/SANDWICHES</td>\n",
       "      <td>LINKS - RAW</td>\n",
       "      <td>12OZ</td>\n",
       "      <td>1</td>\n",
       "      <td>3</td>\n",
       "      <td>15</td>\n",
       "    </tr>\n",
       "    <tr>\n",
       "      <th>15</th>\n",
       "      <td>1364</td>\n",
       "      <td>26984896261</td>\n",
       "      <td>1</td>\n",
       "      <td>981760</td>\n",
       "      <td>1</td>\n",
       "      <td>0.60</td>\n",
       "      <td>31742</td>\n",
       "      <td>-0.79</td>\n",
       "      <td>1520</td>\n",
       "      <td>1</td>\n",
       "      <td>...</td>\n",
       "      <td>None/Unknown</td>\n",
       "      <td>69.0</td>\n",
       "      <td>GROCERY</td>\n",
       "      <td>Private</td>\n",
       "      <td>EGGS</td>\n",
       "      <td>EGGS - X-LARGE</td>\n",
       "      <td>1 DZ</td>\n",
       "      <td>1</td>\n",
       "      <td>3</td>\n",
       "      <td>15</td>\n",
       "    </tr>\n",
       "  </tbody>\n",
       "</table>\n",
       "<p>5 rows × 28 columns</p>\n",
       "</div>"
      ],
      "text/plain": [
       "    household_key    BASKET_ID  DAY  PRODUCT_ID  QUANTITY  SALES_VALUE  \\\n",
       "11           1364  26984896261    1      842930         1         2.19   \n",
       "12           1364  26984896261    1      897044         1         2.99   \n",
       "13           1364  26984896261    1      920955         1         3.09   \n",
       "14           1364  26984896261    1      937406         1         2.50   \n",
       "15           1364  26984896261    1      981760         1         0.60   \n",
       "\n",
       "    STORE_ID  RETAIL_DISC  TRANS_TIME  WEEK_NO  ...  KID_CATEGORY_DESC  \\\n",
       "11     31742         0.00        1520        1  ...       None/Unknown   \n",
       "12     31742        -0.40        1520        1  ...       None/Unknown   \n",
       "13     31742         0.00        1520        1  ...       None/Unknown   \n",
       "14     31742        -0.99        1520        1  ...       None/Unknown   \n",
       "15     31742        -0.79        1520        1  ...       None/Unknown   \n",
       "\n",
       "    MANUFACTURER  DEPARTMENT     BRAND                  COMMODITY_DESC  \\\n",
       "11          69.0     GROCERY   Private  CONVENIENT BRKFST/WHLSM SNACKS   \n",
       "12        1075.0     GROCERY  National            CRACKERS/MISC BKD FD   \n",
       "13        3664.0        MEAT  National                            BEEF   \n",
       "14        2209.0  MEAT-PCKGD  National    BREAKFAST SAUSAGE/SANDWICHES   \n",
       "15          69.0     GROCERY   Private                            EGGS   \n",
       "\n",
       "    SUB_COMMODITY_DESC CURR_SIZE_OF_PRODUCT MONTH DAY_OF_WEEK  HOUR  \n",
       "11        GRANOLA BARS                10 OZ     1           3    15  \n",
       "12      SNACK CRACKERS               9.5 OZ     1           3    15  \n",
       "13  GRND/PATTY - ROUND                          1           3    15  \n",
       "14         LINKS - RAW                 12OZ     1           3    15  \n",
       "15      EGGS - X-LARGE                 1 DZ     1           3    15  \n",
       "\n",
       "[5 rows x 28 columns]"
      ]
     },
     "execution_count": 17,
     "metadata": {},
     "output_type": "execute_result"
    }
   ],
   "source": [
    "transactions_demographic.head()"
   ]
  },
  {
   "cell_type": "code",
   "execution_count": 18,
   "metadata": {},
   "outputs": [
    {
     "data": {
      "text/plain": [
       "Index(['household_key', 'BASKET_ID', 'DAY', 'PRODUCT_ID', 'QUANTITY',\n",
       "       'SALES_VALUE', 'STORE_ID', 'RETAIL_DISC', 'TRANS_TIME', 'WEEK_NO',\n",
       "       'COUPON_DISC', 'COUPON_MATCH_DISC', 'AGE_DESC', 'MARITAL_STATUS_CODE',\n",
       "       'INCOME_DESC', 'HOMEOWNER_DESC', 'HH_COMP_DESC', 'HOUSEHOLD_SIZE_DESC',\n",
       "       'KID_CATEGORY_DESC', 'MANUFACTURER', 'DEPARTMENT', 'BRAND',\n",
       "       'COMMODITY_DESC', 'SUB_COMMODITY_DESC', 'CURR_SIZE_OF_PRODUCT', 'MONTH',\n",
       "       'DAY_OF_WEEK', 'HOUR'],\n",
       "      dtype='object')"
      ]
     },
     "execution_count": 18,
     "metadata": {},
     "output_type": "execute_result"
    }
   ],
   "source": [
    "transactions_demographic.columns"
   ]
  },
  {
   "cell_type": "code",
   "execution_count": 19,
   "metadata": {},
   "outputs": [
    {
     "data": {
      "text/html": [
       "<div>\n",
       "<style scoped>\n",
       "    .dataframe tbody tr th:only-of-type {\n",
       "        vertical-align: middle;\n",
       "    }\n",
       "\n",
       "    .dataframe tbody tr th {\n",
       "        vertical-align: top;\n",
       "    }\n",
       "\n",
       "    .dataframe thead th {\n",
       "        text-align: right;\n",
       "    }\n",
       "</style>\n",
       "<table border=\"1\" class=\"dataframe\">\n",
       "  <thead>\n",
       "    <tr style=\"text-align: right;\">\n",
       "      <th></th>\n",
       "      <th>household_key</th>\n",
       "      <th>BASKET_ID</th>\n",
       "      <th>DAY</th>\n",
       "      <th>PRODUCT_ID</th>\n",
       "      <th>QUANTITY</th>\n",
       "      <th>SALES_VALUE</th>\n",
       "      <th>STORE_ID</th>\n",
       "      <th>RETAIL_DISC</th>\n",
       "      <th>TRANS_TIME</th>\n",
       "      <th>WEEK_NO</th>\n",
       "      <th>...</th>\n",
       "      <th>COUPON_MATCH_DISC</th>\n",
       "      <th>MANUFACTURER</th>\n",
       "      <th>DEPARTMENT</th>\n",
       "      <th>BRAND</th>\n",
       "      <th>COMMODITY_DESC</th>\n",
       "      <th>SUB_COMMODITY_DESC</th>\n",
       "      <th>CURR_SIZE_OF_PRODUCT</th>\n",
       "      <th>MONTH</th>\n",
       "      <th>DAY_OF_WEEK</th>\n",
       "      <th>HOUR</th>\n",
       "    </tr>\n",
       "  </thead>\n",
       "  <tbody>\n",
       "    <tr>\n",
       "      <th>0</th>\n",
       "      <td>2375</td>\n",
       "      <td>26984851472</td>\n",
       "      <td>1</td>\n",
       "      <td>1004906</td>\n",
       "      <td>1</td>\n",
       "      <td>1.39</td>\n",
       "      <td>364</td>\n",
       "      <td>-0.60</td>\n",
       "      <td>1631</td>\n",
       "      <td>1</td>\n",
       "      <td>...</td>\n",
       "      <td>0.0</td>\n",
       "      <td>69.0</td>\n",
       "      <td>PRODUCE</td>\n",
       "      <td>Private</td>\n",
       "      <td>POTATOES</td>\n",
       "      <td>POTATOES RUSSET (BULK&amp;BAG)</td>\n",
       "      <td>5 LB</td>\n",
       "      <td>1</td>\n",
       "      <td>3</td>\n",
       "      <td>16</td>\n",
       "    </tr>\n",
       "    <tr>\n",
       "      <th>1</th>\n",
       "      <td>2375</td>\n",
       "      <td>26984851472</td>\n",
       "      <td>1</td>\n",
       "      <td>1033142</td>\n",
       "      <td>1</td>\n",
       "      <td>0.82</td>\n",
       "      <td>364</td>\n",
       "      <td>0.00</td>\n",
       "      <td>1631</td>\n",
       "      <td>1</td>\n",
       "      <td>...</td>\n",
       "      <td>0.0</td>\n",
       "      <td>2.0</td>\n",
       "      <td>PRODUCE</td>\n",
       "      <td>National</td>\n",
       "      <td>ONIONS</td>\n",
       "      <td>ONIONS SWEET (BULK&amp;BAG)</td>\n",
       "      <td>40 LB</td>\n",
       "      <td>1</td>\n",
       "      <td>3</td>\n",
       "      <td>16</td>\n",
       "    </tr>\n",
       "    <tr>\n",
       "      <th>2</th>\n",
       "      <td>2375</td>\n",
       "      <td>26984851472</td>\n",
       "      <td>1</td>\n",
       "      <td>1036325</td>\n",
       "      <td>1</td>\n",
       "      <td>0.99</td>\n",
       "      <td>364</td>\n",
       "      <td>-0.30</td>\n",
       "      <td>1631</td>\n",
       "      <td>1</td>\n",
       "      <td>...</td>\n",
       "      <td>0.0</td>\n",
       "      <td>69.0</td>\n",
       "      <td>PRODUCE</td>\n",
       "      <td>Private</td>\n",
       "      <td>VEGETABLES - ALL OTHERS</td>\n",
       "      <td>CELERY</td>\n",
       "      <td></td>\n",
       "      <td>1</td>\n",
       "      <td>3</td>\n",
       "      <td>16</td>\n",
       "    </tr>\n",
       "    <tr>\n",
       "      <th>3</th>\n",
       "      <td>2375</td>\n",
       "      <td>26984851472</td>\n",
       "      <td>1</td>\n",
       "      <td>1082185</td>\n",
       "      <td>1</td>\n",
       "      <td>1.21</td>\n",
       "      <td>364</td>\n",
       "      <td>0.00</td>\n",
       "      <td>1631</td>\n",
       "      <td>1</td>\n",
       "      <td>...</td>\n",
       "      <td>0.0</td>\n",
       "      <td>2.0</td>\n",
       "      <td>PRODUCE</td>\n",
       "      <td>National</td>\n",
       "      <td>TROPICAL FRUIT</td>\n",
       "      <td>BANANAS</td>\n",
       "      <td>40 LB</td>\n",
       "      <td>1</td>\n",
       "      <td>3</td>\n",
       "      <td>16</td>\n",
       "    </tr>\n",
       "    <tr>\n",
       "      <th>4</th>\n",
       "      <td>2375</td>\n",
       "      <td>26984851472</td>\n",
       "      <td>1</td>\n",
       "      <td>8160430</td>\n",
       "      <td>1</td>\n",
       "      <td>1.50</td>\n",
       "      <td>364</td>\n",
       "      <td>-0.39</td>\n",
       "      <td>1631</td>\n",
       "      <td>1</td>\n",
       "      <td>...</td>\n",
       "      <td>0.0</td>\n",
       "      <td>69.0</td>\n",
       "      <td>PRODUCE</td>\n",
       "      <td>Private</td>\n",
       "      <td>ORGANICS FRUIT &amp; VEGETABLES</td>\n",
       "      <td>ORGANIC CARROTS</td>\n",
       "      <td>1 LB</td>\n",
       "      <td>1</td>\n",
       "      <td>3</td>\n",
       "      <td>16</td>\n",
       "    </tr>\n",
       "  </tbody>\n",
       "</table>\n",
       "<p>5 rows × 21 columns</p>\n",
       "</div>"
      ],
      "text/plain": [
       "   household_key    BASKET_ID  DAY  PRODUCT_ID  QUANTITY  SALES_VALUE  \\\n",
       "0           2375  26984851472    1     1004906         1         1.39   \n",
       "1           2375  26984851472    1     1033142         1         0.82   \n",
       "2           2375  26984851472    1     1036325         1         0.99   \n",
       "3           2375  26984851472    1     1082185         1         1.21   \n",
       "4           2375  26984851472    1     8160430         1         1.50   \n",
       "\n",
       "   STORE_ID  RETAIL_DISC  TRANS_TIME  WEEK_NO  ...  COUPON_MATCH_DISC  \\\n",
       "0       364        -0.60        1631        1  ...                0.0   \n",
       "1       364         0.00        1631        1  ...                0.0   \n",
       "2       364        -0.30        1631        1  ...                0.0   \n",
       "3       364         0.00        1631        1  ...                0.0   \n",
       "4       364        -0.39        1631        1  ...                0.0   \n",
       "\n",
       "   MANUFACTURER  DEPARTMENT     BRAND               COMMODITY_DESC  \\\n",
       "0          69.0     PRODUCE   Private                     POTATOES   \n",
       "1           2.0     PRODUCE  National                       ONIONS   \n",
       "2          69.0     PRODUCE   Private      VEGETABLES - ALL OTHERS   \n",
       "3           2.0     PRODUCE  National               TROPICAL FRUIT   \n",
       "4          69.0     PRODUCE   Private  ORGANICS FRUIT & VEGETABLES   \n",
       "\n",
       "           SUB_COMMODITY_DESC CURR_SIZE_OF_PRODUCT MONTH  DAY_OF_WEEK  HOUR  \n",
       "0  POTATOES RUSSET (BULK&BAG)                 5 LB     1            3    16  \n",
       "1     ONIONS SWEET (BULK&BAG)                40 LB     1            3    16  \n",
       "2                      CELERY                          1            3    16  \n",
       "3                     BANANAS                40 LB     1            3    16  \n",
       "4             ORGANIC CARROTS                 1 LB     1            3    16  \n",
       "\n",
       "[5 rows x 21 columns]"
      ]
     },
     "execution_count": 19,
     "metadata": {},
     "output_type": "execute_result"
    }
   ],
   "source": [
    "transactions_products.head()"
   ]
  },
  {
   "cell_type": "code",
   "execution_count": 20,
   "metadata": {},
   "outputs": [
    {
     "data": {
      "text/plain": [
       "Index(['household_key', 'BASKET_ID', 'DAY', 'PRODUCT_ID', 'QUANTITY',\n",
       "       'SALES_VALUE', 'STORE_ID', 'RETAIL_DISC', 'TRANS_TIME', 'WEEK_NO',\n",
       "       'COUPON_DISC', 'COUPON_MATCH_DISC', 'MANUFACTURER', 'DEPARTMENT',\n",
       "       'BRAND', 'COMMODITY_DESC', 'SUB_COMMODITY_DESC', 'CURR_SIZE_OF_PRODUCT',\n",
       "       'MONTH', 'DAY_OF_WEEK', 'HOUR'],\n",
       "      dtype='object')"
      ]
     },
     "execution_count": 20,
     "metadata": {},
     "output_type": "execute_result"
    }
   ],
   "source": [
    "transactions_products.columns"
   ]
  },
  {
   "cell_type": "markdown",
   "metadata": {},
   "source": [
    "# Question 1: Shopping trends over time"
   ]
  },
  {
   "cell_type": "code",
   "execution_count": 21,
   "metadata": {},
   "outputs": [],
   "source": [
    "def plot_trend(x, y, xlabel, ylabel, title, std=None):\n",
    "    plt.figure(figsize=(10,8))\n",
    "    \n",
    "    plt.plot(x, y, label=\"Actual values\")\n",
    "    \n",
    "    reg = LinearRegression()\n",
    "    x_reg = x.to_numpy().reshape(-1, 1)\n",
    "    reg.fit(x_reg, y)\n",
    "    plt.plot(x, reg.predict(x_reg), label=\"Linear trend\")\n",
    "    if std is not None:\n",
    "        plt.fill_between(monthly.index, monthly - std, monthly + std, alpha=0.2)\n",
    "    plt.xlabel(xlabel)\n",
    "    plt.ylabel(ylabel)\n",
    "    plt.title(title)\n",
    "    plt.legend()\n",
    "    plt.show()"
   ]
  },
  {
   "cell_type": "code",
   "execution_count": 22,
   "metadata": {},
   "outputs": [],
   "source": [
    "# we compute mean \n",
    "weekly = transactions.groupby([\"household_key\", \"WEEK_NO\"])[\"SALES_VALUE\"].sum().groupby(\"WEEK_NO\").mean().sort_index()"
   ]
  },
  {
   "cell_type": "code",
   "execution_count": 23,
   "metadata": {},
   "outputs": [
    {
     "data": {
      "image/png": "[encoded data removed]",
      "text/plain": [
       "<Figure size 720x576 with 1 Axes>"
      ]
     },
     "metadata": {
      "needs_background": "light"
     },
     "output_type": "display_data"
    }
   ],
   "source": [
    "plot_trend(weekly.index, weekly, \"Week\", \"Mean household spending\", \"Mean household spending over time\")"
   ]
  },
  {
   "cell_type": "markdown",
   "metadata": {},
   "source": [
    "<font color = \"green\">\n",
    "               \n",
    "* There is a high deviation between subsequent weeks but we can see that the sales are overall increasing over time. The linear regression shows a rising tendency.\n",
    "\n",
    "* The big drop in the last week is most likely caused by the fact that this week is underrepresented (it doesn't contain the last day)."
   ]
  },
  {
   "cell_type": "code",
   "execution_count": 24,
   "metadata": {},
   "outputs": [],
   "source": [
    "# Now we compute mean household spending in each month\n",
    "monthly = transactions.groupby([\"household_key\", \"MONTH\"])[\"SALES_VALUE\"].sum().reset_index().groupby(\"MONTH\")[\"SALES_VALUE\"].mean()"
   ]
  },
  {
   "cell_type": "code",
   "execution_count": 25,
   "metadata": {},
   "outputs": [
    {
     "data": {
      "image/png": "[encoded data removed]",
      "text/plain": [
       "<Figure size 720x576 with 1 Axes>"
      ]
     },
     "metadata": {
      "needs_background": "light"
     },
     "output_type": "display_data"
    }
   ],
   "source": [
    "plot_trend(monthly.index, monthly, \"Month\", \"Mean household spending\", \"Mean household spending over time\")"
   ]
  },
  {
   "cell_type": "code",
   "execution_count": 26,
   "metadata": {},
   "outputs": [
    {
     "data": {
      "text/plain": [
       "MONTH\n",
       "1     29\n",
       "2     30\n",
       "3     30\n",
       "4     30\n",
       "5     30\n",
       "6     30\n",
       "7     30\n",
       "8     30\n",
       "9     30\n",
       "10    30\n",
       "11    30\n",
       "12    30\n",
       "13    30\n",
       "14    30\n",
       "15    30\n",
       "16    30\n",
       "17    30\n",
       "18    30\n",
       "19    30\n",
       "20    30\n",
       "21    30\n",
       "22    30\n",
       "23    30\n",
       "24    22\n",
       "Name: DAY, dtype: int64"
      ]
     },
     "execution_count": 26,
     "metadata": {},
     "output_type": "execute_result"
    }
   ],
   "source": [
    "transactions.groupby(\"MONTH\")[\"DAY\"].unique().apply(len)"
   ]
  },
  {
   "cell_type": "markdown",
   "metadata": {},
   "source": [
    "<font color = \"green\">\n",
    "\n",
    "* As we can see, due to our approximation last month contains less days than the other, so it is underrepresented. That explains the big drop at the end."
   ]
  },
  {
   "cell_type": "code",
   "execution_count": 27,
   "metadata": {},
   "outputs": [
    {
     "ename": "KeyboardInterrupt",
     "evalue": "",
     "output_type": "error",
     "traceback": [
      "\u001b[0;31m---------------------------------------------------------------------------\u001b[0m",
      "\u001b[0;31mKeyboardInterrupt\u001b[0m                         Traceback (most recent call last)",
      "\u001b[0;32m<ipython-input-27-d9136242411f>\u001b[0m in \u001b[0;36m<module>\u001b[0;34m\u001b[0m\n\u001b[1;32m      1\u001b[0m \u001b[0mmonthly\u001b[0m \u001b[0;34m=\u001b[0m \u001b[0mmonthly\u001b[0m\u001b[0;34m[\u001b[0m\u001b[0mmonthly\u001b[0m\u001b[0;34m.\u001b[0m\u001b[0mindex\u001b[0m \u001b[0;34m<\u001b[0m \u001b[0;36m24\u001b[0m\u001b[0;34m]\u001b[0m\u001b[0;34m\u001b[0m\u001b[0;34m\u001b[0m\u001b[0m\n\u001b[0;32m----> 2\u001b[0;31m \u001b[0mplot_trend\u001b[0m\u001b[0;34m(\u001b[0m\u001b[0mmonthly\u001b[0m\u001b[0;34m.\u001b[0m\u001b[0mindex\u001b[0m\u001b[0;34m,\u001b[0m \u001b[0mmonthly\u001b[0m\u001b[0;34m,\u001b[0m \u001b[0;34m\"Month\"\u001b[0m\u001b[0;34m,\u001b[0m \u001b[0;34m\"Mean household spending\"\u001b[0m\u001b[0;34m,\u001b[0m \u001b[0;34m\"Mean household spending over time\"\u001b[0m\u001b[0;34m)\u001b[0m\u001b[0;34m\u001b[0m\u001b[0;34m\u001b[0m\u001b[0m\n\u001b[0m",
      "\u001b[0;32m<ipython-input-21-fc8eb8fad249>\u001b[0m in \u001b[0;36mplot_trend\u001b[0;34m(x, y, xlabel, ylabel, title, std)\u001b[0m\n\u001b[1;32m     14\u001b[0m     \u001b[0mplt\u001b[0m\u001b[0;34m.\u001b[0m\u001b[0mtitle\u001b[0m\u001b[0;34m(\u001b[0m\u001b[0mtitle\u001b[0m\u001b[0;34m)\u001b[0m\u001b[0;34m\u001b[0m\u001b[0;34m\u001b[0m\u001b[0m\n\u001b[1;32m     15\u001b[0m     \u001b[0mplt\u001b[0m\u001b[0;34m.\u001b[0m\u001b[0mlegend\u001b[0m\u001b[0;34m(\u001b[0m\u001b[0;34m)\u001b[0m\u001b[0;34m\u001b[0m\u001b[0;34m\u001b[0m\u001b[0m\n\u001b[0;32m---> 16\u001b[0;31m     \u001b[0mplt\u001b[0m\u001b[0;34m.\u001b[0m\u001b[0mshow\u001b[0m\u001b[0;34m(\u001b[0m\u001b[0;34m)\u001b[0m\u001b[0;34m\u001b[0m\u001b[0;34m\u001b[0m\u001b[0m\n\u001b[0m",
      "\u001b[0;32m/usr/local/lib/python3.7/site-packages/matplotlib/pyplot.py\u001b[0m in \u001b[0;36mshow\u001b[0;34m(*args, **kw)\u001b[0m\n\u001b[1;32m    267\u001b[0m     \"\"\"\n\u001b[1;32m    268\u001b[0m     \u001b[0;32mglobal\u001b[0m \u001b[0m_show\u001b[0m\u001b[0;34m\u001b[0m\u001b[0;34m\u001b[0m\u001b[0m\n\u001b[0;32m--> 269\u001b[0;31m     \u001b[0;32mreturn\u001b[0m \u001b[0m_show\u001b[0m\u001b[0;34m(\u001b[0m\u001b[0;34m*\u001b[0m\u001b[0margs\u001b[0m\u001b[0;34m,\u001b[0m \u001b[0;34m**\u001b[0m\u001b[0mkw\u001b[0m\u001b[0;34m)\u001b[0m\u001b[0;34m\u001b[0m\u001b[0;34m\u001b[0m\u001b[0m\n\u001b[0m\u001b[1;32m    270\u001b[0m \u001b[0;34m\u001b[0m\u001b[0m\n\u001b[1;32m    271\u001b[0m \u001b[0;34m\u001b[0m\u001b[0m\n",
      "\u001b[0;32m/usr/local/lib/python3.7/site-packages/ipykernel/pylab/backend_inline.py\u001b[0m in \u001b[0;36mshow\u001b[0;34m(close, block)\u001b[0m\n\u001b[1;32m     37\u001b[0m             display(\n\u001b[1;32m     38\u001b[0m                 \u001b[0mfigure_manager\u001b[0m\u001b[0;34m.\u001b[0m\u001b[0mcanvas\u001b[0m\u001b[0;34m.\u001b[0m\u001b[0mfigure\u001b[0m\u001b[0;34m,\u001b[0m\u001b[0;34m\u001b[0m\u001b[0;34m\u001b[0m\u001b[0m\n\u001b[0;32m---> 39\u001b[0;31m                 \u001b[0mmetadata\u001b[0m\u001b[0;34m=\u001b[0m\u001b[0m_fetch_figure_metadata\u001b[0m\u001b[0;34m(\u001b[0m\u001b[0mfigure_manager\u001b[0m\u001b[0;34m.\u001b[0m\u001b[0mcanvas\u001b[0m\u001b[0;34m.\u001b[0m\u001b[0mfigure\u001b[0m\u001b[0;34m)\u001b[0m\u001b[0;34m\u001b[0m\u001b[0;34m\u001b[0m\u001b[0m\n\u001b[0m\u001b[1;32m     40\u001b[0m             )\n\u001b[1;32m     41\u001b[0m     \u001b[0;32mfinally\u001b[0m\u001b[0;34m:\u001b[0m\u001b[0;34m\u001b[0m\u001b[0;34m\u001b[0m\u001b[0m\n",
      "\u001b[0;32m/usr/local/lib/python3.7/site-packages/IPython/core/display.py\u001b[0m in \u001b[0;36mdisplay\u001b[0;34m(include, exclude, metadata, transient, display_id, *objs, **kwargs)\u001b[0m\n\u001b[1;32m    311\u001b[0m             \u001b[0mpublish_display_data\u001b[0m\u001b[0;34m(\u001b[0m\u001b[0mdata\u001b[0m\u001b[0;34m=\u001b[0m\u001b[0mobj\u001b[0m\u001b[0;34m,\u001b[0m \u001b[0mmetadata\u001b[0m\u001b[0;34m=\u001b[0m\u001b[0mmetadata\u001b[0m\u001b[0;34m,\u001b[0m \u001b[0;34m**\u001b[0m\u001b[0mkwargs\u001b[0m\u001b[0;34m)\u001b[0m\u001b[0;34m\u001b[0m\u001b[0;34m\u001b[0m\u001b[0m\n\u001b[1;32m    312\u001b[0m         \u001b[0;32melse\u001b[0m\u001b[0;34m:\u001b[0m\u001b[0;34m\u001b[0m\u001b[0;34m\u001b[0m\u001b[0m\n\u001b[0;32m--> 313\u001b[0;31m             \u001b[0mformat_dict\u001b[0m\u001b[0;34m,\u001b[0m \u001b[0mmd_dict\u001b[0m \u001b[0;34m=\u001b[0m \u001b[0mformat\u001b[0m\u001b[0;34m(\u001b[0m\u001b[0mobj\u001b[0m\u001b[0;34m,\u001b[0m \u001b[0minclude\u001b[0m\u001b[0;34m=\u001b[0m\u001b[0minclude\u001b[0m\u001b[0;34m,\u001b[0m \u001b[0mexclude\u001b[0m\u001b[0;34m=\u001b[0m\u001b[0mexclude\u001b[0m\u001b[0;34m)\u001b[0m\u001b[0;34m\u001b[0m\u001b[0;34m\u001b[0m\u001b[0m\n\u001b[0m\u001b[1;32m    314\u001b[0m             \u001b[0;32mif\u001b[0m \u001b[0;32mnot\u001b[0m \u001b[0mformat_dict\u001b[0m\u001b[0;34m:\u001b[0m\u001b[0;34m\u001b[0m\u001b[0;34m\u001b[0m\u001b[0m\n\u001b[1;32m    315\u001b[0m                 \u001b[0;31m# nothing to display (e.g. _ipython_display_ took over)\u001b[0m\u001b[0;34m\u001b[0m\u001b[0;34m\u001b[0m\u001b[0;34m\u001b[0m\u001b[0m\n",
      "\u001b[0;32m/usr/local/lib/python3.7/site-packages/IPython/core/formatters.py\u001b[0m in \u001b[0;36mformat\u001b[0;34m(self, obj, include, exclude)\u001b[0m\n\u001b[1;32m    178\u001b[0m             \u001b[0mmd\u001b[0m \u001b[0;34m=\u001b[0m \u001b[0;32mNone\u001b[0m\u001b[0;34m\u001b[0m\u001b[0;34m\u001b[0m\u001b[0m\n\u001b[1;32m    179\u001b[0m             \u001b[0;32mtry\u001b[0m\u001b[0;34m:\u001b[0m\u001b[0;34m\u001b[0m\u001b[0;34m\u001b[0m\u001b[0m\n\u001b[0;32m--> 180\u001b[0;31m                 \u001b[0mdata\u001b[0m \u001b[0;34m=\u001b[0m \u001b[0mformatter\u001b[0m\u001b[0;34m(\u001b[0m\u001b[0mobj\u001b[0m\u001b[0;34m)\u001b[0m\u001b[0;34m\u001b[0m\u001b[0;34m\u001b[0m\u001b[0m\n\u001b[0m\u001b[1;32m    181\u001b[0m             \u001b[0;32mexcept\u001b[0m\u001b[0;34m:\u001b[0m\u001b[0;34m\u001b[0m\u001b[0;34m\u001b[0m\u001b[0m\n\u001b[1;32m    182\u001b[0m                 \u001b[0;31m# FIXME: log the exception\u001b[0m\u001b[0;34m\u001b[0m\u001b[0;34m\u001b[0m\u001b[0;34m\u001b[0m\u001b[0m\n",
      "\u001b[0;32m</usr/local/lib/python3.7/site-packages/decorator.py:decorator-gen-9>\u001b[0m in \u001b[0;36m__call__\u001b[0;34m(self, obj)\u001b[0m\n",
      "\u001b[0;32m/usr/local/lib/python3.7/site-packages/IPython/core/formatters.py\u001b[0m in \u001b[0;36mcatch_format_error\u001b[0;34m(method, self, *args, **kwargs)\u001b[0m\n\u001b[1;32m    222\u001b[0m     \u001b[0;34m\"\"\"show traceback on failed format call\"\"\"\u001b[0m\u001b[0;34m\u001b[0m\u001b[0;34m\u001b[0m\u001b[0m\n\u001b[1;32m    223\u001b[0m     \u001b[0;32mtry\u001b[0m\u001b[0;34m:\u001b[0m\u001b[0;34m\u001b[0m\u001b[0;34m\u001b[0m\u001b[0m\n\u001b[0;32m--> 224\u001b[0;31m         \u001b[0mr\u001b[0m \u001b[0;34m=\u001b[0m \u001b[0mmethod\u001b[0m\u001b[0;34m(\u001b[0m\u001b[0mself\u001b[0m\u001b[0;34m,\u001b[0m \u001b[0;34m*\u001b[0m\u001b[0margs\u001b[0m\u001b[0;34m,\u001b[0m \u001b[0;34m**\u001b[0m\u001b[0mkwargs\u001b[0m\u001b[0;34m)\u001b[0m\u001b[0;34m\u001b[0m\u001b[0;34m\u001b[0m\u001b[0m\n\u001b[0m\u001b[1;32m    225\u001b[0m     \u001b[0;32mexcept\u001b[0m \u001b[0mNotImplementedError\u001b[0m\u001b[0;34m:\u001b[0m\u001b[0;34m\u001b[0m\u001b[0;34m\u001b[0m\u001b[0m\n\u001b[1;32m    226\u001b[0m         \u001b[0;31m# don't warn on NotImplementedErrors\u001b[0m\u001b[0;34m\u001b[0m\u001b[0;34m\u001b[0m\u001b[0;34m\u001b[0m\u001b[0m\n",
      "\u001b[0;32m/usr/local/lib/python3.7/site-packages/IPython/core/formatters.py\u001b[0m in \u001b[0;36m__call__\u001b[0;34m(self, obj)\u001b[0m\n\u001b[1;32m    339\u001b[0m                 \u001b[0;32mpass\u001b[0m\u001b[0;34m\u001b[0m\u001b[0;34m\u001b[0m\u001b[0m\n\u001b[1;32m    340\u001b[0m             \u001b[0;32melse\u001b[0m\u001b[0;34m:\u001b[0m\u001b[0;34m\u001b[0m\u001b[0;34m\u001b[0m\u001b[0m\n\u001b[0;32m--> 341\u001b[0;31m                 \u001b[0;32mreturn\u001b[0m \u001b[0mprinter\u001b[0m\u001b[0;34m(\u001b[0m\u001b[0mobj\u001b[0m\u001b[0;34m)\u001b[0m\u001b[0;34m\u001b[0m\u001b[0;34m\u001b[0m\u001b[0m\n\u001b[0m\u001b[1;32m    342\u001b[0m             \u001b[0;31m# Finally look for special method names\u001b[0m\u001b[0;34m\u001b[0m\u001b[0;34m\u001b[0m\u001b[0;34m\u001b[0m\u001b[0m\n\u001b[1;32m    343\u001b[0m             \u001b[0mmethod\u001b[0m \u001b[0;34m=\u001b[0m \u001b[0mget_real_method\u001b[0m\u001b[0;34m(\u001b[0m\u001b[0mobj\u001b[0m\u001b[0;34m,\u001b[0m \u001b[0mself\u001b[0m\u001b[0;34m.\u001b[0m\u001b[0mprint_method\u001b[0m\u001b[0;34m)\u001b[0m\u001b[0;34m\u001b[0m\u001b[0;34m\u001b[0m\u001b[0m\n",
      "\u001b[0;32m/usr/local/lib/python3.7/site-packages/IPython/core/pylabtools.py\u001b[0m in \u001b[0;36m<lambda>\u001b[0;34m(fig)\u001b[0m\n\u001b[1;32m    242\u001b[0m \u001b[0;34m\u001b[0m\u001b[0m\n\u001b[1;32m    243\u001b[0m     \u001b[0;32mif\u001b[0m \u001b[0;34m'png'\u001b[0m \u001b[0;32min\u001b[0m \u001b[0mformats\u001b[0m\u001b[0;34m:\u001b[0m\u001b[0;34m\u001b[0m\u001b[0;34m\u001b[0m\u001b[0m\n\u001b[0;32m--> 244\u001b[0;31m         \u001b[0mpng_formatter\u001b[0m\u001b[0;34m.\u001b[0m\u001b[0mfor_type\u001b[0m\u001b[0;34m(\u001b[0m\u001b[0mFigure\u001b[0m\u001b[0;34m,\u001b[0m \u001b[0;32mlambda\u001b[0m \u001b[0mfig\u001b[0m\u001b[0;34m:\u001b[0m \u001b[0mprint_figure\u001b[0m\u001b[0;34m(\u001b[0m\u001b[0mfig\u001b[0m\u001b[0;34m,\u001b[0m \u001b[0;34m'png'\u001b[0m\u001b[0;34m,\u001b[0m \u001b[0;34m**\u001b[0m\u001b[0mkwargs\u001b[0m\u001b[0;34m)\u001b[0m\u001b[0;34m)\u001b[0m\u001b[0;34m\u001b[0m\u001b[0;34m\u001b[0m\u001b[0m\n\u001b[0m\u001b[1;32m    245\u001b[0m     \u001b[0;32mif\u001b[0m \u001b[0;34m'retina'\u001b[0m \u001b[0;32min\u001b[0m \u001b[0mformats\u001b[0m \u001b[0;32mor\u001b[0m \u001b[0;34m'png2x'\u001b[0m \u001b[0;32min\u001b[0m \u001b[0mformats\u001b[0m\u001b[0;34m:\u001b[0m\u001b[0;34m\u001b[0m\u001b[0;34m\u001b[0m\u001b[0m\n\u001b[1;32m    246\u001b[0m         \u001b[0mpng_formatter\u001b[0m\u001b[0;34m.\u001b[0m\u001b[0mfor_type\u001b[0m\u001b[0;34m(\u001b[0m\u001b[0mFigure\u001b[0m\u001b[0;34m,\u001b[0m \u001b[0;32mlambda\u001b[0m \u001b[0mfig\u001b[0m\u001b[0;34m:\u001b[0m \u001b[0mretina_figure\u001b[0m\u001b[0;34m(\u001b[0m\u001b[0mfig\u001b[0m\u001b[0;34m,\u001b[0m \u001b[0;34m**\u001b[0m\u001b[0mkwargs\u001b[0m\u001b[0;34m)\u001b[0m\u001b[0;34m)\u001b[0m\u001b[0;34m\u001b[0m\u001b[0;34m\u001b[0m\u001b[0m\n",
      "\u001b[0;32m/usr/local/lib/python3.7/site-packages/IPython/core/pylabtools.py\u001b[0m in \u001b[0;36mprint_figure\u001b[0;34m(fig, fmt, bbox_inches, **kwargs)\u001b[0m\n\u001b[1;32m    126\u001b[0m \u001b[0;34m\u001b[0m\u001b[0m\n\u001b[1;32m    127\u001b[0m     \u001b[0mbytes_io\u001b[0m \u001b[0;34m=\u001b[0m \u001b[0mBytesIO\u001b[0m\u001b[0;34m(\u001b[0m\u001b[0;34m)\u001b[0m\u001b[0;34m\u001b[0m\u001b[0;34m\u001b[0m\u001b[0m\n\u001b[0;32m--> 128\u001b[0;31m     \u001b[0mfig\u001b[0m\u001b[0;34m.\u001b[0m\u001b[0mcanvas\u001b[0m\u001b[0;34m.\u001b[0m\u001b[0mprint_figure\u001b[0m\u001b[0;34m(\u001b[0m\u001b[0mbytes_io\u001b[0m\u001b[0;34m,\u001b[0m \u001b[0;34m**\u001b[0m\u001b[0mkw\u001b[0m\u001b[0;34m)\u001b[0m\u001b[0;34m\u001b[0m\u001b[0;34m\u001b[0m\u001b[0m\n\u001b[0m\u001b[1;32m    129\u001b[0m     \u001b[0mdata\u001b[0m \u001b[0;34m=\u001b[0m \u001b[0mbytes_io\u001b[0m\u001b[0;34m.\u001b[0m\u001b[0mgetvalue\u001b[0m\u001b[0;34m(\u001b[0m\u001b[0;34m)\u001b[0m\u001b[0;34m\u001b[0m\u001b[0;34m\u001b[0m\u001b[0m\n\u001b[1;32m    130\u001b[0m     \u001b[0;32mif\u001b[0m \u001b[0mfmt\u001b[0m \u001b[0;34m==\u001b[0m \u001b[0;34m'svg'\u001b[0m\u001b[0;34m:\u001b[0m\u001b[0;34m\u001b[0m\u001b[0;34m\u001b[0m\u001b[0m\n",
      "\u001b[0;32m/usr/local/lib/python3.7/site-packages/matplotlib/backend_bases.py\u001b[0m in \u001b[0;36mprint_figure\u001b[0;34m(self, filename, dpi, facecolor, edgecolor, orientation, format, bbox_inches, **kwargs)\u001b[0m\n\u001b[1;32m   2080\u001b[0m                     \u001b[0morientation\u001b[0m\u001b[0;34m=\u001b[0m\u001b[0morientation\u001b[0m\u001b[0;34m,\u001b[0m\u001b[0;34m\u001b[0m\u001b[0;34m\u001b[0m\u001b[0m\n\u001b[1;32m   2081\u001b[0m                     \u001b[0mbbox_inches_restore\u001b[0m\u001b[0;34m=\u001b[0m\u001b[0m_bbox_inches_restore\u001b[0m\u001b[0;34m,\u001b[0m\u001b[0;34m\u001b[0m\u001b[0;34m\u001b[0m\u001b[0m\n\u001b[0;32m-> 2082\u001b[0;31m                     **kwargs)\n\u001b[0m\u001b[1;32m   2083\u001b[0m             \u001b[0;32mfinally\u001b[0m\u001b[0;34m:\u001b[0m\u001b[0;34m\u001b[0m\u001b[0;34m\u001b[0m\u001b[0m\n\u001b[1;32m   2084\u001b[0m                 \u001b[0;32mif\u001b[0m \u001b[0mbbox_inches\u001b[0m \u001b[0;32mand\u001b[0m \u001b[0mrestore_bbox\u001b[0m\u001b[0;34m:\u001b[0m\u001b[0;34m\u001b[0m\u001b[0;34m\u001b[0m\u001b[0m\n",
      "\u001b[0;32m/usr/local/lib/python3.7/site-packages/matplotlib/backends/backend_agg.py\u001b[0m in \u001b[0;36mprint_png\u001b[0;34m(self, filename_or_obj, metadata, pil_kwargs, *args, **kwargs)\u001b[0m\n\u001b[1;32m    530\u001b[0m                     \u001b[0mcbook\u001b[0m\u001b[0;34m.\u001b[0m\u001b[0mopen_file_cm\u001b[0m\u001b[0;34m(\u001b[0m\u001b[0mfilename_or_obj\u001b[0m\u001b[0;34m,\u001b[0m \u001b[0;34m\"wb\"\u001b[0m\u001b[0;34m)\u001b[0m \u001b[0;32mas\u001b[0m \u001b[0mfh\u001b[0m\u001b[0;34m:\u001b[0m\u001b[0;34m\u001b[0m\u001b[0;34m\u001b[0m\u001b[0m\n\u001b[1;32m    531\u001b[0m                 _png.write_png(renderer._renderer, fh,\n\u001b[0;32m--> 532\u001b[0;31m                                self.figure.dpi, metadata=metadata)\n\u001b[0m\u001b[1;32m    533\u001b[0m \u001b[0;34m\u001b[0m\u001b[0m\n\u001b[1;32m    534\u001b[0m     \u001b[0;32mdef\u001b[0m \u001b[0mprint_to_buffer\u001b[0m\u001b[0;34m(\u001b[0m\u001b[0mself\u001b[0m\u001b[0;34m)\u001b[0m\u001b[0;34m:\u001b[0m\u001b[0;34m\u001b[0m\u001b[0;34m\u001b[0m\u001b[0m\n",
      "\u001b[0;31mKeyboardInterrupt\u001b[0m: "
     ]
    }
   ],
   "source": [
    "monthly = monthly[monthly.index < 24]\n",
    "plot_trend(monthly.index, monthly, \"Month\", \"Mean household spending\", \"Mean household spending over time\")"
   ]
  },
  {
   "cell_type": "markdown",
   "metadata": {},
   "source": [
    "<font color = \"green\">\n",
    "\n",
    "* So we remove the last underrepresented month. The sales are clearly increasing over time and the linear trend is highly increasing.\n",
    "\n",
    "* We hypothesize there could be 2 factors accounting for the increase:\n",
    "    - people are generally spending more money on shopping over time\n",
    "    - due to advertising campaigns, people more often choose the store we have data for and they do a bigger part of their shopping there than before (so it's possible they spend the same amount overall, just the place where they spend the money has changed)\n",
    "    \n",
    "* Most likely both of these factors are at play here. We could analyse the efficiency of advertising to understand that better."
   ]
  },
  {
   "cell_type": "markdown",
   "metadata": {},
   "source": [
    "### Trends in various categories"
   ]
  },
  {
   "cell_type": "code",
   "execution_count": null,
   "metadata": {},
   "outputs": [],
   "source": [
    "def analyze_categories(data, category_column, statistic_computation, sort=True, show_separate=False, \\\n",
    "                       filter_too_small_threshold=None):\n",
    "    values = data[category_column].unique()\n",
    "    if sort:\n",
    "        t = [type(e) for e in values]\n",
    "        values = sorted(values)\n",
    "    \n",
    "    def summarize_category(category_name):\n",
    "        filtered = data[data[category_column] == category_name]\n",
    "        stat = statistic_computation(filtered)\n",
    "        return stat\n",
    "    \n",
    "    stats = list(map(summarize_category, values))\n",
    "    \n",
    "    if show_separate:\n",
    "        for cat, stat in zip(values, stats):\n",
    "            if filter_too_small_threshold is not None and stat.sum() < filter_too_small_threshold:\n",
    "                continue\n",
    "            print(cat)\n",
    "            plot_trend(stat.index, stat, \"\", \"\", cat)\n",
    "    \n",
    "    skipped = 0\n",
    "    plt.figure(figsize=(10,8))\n",
    "    for cat, stat in zip(values, stats):\n",
    "        if filter_too_small_threshold is not None and stat.sum() < filter_too_small_threshold:\n",
    "                skipped += 1\n",
    "                continue\n",
    "        plt.plot(stat.index, stat, label=cat)\n",
    "        #print(stat)\n",
    "    plt.xlabel(\"Month\")\n",
    "    plt.ylabel(\"Mean monthly spending per household\")\n",
    "    plt.title(\"Comparison over \" + category_column)\n",
    "    plt.legend()\n",
    "    plt.show()\n",
    "    print(f\"Skipped {skipped} categories which were below threshold\")"
   ]
  },
  {
   "cell_type": "code",
   "execution_count": null,
   "metadata": {},
   "outputs": [],
   "source": [
    "def stat_mean_monthly_spending(data):\n",
    "    return data.groupby([\"household_key\", \"MONTH\"])[\"SALES_VALUE\"].sum().groupby(\"MONTH\").mean()"
   ]
  },
  {
   "cell_type": "markdown",
   "metadata": {},
   "source": [
    "### Brand"
   ]
  },
  {
   "cell_type": "code",
   "execution_count": null,
   "metadata": {},
   "outputs": [],
   "source": [
    "analyze_categories(transactions_products, \"BRAND\", stat_mean_monthly_spending)"
   ]
  },
  {
   "cell_type": "markdown",
   "metadata": {},
   "source": [
    "#### Age"
   ]
  },
  {
   "cell_type": "code",
   "execution_count": null,
   "metadata": {},
   "outputs": [],
   "source": [
    "analyze_categories(transactions_demographic, \"AGE_DESC\", stat_mean_monthly_spending)"
   ]
  },
  {
   "cell_type": "markdown",
   "metadata": {},
   "source": [
    "<font color = \"green\">\n",
    "\n",
    "* We can see that older (65+) and young (<24) people generally tend to buy less than other groups and middle aged people buy more\n",
    "    - probably because students and elderly often live alone and adults around 30-40 are likely to be shopping for their whole family."
   ]
  },
  {
   "cell_type": "markdown",
   "metadata": {},
   "source": [
    "#### Income"
   ]
  },
  {
   "cell_type": "code",
   "execution_count": null,
   "metadata": {},
   "outputs": [],
   "source": [
    "analyze_categories(transactions_demographic, \"INCOME_DESC\", stat_mean_monthly_spending)"
   ]
  },
  {
   "cell_type": "code",
   "execution_count": null,
   "metadata": {},
   "outputs": [],
   "source": [
    "def monthly_spending(data):\n",
    "    return data.groupby([\"household_key\", \"MONTH\"])[\"SALES_VALUE\"].sum().reset_index().groupby(\"MONTH\")[\"SALES_VALUE\"].mean()"
   ]
  },
  {
   "cell_type": "code",
   "execution_count": null,
   "metadata": {},
   "outputs": [],
   "source": [
    "rich = monthly_spending(transactions_demographic[transactions_demographic.INCOME_DESC == \"250K+\"])"
   ]
  },
  {
   "cell_type": "code",
   "execution_count": null,
   "metadata": {},
   "outputs": [],
   "source": [
    "rest = monthly_spending(transactions_demographic[transactions_demographic.INCOME_DESC != \"250K+\"])"
   ]
  },
  {
   "cell_type": "code",
   "execution_count": null,
   "metadata": {},
   "outputs": [],
   "source": [
    "plot_trend(rich.index, rich, \"Month\", \"Mean monthly spending\", \"Spending trend over time\")"
   ]
  },
  {
   "cell_type": "code",
   "execution_count": null,
   "metadata": {},
   "outputs": [],
   "source": [
    "plot_trend(rest.index, rest, \"Month\", \"Mean monthly spending\", \"Spending trend over time\")"
   ]
  },
  {
   "cell_type": "markdown",
   "metadata": {},
   "source": [
    "<font color = \"green\">\n",
    "\n",
    "* We can see that rich people are spending more at a slower late then people making less."
   ]
  },
  {
   "cell_type": "code",
   "execution_count": null,
   "metadata": {},
   "outputs": [],
   "source": [
    "overall = transactions_demographic.groupby(\"household_key\")[\"SALES_VALUE\"].sum().rename(\"overall_spending\")"
   ]
  },
  {
   "cell_type": "code",
   "execution_count": null,
   "metadata": {},
   "outputs": [],
   "source": [
    "def stat_relative_monthly_spending(data):\n",
    "    merged = data.groupby([\"household_key\", \"MONTH\"])[\"SALES_VALUE\"].sum().reset_index().merge(overall, on=\"household_key\")\n",
    "    merged[\"relative_spending\"] = merged[\"SALES_VALUE\"] / merged[\"overall_spending\"] * 100\n",
    "    return merged.groupby(\"MONTH\")[\"relative_spending\"].mean()"
   ]
  },
  {
   "cell_type": "code",
   "execution_count": null,
   "metadata": {},
   "outputs": [],
   "source": [
    "rich = stat_relative_monthly_spending(transactions_demographic[transactions_demographic.INCOME_DESC == \"250K+\"])"
   ]
  },
  {
   "cell_type": "code",
   "execution_count": null,
   "metadata": {},
   "outputs": [],
   "source": [
    "rest = stat_relative_monthly_spending(transactions_demographic[transactions_demographic.INCOME_DESC != \"250K+\"])"
   ]
  },
  {
   "cell_type": "markdown",
   "metadata": {},
   "source": [
    "<font color = \"green\">\n",
    "\n",
    "* Looking at relativized plots (indicating % of overall spending of a household in each month), we can see the rich group is mostly spending steadily and other people are spending more."
   ]
  },
  {
   "cell_type": "code",
   "execution_count": null,
   "metadata": {},
   "outputs": [],
   "source": [
    "plot_trend(rich.index, rich, \"Month\", \"mean of %(money spent in given month / money spent over the course of dataset)\", \"Relativized spending over time\")"
   ]
  },
  {
   "cell_type": "code",
   "execution_count": null,
   "metadata": {},
   "outputs": [],
   "source": [
    "plot_trend(rest.index, rest, \"Month\", \"mean of %(money spent in given month / money spent over the course of dataset)\", \"Spending trend over time\")"
   ]
  },
  {
   "cell_type": "markdown",
   "metadata": {},
   "source": [
    "## Spending on days of week"
   ]
  },
  {
   "cell_type": "code",
   "execution_count": null,
   "metadata": {},
   "outputs": [],
   "source": [
    "dow = transactions.groupby([\"household_key\", \"DAY_OF_WEEK\"])[\"SALES_VALUE\"].sum().groupby(\"DAY_OF_WEEK\").mean()"
   ]
  },
  {
   "cell_type": "code",
   "execution_count": null,
   "metadata": {},
   "outputs": [],
   "source": [
    "plt.bar(dow.index, dow)\n",
    "plt.title(\"Average spending on different days of week\")\n",
    "plt.xlabel(\"Day of week\")\n",
    "plt.ylabel(\"Spending\")\n",
    "plt.show()"
   ]
  },
  {
   "cell_type": "markdown",
   "metadata": {},
   "source": [
    "<font color = \"green\">\n",
    "\n",
    "* It is only a hypothesis, but it seems that 1 = Monday indeed, as the last two days get higher spendings and people tend to go shopping on the weekends (at least in countries when most shops are open on Sundays, but if this shop was closed altogether it would have 0 sales or small sales in only specific shopping points, which would be clear from the plot).\n",
    "\n",
    "* So we can conjecture that 1 = Monday, 7 = Sunday and people do most sales on the weekend (which seems reasonable as they have more time) and also a bit more than usual on Friday (after work, maybe in preparation for the weekend) and Mondays (maybe to refill after a weekend).\n",
    "\n"
   ]
  },
  {
   "cell_type": "markdown",
   "metadata": {},
   "source": [
    "## Correlations"
   ]
  },
  {
   "cell_type": "code",
   "execution_count": null,
   "metadata": {},
   "outputs": [],
   "source": [
    "def stat_overall_monthly_quantity(data):\n",
    "    return data.groupby([\"MONTH\"])[\"QUANTITY\"].sum()"
   ]
  },
  {
   "cell_type": "markdown",
   "metadata": {},
   "source": [
    "<font color = \"green\">\n",
    "\n",
    "* **We skip gasoline as it's quantity is in mililiters and it dominates all sales when looking at quantitym**\n",
    "\n",
    "* In the future we might do feature engineering and compute a \"normalized\" quantity - normal for other products and set to 1 for gasoline, or just divided by 1000 to get liters which is more in line with other units."
   ]
  },
  {
   "cell_type": "code",
   "execution_count": null,
   "metadata": {},
   "outputs": [],
   "source": [
    "tmp = transactions.dropna()\n",
    "\n",
    "plt.figure(figsize=(20,15))\n",
    "analyze_categories(\n",
    "    tmp[(transactions['DEPARTMENT'] != 'GROCERY') & (tmp['SUB_COMMODITY_DESC'] != 'GASOLINE-REG UNLEADED')], \n",
    "    'DEPARTMENT',\n",
    "    stat_overall_monthly_quantity,\n",
    "    show_separate=False,\n",
    "    filter_too_small_threshold=10000)"
   ]
  },
  {
   "cell_type": "code",
   "execution_count": null,
   "metadata": {},
   "outputs": [],
   "source": [
    "def compare_specific_categories(data, category_column, labels, statistic_computation, sort=True):\n",
    "    data = data[data[category_column].isin(labels)]\n",
    "    \n",
    "    values = data[category_column].unique()\n",
    "    if sort:\n",
    "        values = sorted(values)\n",
    "    \n",
    "    def summarize_category(category_name):\n",
    "        filtered = data[data[category_column] == category_name]\n",
    "        stat = statistic_computation(filtered)\n",
    "        return stat\n",
    "    \n",
    "    stats = list(map(summarize_category, values))\n",
    "\n",
    "    plt.figure(figsize=(10,8))\n",
    "    for cat, stat in zip(values, stats):\n",
    "\n",
    "        plt.plot(stat.index, stat, label=cat)\n",
    "        #print(stat)\n",
    "    plt.xlabel(\"Month\")\n",
    "    plt.ylabel(\"Relative sales in given month\")\n",
    "    plt.title(\"Comparison over \" + category_column)\n",
    "    plt.legend()\n",
    "    plt.show()\n",
    "\n",
    "def stat_relative_overall_monthly_quantity(data):\n",
    "    overall = data[\"QUANTITY\"].sum()\n",
    "    return (data.groupby(\"MONTH\")[\"QUANTITY\"].sum() / overall)\n",
    "\n",
    "def stat_relative_minmax_overall_monthly_quantity(data):\n",
    "    monthly = data.groupby(\"MONTH\")[\"QUANTITY\"].sum()\n",
    "    mini = monthly.min()\n",
    "    maxi = monthly.max()\n",
    "    return (monthly - mini) / (maxi - mini)"
   ]
  },
  {
   "cell_type": "code",
   "execution_count": null,
   "metadata": {},
   "outputs": [],
   "source": [
    "compare_specific_categories(transactions, \"DEPARTMENT\", [\"TRAVEL & LEISUR\", \"SPIRITS\", \"PRODUCE\"], stat_relative_overall_monthly_quantity)"
   ]
  },
  {
   "cell_type": "markdown",
   "metadata": {},
   "source": [
    "<font color = \"green\">\n",
    "\n",
    "* One can observe that TRAVEL has cyclical spikes in months 6-8 (which coincides with summer) likely due to people going on vacation.\n",
    "\n",
    "* At the same time there is a light drop in SPIRITS and PRODUCE sales which is likely explained by people going on vacation don't do their regular shopping or do it elsewhere (possibly abroad)."
   ]
  },
  {
   "cell_type": "markdown",
   "metadata": {},
   "source": [
    "## Transaction time of day"
   ]
  },
  {
   "cell_type": "code",
   "execution_count": null,
   "metadata": {},
   "outputs": [],
   "source": [
    "transactions.HOUR.plot.hist(bins=range(0,24))\n",
    "plt.title(\"Overal hourly amount of transactions\")\n",
    "plt.xlabel(\"Transaction hour\")\n",
    "plt.ylabel(\"Amount of transactions in given hour\")\n",
    "plt.show()"
   ]
  },
  {
   "cell_type": "code",
   "execution_count": null,
   "metadata": {},
   "outputs": [],
   "source": [
    "def times_over_category(data, category_column, show_separate=True, sort=True, minimal_threshold=None):\n",
    "    \n",
    "    sums = data.groupby([category_column, \"HOUR\"])[\"QUANTITY\"].sum()\n",
    "    overall = data.groupby(category_column)[\"QUANTITY\"].sum()\n",
    "    if minimal_threshold is not None:\n",
    "        sums = sums[sums.index.isin(overall[overall > minimal_threshold].index, level=0)]\n",
    "\n",
    "    values = sums.index.unique(level=0)\n",
    "    if sort:\n",
    "        values = sorted(values)\n",
    "        \n",
    "    if show_separate:\n",
    "        for cat in values:\n",
    "            stat = sums[cat]\n",
    "            plt.title(\"Shopping times for category \" + cat)\n",
    "            plt.xlabel(\"Hour\")\n",
    "            plt.ylabel(\"Amount of items bought\")\n",
    "            plt.bar(stat.index, stat)\n",
    "            plt.show()\n",
    "    \n",
    "    # for the second step we normalize the sums\n",
    "    \n",
    "    sums = sums / overall\n",
    "\n",
    "    \n",
    "    plt.figure(figsize=(10,8))\n",
    "    for cat in values:\n",
    "        stat = sums[cat]\n",
    "        plt.plot(stat.index, stat, label=cat)\n",
    "    plt.xlabel(\"Hour\")\n",
    "    plt.ylabel(\"Relative sales amount\")\n",
    "    plt.title(\"Relativized comparison over \" + category_column)\n",
    "    plt.legend()\n",
    "    plt.show()"
   ]
  },
  {
   "cell_type": "code",
   "execution_count": null,
   "metadata": {
    "scrolled": true
   },
   "outputs": [],
   "source": [
    "times_over_category(transactions_demographic[(transactions_demographic.SUB_COMMODITY_DESC != \"GASOLINE-REG UNLEADED\")], \"AGE_DESC\")"
   ]
  },
  {
   "cell_type": "markdown",
   "metadata": {},
   "source": [
    "<font color = \"green\">\n",
    "\n",
    "* Here we can see that older people tend to do the shopping in the late morning and early afternoon - starting at 9, and with a peak activity at 15.\n",
    "\n",
    "* Adults tend to do most of their shopping later - with most of them shopping around 17-18.\n",
    "\n",
    "* The youngest age group (19-24) tend to do the shopping in the evening - peaking around 18 and being relatively more active in the night.\n"
   ]
  },
  {
   "cell_type": "code",
   "execution_count": null,
   "metadata": {
    "scrolled": true
   },
   "outputs": [],
   "source": [
    "times_over_category(transactions_demographic, \"DEPARTMENT\", minimal_threshold=3000)"
   ]
  },
  {
   "cell_type": "markdown",
   "metadata": {},
   "source": [
    "<font color = \"green\">\n",
    "\n",
    "* Future work: display bar plot with mean sales overlaid.\n",
    "\n",
    "* From current plots we see that for example the salad bar has two peaks: at 12 and 18. The first one is likely caused by people buying themselves lunch."
   ]
  },
  {
   "cell_type": "markdown",
   "metadata": {},
   "source": [
    "# Question 2: How living status of a person (owner or renter, married or unmaried) influences the buying habits\n"
   ]
  },
  {
   "cell_type": "code",
   "execution_count": null,
   "metadata": {},
   "outputs": [],
   "source": [
    "dataframes = data\n",
    "demographic_df = data['hh_demographic']"
   ]
  },
  {
   "cell_type": "markdown",
   "metadata": {},
   "source": [
    "## Create dataframes for owners and renters"
   ]
  },
  {
   "cell_type": "code",
   "execution_count": null,
   "metadata": {},
   "outputs": [],
   "source": [
    "home_owner_df = demographic_df[demographic_df['HOMEOWNER_DESC'].apply(lambda e: e.lower()).str.contains('owner')]\n",
    "renter_df = demographic_df[demographic_df['HOMEOWNER_DESC'].apply(lambda e: e.lower()).str.contains('renter')]"
   ]
  },
  {
   "cell_type": "code",
   "execution_count": null,
   "metadata": {},
   "outputs": [],
   "source": [
    "salary_ranges = list(demographic_df['INCOME_DESC'].unique())\n",
    "age_ranges = list(demographic_df['AGE_DESC'].unique())\n",
    "\n",
    "age_ranges.sort(key = lambda e: int(e.split('-')[0]) if len(e.split('-')[0]) == 2 else \\\n",
    "                        int(e.split('-')[0][: -1]))\n",
    "salary_ranges.sort(key = lambda e: 0 if e.split('-')[0][0] == 'U' else \\\n",
    "                       int(e.split('-')[0][: -2] if len(e.split('-')) == 1 else \\\n",
    "                       int(e.split('-')[0])))"
   ]
  },
  {
   "cell_type": "markdown",
   "metadata": {},
   "source": [
    "### Salary distribution per age ranges"
   ]
  },
  {
   "cell_type": "code",
   "execution_count": null,
   "metadata": {},
   "outputs": [],
   "source": [
    "salary_distribution_owners = home_owner_df.groupby(['AGE_DESC', 'INCOME_DESC']).size()\n",
    "salary_distribution_renters = renter_df.groupby(['AGE_DESC', 'INCOME_DESC']).size()\n",
    "labels = list(salary_distribution_renters.index)\n",
    "\n",
    "for age in age_ranges:\n",
    "    fig, (ax1, ax2) = plt.subplots(1, 2, constrained_layout = True, figsize = [15, 4])\n",
    "    items_owners = list(salary_distribution_owners[age].items())\n",
    "    items_renters = list(salary_distribution_renters[age].items())\n",
    "\n",
    "    items_owners.sort(key = lambda e: 0 if e[0].split('-')[0][0] == 'U' else \\\n",
    "                       int(e[0].split('-')[0][: -2] if len(e[0].split('-')) == 1 else \\\n",
    "                       int(e[0].split('-')[0])))\n",
    "    items_renters.sort(key = lambda e: 0 if e[0].split('-')[0][0] == 'U' else \\\n",
    "                       int(e[0].split('-')[0][: -2] if len(e[0].split('-')) == 1 else \\\n",
    "                       int(e[0].split('-')[0])))\n",
    "\n",
    "    x_pos_owners = np.arange(len(items_owners))\n",
    "    x_pos_renters = np.arange(len(items_renters))\n",
    "    \n",
    "    ax1.bar(x = x_pos_owners, height = [e[1] for e in items_owners], color = 'blue', tick_label = [e[0] for e in items_owners])\n",
    "    ax1.set_title('Owners')\n",
    "    ax1.set_ylabel('Frequency')\n",
    "    ax1.set_xlabel('Salary')\n",
    "    \n",
    "    ax2.bar(x = x_pos_renters, height = [e[1] for e in items_renters], color = 'red', tick_label = [e[0] for e in items_renters])\n",
    "    ax2.set_title('Renters')\n",
    "    ax2.set_ylabel('Frequency')\n",
    "    ax2.set_xlabel('Salary')\n",
    "\n",
    "    ax1.tick_params(labelrotation = 70)\n",
    "    ax2.tick_params(labelrotation = 70)\n",
    "    \n",
    "    fig.suptitle('Age range: %s' % age)\n",
    "    plt.show()"
   ]
  },
  {
   "cell_type": "markdown",
   "metadata": {},
   "source": [
    "<font color = \"green\">\n",
    "\n",
    "* Most of the people are owners and by looking at every age category we observe that their salaries are normally distributed. \n",
    "* From their salaries we expect to see that the average value of products bought by owners to be higher than the average value of products of renters"
   ]
  },
  {
   "cell_type": "markdown",
   "metadata": {},
   "source": [
    "### Average price per transaction for all age ranges"
   ]
  },
  {
   "cell_type": "code",
   "execution_count": null,
   "metadata": {},
   "outputs": [],
   "source": [
    "owners_transactions_df = pd.merge(home_owner_df, dataframes['transaction_data'], how = 'inner', on = 'household_key')\n",
    "renters_transactions_df = pd.merge(renter_df, dataframes['transaction_data'], how = 'inner', on = 'household_key')\n",
    "\n",
    "owners_transactions_df['TRANSACTION_VALUE'] = owners_transactions_df['SALES_VALUE'] - \\\n",
    "                                            (owners_transactions_df['RETAIL_DISC'] + \\\n",
    "                                             owners_transactions_df['COUPON_MATCH_DISC'])\n",
    "renters_transactions_df['TRANSACTION_VALUE'] = renters_transactions_df['SALES_VALUE'] - \\\n",
    "                                            (renters_transactions_df['RETAIL_DISC'] + \\\n",
    "                                             renters_transactions_df['COUPON_MATCH_DISC'])\n",
    "\n",
    "owners_prices_per_age = owners_transactions_df.groupby('AGE_DESC')['TRANSACTION_VALUE'].mean()\n",
    "renters_prices_per_age = renters_transactions_df.groupby('AGE_DESC')['TRANSACTION_VALUE'].mean()"
   ]
  },
  {
   "cell_type": "code",
   "execution_count": null,
   "metadata": {},
   "outputs": [],
   "source": [
    "fig, ax = plt.subplots()\n",
    "index = np.arange(owners_prices_per_age.shape[0])\n",
    "bar_width = 0.35\n",
    "opacity = 0.8\n",
    "\n",
    "rects1 = plt.bar(index, [e[1] for e in owners_prices_per_age.items()], \\\n",
    "                 bar_width, alpha = opacity, color = 'blue', label = 'Owners')\n",
    "rects2 = plt.bar(index + bar_width, [e[1] for e in renters_prices_per_age.items()], \\\n",
    "                 bar_width, alpha = opacity, color='red', label = 'Renters')\n",
    "\n",
    "plt.xticks(index + bar_width, [e[0] for e in owners_prices_per_age.items()])\n",
    "plt.xlabel('Age range')\n",
    "plt.ylabel('Average price per product')\n",
    "plt.title('Average price per product for age ranges')\n",
    "ax.legend(bbox_to_anchor=(1.25, 1.0))\n",
    "plt.show()"
   ]
  },
  {
   "cell_type": "code",
   "execution_count": null,
   "metadata": {},
   "outputs": [],
   "source": [
    "print('Number of owners: %d' % home_owner_df.shape[0])\n",
    "print('Number of renters: %d' % renter_df.shape[0])"
   ]
  },
  {
   "cell_type": "markdown",
   "metadata": {},
   "source": [
    "<font color = \"green\">\n",
    "\n",
    "* Indeed, we can see that owners tend to spend more money on products on all age ranges.\n",
    "* It is worth noticing that this might be biased due to very big difference in numbers of between renteres and owners. **Renters represent aproximatively 10% of the total number of owners.**"
   ]
  },
  {
   "cell_type": "markdown",
   "metadata": {},
   "source": [
    "### Influence of coupons over renters and owners"
   ]
  },
  {
   "cell_type": "code",
   "execution_count": null,
   "metadata": {},
   "outputs": [],
   "source": [
    "# Obtain the coupons redempt by both renters and owners\n",
    "coupons_redempt_owners = pd.merge(dataframes['coupon_redempt'], home_owner_df, how = 'inner', on = ['household_key'])\n",
    "coupons_redempt_renters = pd.merge(dataframes['coupon_redempt'], renter_df, how = 'inner', on = ['household_key'])"
   ]
  },
  {
   "cell_type": "code",
   "execution_count": null,
   "metadata": {},
   "outputs": [],
   "source": [
    "fig, (ax1, ax2) = plt.subplots(1, 2, figsize = [15, 6])\n",
    "\n",
    "unnormalized = coupons_redempt_renters.groupby('AGE_DESC').size()\n",
    "group_size = renter_df.groupby('AGE_DESC').size()\n",
    "\n",
    "ax1 = unnormalized.plot.bar(ax = ax1)\n",
    "ax1.set_title('Number of coupons redeemed by renters for every age range')\n",
    "ax1.set_ylabel('Number of coupons')\n",
    "ax1.set_xlabel('Age range')\n",
    "\n",
    "ax2 = (1. * unnormalized / group_size)[: -1].plot.bar(ax = ax2, color = 'green')\n",
    "ax2.set_title('Number of coupons redeemed by renters per age range')\n",
    "ax2.set_ylabel('Number of coupons per number of people within the age range')\n",
    "ax2.set_xlabel('Age range')\n",
    "\n",
    "group_size.index.name = 'Age Range'\n",
    "group_size.name = 'Number of renters per age range'\n",
    "\n",
    "print(group_size)\n",
    "\n",
    "unnormalized.index.name = 'Age Range'\n",
    "unnormalized.name = 'Number coupons redeemed per number of renters of age range'\n",
    "\n",
    "print(unnormalized)"
   ]
  },
  {
   "cell_type": "markdown",
   "metadata": {},
   "source": [
    "<font color = \"green\">\n",
    "\n",
    "* We see the proportions of coupons per age range are comparable even if the the numbers from people of differente ages are different.\n",
    "* Also, looking at the at the 2 series from above the plots we see that none of the renters above 65 years old redeemed any coupon."
   ]
  },
  {
   "cell_type": "code",
   "execution_count": null,
   "metadata": {},
   "outputs": [],
   "source": [
    "fig, (ax1, ax2) = plt.subplots(1, 2, figsize = [15, 6])\n",
    "\n",
    "unnormalized = coupons_redempt_owners.groupby('AGE_DESC').size()\n",
    "group_size = home_owner_df.groupby('AGE_DESC').size()\n",
    "\n",
    "ax1 = unnormalized.plot.bar(ax = ax1)\n",
    "ax1.set_title('Number of coupons redeemed by owners for every age range')\n",
    "ax1.set_xlabel('Age range')\n",
    "ax1.set_ylabel('Number of coupons')\n",
    "\n",
    "ax2 = (unnormalized / group_size).plot.bar(ax = ax2, color = 'green')\n",
    "ax2.set_title('Number of coupons redeemed by owners per age interval for every age range')\n",
    "ax2.set_xlabel('Age range')\n",
    "ax2.set_ylabel('Number of coupons per number of people within the age')\n",
    "\n",
    "group_size.index.name = 'Age Range'\n",
    "group_size.name = 'Number of owners per age range'\n",
    "group_size"
   ]
  },
  {
   "cell_type": "markdown",
   "metadata": {},
   "source": [
    "<font color = \"green\">\n",
    "\n",
    "* It is not worth comparing the number of coupons redeemed, because as we can see from the series from the above, the number of people within 45-54 years old is bigger than any number of people from any other age ranges. So we divide the number of coupons redeemed at the number of people from within the age range and we get the plot from the right.\n",
    "* Now the comparison is a more fair as it emphasizes that the ratio of coupons redeemed by people between 55-64 years old is comparable with the other ratios (fact that was hardto guess from the first plot)\n",
    "* An interesting observation would be the comparison between owners and renters for people between 19024 years old. Even though the number of people is quite the same, renters between 19-24 redeem 3 times more coupons than the owners within the same age, which is fair if you have a rent and want to save money.\n",
    "* Looking at the above 4 plots we see that people like to use coupons and get cheaper products."
   ]
  },
  {
   "cell_type": "markdown",
   "metadata": {},
   "source": [
    "# Number of coupons received by onwers and renters"
   ]
  },
  {
   "cell_type": "code",
   "execution_count": null,
   "metadata": {},
   "outputs": [],
   "source": [
    "# Merge dataframe of owners with `campaign_table` to see how many coupons the owner received\n",
    "types_of_coupons_received_owners = pd.merge(home_owner_df, dataframes['campaign_table'], how = 'inner', on = 'household_key')\n",
    "types_of_coupons_received_owners = types_of_coupons_received_owners.groupby(['AGE_DESC', 'DESCRIPTION']).size()\n",
    "\n",
    "# Merge dataframe of owners with `campaign_table` to see how many coupons the renters received\n",
    "types_of_coupons_received_renters = pd.merge(renter_df, dataframes['campaign_table'], how = 'inner', on = 'household_key')\n",
    "types_of_coupons_received_renters = types_of_coupons_received_renters.groupby(['AGE_DESC', 'DESCRIPTION']).size()"
   ]
  },
  {
   "cell_type": "code",
   "execution_count": null,
   "metadata": {},
   "outputs": [],
   "source": [
    "def plot_number_of_coupons_received(series, age_ranges, ax, index, bar_width, opcacity, title, xlabel, ylabel):\n",
    "    campaigns_type_a, campaigns_type_b, campaigns_type_c  = [], [], []\n",
    "\n",
    "    for age_range in age_ranges:\n",
    "        if 'TypeA' in series[age_range]:\n",
    "            campaigns_type_a.append(series[age_range]['TypeA'])\n",
    "        else:\n",
    "            campaigns_type_a.append(0)\n",
    "\n",
    "        if 'TypeB' in series[age_range]:\n",
    "            campaigns_type_b.append(series[age_range]['TypeB'])\n",
    "        else:\n",
    "            campaigns_type_b.append(0)\n",
    "\n",
    "        if 'TypeC' in series[age_range]:\n",
    "            campaigns_type_c.append(series[age_range]['TypeC'])\n",
    "        else:\n",
    "            campaigns_type_c.append(0)\n",
    "\n",
    "    ax.bar(index, campaigns_type_a, bar_width, alpha = opacity, color = 'blue', \\\n",
    "                               label = 'Campaigns TypeA')\n",
    "    ax.bar(index + bar_width, campaigns_type_b, bar_width, alpha = opacity, color = 'red', \\\n",
    "                               label = 'Campaigns TypeB')\n",
    "    ax.bar(index + 2 * bar_width, campaigns_type_c, bar_width, alpha = opacity, color = 'green', \\\n",
    "                               label = 'Campaigns TypeC')\n",
    "    ax.set_title(title)\n",
    "    ax.set_xlabel(xlabel)\n",
    "    ax.set_ylabel(ylabel)\n",
    "    ax.legend()"
   ]
  },
  {
   "cell_type": "code",
   "execution_count": null,
   "metadata": {},
   "outputs": [],
   "source": [
    "# Number of people from every age range\n",
    "group_size_owners = home_owner_df.groupby('AGE_DESC').size()\n",
    "group_size_renters = renter_df.groupby('AGE_DESC').size()\n",
    "\n",
    "index = np.arange(group_size_renters.shape[0])\n",
    "bar_width = 0.3\n",
    "opacity = 0.8\n",
    "\n",
    "# Plot for owners\n",
    "fig, (ax1, ax2) = plt.subplots(1, 2, figsize = [15, 6])\n",
    "plt.setp((ax1, ax2), xticks = index + bar_width, xticklabels = list(group_size_owners.index))\n",
    "\n",
    "plot_number_of_coupons_received(types_of_coupons_received_owners, age_ranges, ax1, index, bar_width, opacity, \\\n",
    "                                'Number of coupons received by owners', 'Age range', 'Number of coupons received')\n",
    "\n",
    "plot_number_of_coupons_received(types_of_coupons_received_owners / group_size_owners, age_ranges, \\\n",
    "                                ax2, index, bar_width, opacity, 'Number of coupons received by owners per age range', \\\n",
    "                                'Age range', 'Number of coupons received per age range')\n",
    "\n",
    "# Plot for renters\n",
    "fig, (ax1, ax2) = plt.subplots(1, 2, figsize = [15, 6])\n",
    "plt.setp((ax1, ax2), xticks = index, xticklabels = list(group_size_renters.index))\n",
    "\n",
    "plot_number_of_coupons_received(types_of_coupons_received_renters, age_ranges, ax1, index, bar_width, opacity, \\\n",
    "                                'Number of coupons received by renters', 'Age range', 'Number of coupons received')\n",
    "\n",
    "plot_number_of_coupons_received(types_of_coupons_received_renters / group_size_renters, age_ranges, \\\n",
    "                                ax2, index, bar_width, opacity, 'Number of coupons received by renters per age range', \\\n",
    "                                'Age range', 'Number of coupons received per age range')\n",
    "\n",
    "group_size_owners.index.name = 'Age Range'\n",
    "group_size_owners.name = 'Number of owners per age range'\n",
    "\n",
    "group_size_renters.index.name = 'Age Range'\n",
    "group_size_renters.name = 'Number of owners per age range'\n",
    "\n",
    "\n",
    "print(group_size_owners)\n",
    "print(group_size_renters)"
   ]
  },
  {
   "cell_type": "markdown",
   "metadata": {},
   "source": [
    "<font color = \"green\">\n",
    "\n",
    "* Looking at the 2 plots from the left for both owners and renters we see that people with ages between 45-54 years old (for owners) and 35-44 years old (for owners) received more tickets because they are more than the othe peple in other catagories.\n",
    "* Looking at the plots from the right, that denote the number of coupons in average received by a person within a certain age range, we see that the number of campaign people are advertised with does not seem to depend on the age, stores trying to win as more clients as possible."
   ]
  },
  {
   "cell_type": "markdown",
   "metadata": {},
   "source": [
    "# What kind of people redeemed the coupons and on what kind of products"
   ]
  },
  {
   "cell_type": "markdown",
   "metadata": {},
   "source": [
    "<font color = \"green\">\n",
    "\n",
    "We will look a little bit more in depth on how people spent the coupons depending on the families these come from"
   ]
  },
  {
   "cell_type": "code",
   "execution_count": null,
   "metadata": {},
   "outputs": [],
   "source": [
    "people = dataframes['hh_demographic']\n",
    "\n",
    "# Obtain transaction where coupons were redeemed\n",
    "coupons_redeemed = pd.merge(people, dataframes['coupon_redempt'], how = 'inner', on = 'household_key')\n",
    "group_size_families = home_owner_df.groupby('HH_COMP_DESC').size()"
   ]
  },
  {
   "cell_type": "code",
   "execution_count": null,
   "metadata": {},
   "outputs": [],
   "source": [
    "ax = coupons_redeemed.groupby('HH_COMP_DESC').size().plot.bar()\n",
    "ax.set_xlabel('Family composition')\n",
    "ax.set_ylabel('Frequency')\n",
    "ax.set_title('Distribution of coupons redeemed')\n",
    "\n",
    "group_size_families"
   ]
  },
  {
   "cell_type": "markdown",
   "metadata": {},
   "source": [
    "<font color = \"green\">\n",
    "\n",
    "* Indeed, we can see in the above plot that families that have kids redeem more coupons (looking at the bar with with **1 Adult Kids** and **2 Adults Kids**) as their number is bigger, so the comparison would not be fair without dividing by the number of households from every category."
   ]
  },
  {
   "cell_type": "code",
   "execution_count": null,
   "metadata": {},
   "outputs": [],
   "source": [
    "# Dataframe with all the transactions\n",
    "transactions_df = pd.merge(people, dataframes['transaction_data'], how = 'inner', on = 'household_key')\n",
    "transactions_products_df = pd.merge(transactions_df, dataframes['product'], how = 'inner', on = 'PRODUCT_ID')"
   ]
  },
  {
   "cell_type": "code",
   "execution_count": null,
   "metadata": {},
   "outputs": [],
   "source": [
    "groceries = transactions_products_df[transactions_products_df['DEPARTMENT'].\\\n",
    "                                     isin(['GROCERY', 'PASTRY', 'GRO BAKERY', 'PASTRY', \\\n",
    "                                           'FROZEN GROCERY'])].groupby('HH_COMP_DESC').size()\n",
    "meat = transactions_products_df[transactions_products_df['DEPARTMENT'].\\\n",
    "                                isin(['MEAT-PCKGD', 'MEAT', 'MEAT-WHSE', 'PORK'])].\\\n",
    "                                groupby('HH_COMP_DESC').size()\n",
    "seafood = transactions_products_df[transactions_products_df['DEPARTMENT'].\\\n",
    "                                isin(['SEAFOOD-PCKGD', 'SEAFOOD'])].groupby('HH_COMP_DESC').size()\n",
    "medicines = transactions_products_df[transactions_products_df['DEPARTMENT'].\\\n",
    "                                isin(['DRUG GM', 'PHARMACY SUPPLY'])].groupby('HH_COMP_DESC').size()\n",
    "nutrition = transactions_products_df[transactions_products_df['DEPARTMENT'].\\\n",
    "                                isin(['NUTRITION'])].groupby('HH_COMP_DESC').size()"
   ]
  },
  {
   "cell_type": "code",
   "execution_count": null,
   "metadata": {},
   "outputs": [],
   "source": [
    "def plot_bar_series(series, xlabel, ylabel, title, ax, color = None):\n",
    "    if color != None:\n",
    "        ax = series.plot.bar(ax = ax, color = color)\n",
    "    else:\n",
    "        ax = series.plot.bar(ax = ax)\n",
    "\n",
    "    ax.set_xlabel(xlabel)\n",
    "    ax.set_ylabel(ylabel)\n",
    "    ax.set_title(title)"
   ]
  },
  {
   "cell_type": "code",
   "execution_count": null,
   "metadata": {},
   "outputs": [],
   "source": [
    "fig, (ax1, ax2) = plt.subplots(1, 2, figsize = [15, 6])\n",
    "\n",
    "plot_bar_series(groceries, 'Family Composition', 'Number of Transaction', \\\n",
    "                'Transactions for Groceries Products', ax1)\n",
    "plot_bar_series(groceries / group_size_families, 'Family Composition', 'Number of Transactions per Number of Families', \\\n",
    "                'Transactions for Groceries Products per Number of Families in every category', ax2, color = 'green')"
   ]
  },
  {
   "cell_type": "markdown",
   "metadata": {},
   "source": [
    "<font color = \"green\">\n",
    "    \n",
    "* The second plot provides a more honest comparison as we can notice that despite there are far less transactions for families with only 1 parent (because they are much less than families with 2 parents) we see that they buy groceries much more frequent  than families with 2 adults (with or without kids)"
   ]
  },
  {
   "cell_type": "code",
   "execution_count": null,
   "metadata": {},
   "outputs": [],
   "source": [
    "fig, (ax1, ax2) = plt.subplots(1, 2, figsize = [15, 6])\n",
    "\n",
    "plot_bar_series(meat, 'Family Composition', 'Number of Transaction', 'Transactions for Meat Products', ax1)\n",
    "plot_bar_series(meat / group_size_families, 'Family Composition', 'Number of Transactions per Number of Families', \\\n",
    "                'Transactions for Meat Products per Number of Families in every category', ax2, color = 'green')"
   ]
  },
  {
   "cell_type": "markdown",
   "metadata": {},
   "source": [
    "<font color = \"green\">\n",
    "    \n",
    "* We see again the same behavior as in the plots for groceries, families with 1 adult buying more frequent than the others\n",
    "* It is interesting to remark that signle females buy meat more frequently than men."
   ]
  },
  {
   "cell_type": "code",
   "execution_count": null,
   "metadata": {},
   "outputs": [],
   "source": [
    "fig, (ax1, ax2) = plt.subplots(1, 2, figsize = [15, 6])\n",
    "\n",
    "plot_bar_series(seafood, 'Family Composition', 'Number of Transactions', 'Transactions for Seafood Products', ax1)\n",
    "plot_bar_series(seafood / group_size_families, 'Family Composition', 'Number of Transactions per Number of Families', \\\n",
    "                'Transactions for Seafood Products per Number of Families in every category', ax2, color = 'green')"
   ]
  },
  {
   "cell_type": "markdown",
   "metadata": {},
   "source": [
    "<font color = \"green\">\n",
    "\n",
    "* The trend does not seem to change."
   ]
  },
  {
   "cell_type": "code",
   "execution_count": null,
   "metadata": {},
   "outputs": [],
   "source": [
    "fig, (ax1, ax2) = plt.subplots(1, 2, figsize = [15, 6])\n",
    "\n",
    "plot_bar_series(medicines, 'Family Composition', 'Number of Transactions', 'Transactions for Medicine Products', ax1)\n",
    "plot_bar_series(medicines / group_size_families, 'Family Composition', 'Number of Transactions per Number of families', \\\n",
    "                'Transactions for Medicine Products per Number of Families in every category', ax2, color = 'green')"
   ]
  },
  {
   "cell_type": "markdown",
   "metadata": {},
   "source": [
    "<font color = \"green\">\n",
    "\n",
    "* The trend does not seem to change."
   ]
  },
  {
   "cell_type": "code",
   "execution_count": null,
   "metadata": {},
   "outputs": [],
   "source": [
    "fig, (ax1, ax2) = plt.subplots(1, 2, figsize = [15, 6])\n",
    "\n",
    "plot_bar_series(nutrition, 'Family Composition', 'Number of Transactions', 'Transactions for Nutrition Products', ax1)\n",
    "plot_bar_series(nutrition / group_size_families, 'Family Composition', 'Number of Transactions per Number of families', \\\n",
    "                'Transactions for Nutrition Products per Number of Families in every category', ax2, color = 'green')"
   ]
  },
  {
   "cell_type": "code",
   "execution_count": null,
   "metadata": {},
   "outputs": [],
   "source": [
    "dataframes['product'][dataframes['product']['DEPARTMENT'] == 'NUTRITION']['SUB_COMMODITY_DESC'].unique()"
   ]
  },
  {
   "cell_type": "markdown",
   "metadata": {},
   "source": [
    "<font color = \"green\">\n",
    "\n",
    "* We see that single males byt more nutrtion products than signle women. If we look at the list of unique products from nutrition category we see that these products are not so healthy (like FROZEN BURGERS, CANDY W/O FLOUR etc).\n",
    "* It seem that single females pay more attention with when they are going to shopping than single men."
   ]
  },
  {
   "cell_type": "markdown",
   "metadata": {},
   "source": [
    "<font color = \"green\">\n",
    "    \n",
    "* Looking at the 8 plots above (number of transactions for **groceries**, **meat**, **seafod** and **medicine**) unnormalized (on the left) and normalized (on the right) we draw the conclusion that families with 2 adults (with and withou kids) have more balanced behavior when it comes about shopping. We can notice that by looking at the plots on the right that the frequency of transactions for these 2 groups is smalles than the frequqncy of transactions for the other groups.\n",
    "* Single females tend to have the same frequency of buying with single men, though it is to remark that they buy healthier products (they have a higher freuqncy than single men when it comes about seafood and meat products, a comparable frequency of buying groceries and a smaller frquency of buying nutrition products which are mostly dominated by unhealthy products."
   ]
  },
  {
   "cell_type": "markdown",
   "metadata": {},
   "source": [
    "# Do some demographic groups tend to shop more frequently than others?"
   ]
  },
  {
   "cell_type": "markdown",
   "metadata": {},
   "source": [
    "<font color = \"green\">\n",
    "We decided to look at shopping frequency, measured by how many days people went shopping within the study period. We broke this down by all the available demographic groups to look for patterns."
   ]
  },
  {
   "cell_type": "code",
   "execution_count": 29,
   "metadata": {},
   "outputs": [],
   "source": [
    "dem_trans = pd.merge(data['hh_demographic'], data['transaction_data'], on='household_key')"
   ]
  },
  {
   "cell_type": "code",
   "execution_count": 30,
   "metadata": {},
   "outputs": [
    {
     "data": {
      "text/plain": [
       "Text(0.5, 1.0, 'Number of different days people of different ages went shopping in the study period')"
      ]
     },
     "execution_count": 30,
     "metadata": {},
     "output_type": "execute_result"
    },
    {
     "data": {
      "image/png": "[encoded data removed]",
      "text/plain": [
       "<Figure size 432x288 with 1 Axes>"
      ]
     },
     "metadata": {
      "needs_background": "light"
     },
     "output_type": "display_data"
    }
   ],
   "source": [
    "by_age = dem_trans.groupby(['household_key', 'AGE_DESC']).agg({'DAY': 'nunique'})\n",
    "y = by_age.groupby('AGE_DESC')\n",
    "y.mean().plot.bar(yerr=y.sem())\n",
    "plt.xlabel('Age range')\n",
    "plt.ylabel('Number of days went shopping')\n",
    "plt.title('Number of different days people of different ages went shopping in the study period')"
   ]
  },
  {
   "cell_type": "code",
   "execution_count": 31,
   "metadata": {},
   "outputs": [
    {
     "data": {
      "text/plain": [
       "Text(0.5, 1.0, 'Number of different days people with different incomes went shopping in the study period')"
      ]
     },
     "execution_count": 31,
     "metadata": {},
     "output_type": "execute_result"
    },
    {
     "data": {
      "image/png": "[encoded data removed]",
      "text/plain": [
       "<Figure size 432x288 with 1 Axes>"
      ]
     },
     "metadata": {
      "needs_background": "light"
     },
     "output_type": "display_data"
    }
   ],
   "source": [
    "categories = ['Under 15K', '15-24K', '25-34K', '35-49K', '50-74K', '75-99K', '100-124K',\n",
    "              '125-149K', '150-174K', '175-199K', '200-249K', '250K+']\n",
    "\n",
    "mapping = {income: i for i, income in enumerate(categories)}\n",
    "by_income = dem_trans.groupby(['household_key', 'INCOME_DESC'], as_index=False).agg({'DAY': 'nunique'})\n",
    "group = by_income.groupby('INCOME_DESC', as_index=False)\n",
    "key = group.mean().INCOME_DESC.map(mapping)\n",
    "\n",
    "group.mean().set_index('INCOME_DESC').iloc[key.argsort()].DAY.plot.bar(yerr=group.agg({'DAY': 'sem'}).set_index('INCOME_DESC').iloc[key.argsort()].DAY)\n",
    "plt.xlabel('Income range')\n",
    "plt.ylabel('Number of days went shopping')\n",
    "plt.title('Number of different days people with different incomes went shopping in the study period')"
   ]
  },
  {
   "cell_type": "code",
   "execution_count": 32,
   "metadata": {},
   "outputs": [
    {
     "data": {
      "image/png": "[encoded data removed]",
      "text/plain": [
       "<Figure size 432x288 with 1 Axes>"
      ]
     },
     "metadata": {
      "needs_background": "light"
     },
     "output_type": "display_data"
    }
   ],
   "source": [
    "by_kids = dem_trans.groupby(['household_key', 'KID_CATEGORY_DESC']).agg({'DAY': 'nunique'})\n",
    "y = by_kids.groupby('KID_CATEGORY_DESC')\n",
    "y.mean().plot.bar(yerr=y.sem())\n",
    "plt.xlabel('Kid range')\n",
    "plt.ylabel('Number of days went shopping')\n",
    "plt.title('Number of different days people with different # of kids went shopping in the study period')\n",
    "plt.legend().remove()"
   ]
  },
  {
   "cell_type": "code",
   "execution_count": 33,
   "metadata": {},
   "outputs": [
    {
     "data": {
      "image/png": "[encoded data removed]",
      "text/plain": [
       "<Figure size 432x288 with 1 Axes>"
      ]
     },
     "metadata": {
      "needs_background": "light"
     },
     "output_type": "display_data"
    }
   ],
   "source": [
    "by_ho = dem_trans.groupby(['household_key', 'HOMEOWNER_DESC']).agg({'DAY': 'nunique'})\n",
    "y = by_ho.groupby('HOMEOWNER_DESC')\n",
    "y.mean().plot.bar(yerr=y.sem())\n",
    "plt.xlabel('Homeowner status')\n",
    "plt.ylabel('Number of days went shopping')\n",
    "plt.title('Number of different days people with different homewoner status went shopping in the study period')\n",
    "plt.legend().remove()"
   ]
  },
  {
   "cell_type": "code",
   "execution_count": 34,
   "metadata": {},
   "outputs": [
    {
     "data": {
      "image/png": "[encoded data removed]",
      "text/plain": [
       "<Figure size 432x288 with 1 Axes>"
      ]
     },
     "metadata": {
      "needs_background": "light"
     },
     "output_type": "display_data"
    }
   ],
   "source": [
    "by_hh = dem_trans.groupby(['household_key', 'HH_COMP_DESC']).agg({'DAY': 'nunique'})\n",
    "y = by_hh.groupby('HH_COMP_DESC')\n",
    "y.mean().plot.bar(yerr=y.sem())\n",
    "plt.xlabel('Household status')\n",
    "plt.ylabel('Number of days went shopping')\n",
    "plt.title('Number of different days people with different household status went shopping in the study period')\n",
    "plt.legend().remove()"
   ]
  },
  {
   "cell_type": "code",
   "execution_count": 35,
   "metadata": {},
   "outputs": [
    {
     "data": {
      "image/png": "[encoded data removed]",
      "text/plain": [
       "<Figure size 432x288 with 1 Axes>"
      ]
     },
     "metadata": {
      "needs_background": "light"
     },
     "output_type": "display_data"
    }
   ],
   "source": [
    "by_hh = dem_trans.groupby(['household_key', 'HH_COMP_DESC']).agg({'DAY': 'nunique'})\n",
    "y = by_hh.groupby('HH_COMP_DESC')\n",
    "y.mean().plot.bar(yerr=y.sem())\n",
    "plt.xlabel('Household status')\n",
    "plt.ylabel('Number of days went shopping')\n",
    "plt.title('Number of different days people with different household status went shopping in the study period')\n",
    "plt.legend().remove()"
   ]
  },
  {
   "cell_type": "code",
   "execution_count": 51,
   "metadata": {},
   "outputs": [
    {
     "name": "stdout",
     "output_type": "stream",
     "text": [
      "Number of households per category\n"
     ]
    },
    {
     "data": {
      "text/html": [
       "<div>\n",
       "<style scoped>\n",
       "    .dataframe tbody tr th:only-of-type {\n",
       "        vertical-align: middle;\n",
       "    }\n",
       "\n",
       "    .dataframe tbody tr th {\n",
       "        vertical-align: top;\n",
       "    }\n",
       "\n",
       "    .dataframe thead th {\n",
       "        text-align: right;\n",
       "    }\n",
       "</style>\n",
       "<table border=\"1\" class=\"dataframe\">\n",
       "  <thead>\n",
       "    <tr style=\"text-align: right;\">\n",
       "      <th></th>\n",
       "      <th>household_key</th>\n",
       "    </tr>\n",
       "    <tr>\n",
       "      <th>INCOME_DESC</th>\n",
       "      <th></th>\n",
       "    </tr>\n",
       "  </thead>\n",
       "  <tbody>\n",
       "    <tr>\n",
       "      <th>100-124K</th>\n",
       "      <td>34</td>\n",
       "    </tr>\n",
       "    <tr>\n",
       "      <th>125-149K</th>\n",
       "      <td>38</td>\n",
       "    </tr>\n",
       "    <tr>\n",
       "      <th>15-24K</th>\n",
       "      <td>74</td>\n",
       "    </tr>\n",
       "    <tr>\n",
       "      <th>150-174K</th>\n",
       "      <td>30</td>\n",
       "    </tr>\n",
       "    <tr>\n",
       "      <th>175-199K</th>\n",
       "      <td>11</td>\n",
       "    </tr>\n",
       "    <tr>\n",
       "      <th>200-249K</th>\n",
       "      <td>5</td>\n",
       "    </tr>\n",
       "    <tr>\n",
       "      <th>25-34K</th>\n",
       "      <td>77</td>\n",
       "    </tr>\n",
       "    <tr>\n",
       "      <th>250K+</th>\n",
       "      <td>11</td>\n",
       "    </tr>\n",
       "    <tr>\n",
       "      <th>35-49K</th>\n",
       "      <td>172</td>\n",
       "    </tr>\n",
       "    <tr>\n",
       "      <th>50-74K</th>\n",
       "      <td>192</td>\n",
       "    </tr>\n",
       "    <tr>\n",
       "      <th>75-99K</th>\n",
       "      <td>96</td>\n",
       "    </tr>\n",
       "    <tr>\n",
       "      <th>Under 15K</th>\n",
       "      <td>61</td>\n",
       "    </tr>\n",
       "  </tbody>\n",
       "</table>\n",
       "</div>"
      ],
      "text/plain": [
       "             household_key\n",
       "INCOME_DESC               \n",
       "100-124K                34\n",
       "125-149K                38\n",
       "15-24K                  74\n",
       "150-174K                30\n",
       "175-199K                11\n",
       "200-249K                 5\n",
       "25-34K                  77\n",
       "250K+                   11\n",
       "35-49K                 172\n",
       "50-74K                 192\n",
       "75-99K                  96\n",
       "Under 15K               61"
      ]
     },
     "execution_count": 51,
     "metadata": {},
     "output_type": "execute_result"
    }
   ],
   "source": [
    "print('Number of households per category')\n",
    "dem_trans.groupby(['INCOME_DESC']).agg({'household_key': 'nunique'})"
   ]
  },
  {
   "cell_type": "code",
   "execution_count": 52,
   "metadata": {},
   "outputs": [
    {
     "name": "stdout",
     "output_type": "stream",
     "text": [
      "Number of households with demographic info: 801\n"
     ]
    }
   ],
   "source": [
    "print('Number of households with demographic info:', dem_trans.groupby(['INCOME_DESC']).agg({'household_key': 'nunique'}).sum()[0])"
   ]
  },
  {
   "cell_type": "markdown",
   "metadata": {},
   "source": [
    "<font color = \"green\">\n",
    "The only demographic feature that shows a significant different in number of days they went shopping is the income category. It's surprising that we see such a large dip for 200-249k but not for the two surrounding categories. Checking the number of households per group, we see 200-249K has the least at only 5 households, which could explain this discrepancy. We cannot assume that these 5 households reflect the trend in the rest of the population because it is too small of a sample. Thus, this dataset does not support the hypothesis that different demographic groups tend to shop with different frequencies. It would be helpful to have a larger dataset of demographic data, since this dataset had demographic information for only 801 households, with the distribution between groups being very uneven in some cases, as shown in the above table"
   ]
  },
  {
   "cell_type": "markdown",
   "metadata": {},
   "source": [
    "# How types of promotions and promotions in general impact sales?"
   ]
  },
  {
   "cell_type": "markdown",
   "metadata": {},
   "source": [
    "<font color = \"green\">\n",
    "The aim of this section is show the efficacy of a particualr discount medium on the sales of a particular category. In this section we consider sales and promotion information on the top five products from each of the top three\n",
    "brands within four selected categories (mouthwash, pretzels, frozen pizza, and boxed cereal), gathered from a sample of stores over 156 weeks."
   ]
  },
  {
   "cell_type": "code",
   "execution_count": 1,
   "metadata": {},
   "outputs": [],
   "source": [
    "import pandas as pd\n",
    "import numpy as np\n",
    "from ipywidgets import interact\n",
    "import matplotlib.pyplot as plt\n",
    "import seaborn as sns\n",
    "\n",
    "#Necessary for diaplaying all outputs; otherwise only gsd.colums will be displayed. \n",
    "from IPython.core.interactiveshell import InteractiveShell\n",
    "InteractiveShell.ast_node_interactivity = \"all\""
   ]
  },
  {
   "cell_type": "code",
   "execution_count": 2,
   "metadata": {},
   "outputs": [],
   "source": [
    "#Loading the dataframes\n",
    "products=pd.read_csv(\"data/products.csv\")\n",
    "transactions=pd.read_csv(\"data/transactions.csv\")\n",
    "stores=pd.read_csv(\"data/stores.csv\")"
   ]
  },
  {
   "cell_type": "code",
   "execution_count": 3,
   "metadata": {},
   "outputs": [
    {
     "data": {
      "text/html": [
       "<div>\n",
       "<style scoped>\n",
       "    .dataframe tbody tr th:only-of-type {\n",
       "        vertical-align: middle;\n",
       "    }\n",
       "\n",
       "    .dataframe tbody tr th {\n",
       "        vertical-align: top;\n",
       "    }\n",
       "\n",
       "    .dataframe thead th {\n",
       "        text-align: right;\n",
       "    }\n",
       "</style>\n",
       "<table border=\"1\" class=\"dataframe\">\n",
       "  <thead>\n",
       "    <tr style=\"text-align: right;\">\n",
       "      <th></th>\n",
       "      <th>UPC</th>\n",
       "      <th>DESCRIPTION</th>\n",
       "      <th>MANUFACTURER</th>\n",
       "      <th>CATEGORY</th>\n",
       "      <th>SUB_CATEGORY</th>\n",
       "      <th>PRODUCT_SIZE</th>\n",
       "    </tr>\n",
       "  </thead>\n",
       "  <tbody>\n",
       "    <tr>\n",
       "      <th>0</th>\n",
       "      <td>1111009477</td>\n",
       "      <td>PL MINI TWIST PRETZELS</td>\n",
       "      <td>PRIVATE LABEL</td>\n",
       "      <td>BAG SNACKS</td>\n",
       "      <td>PRETZELS</td>\n",
       "      <td>15 OZ</td>\n",
       "    </tr>\n",
       "    <tr>\n",
       "      <th>1</th>\n",
       "      <td>1111009497</td>\n",
       "      <td>PL PRETZEL STICKS</td>\n",
       "      <td>PRIVATE LABEL</td>\n",
       "      <td>BAG SNACKS</td>\n",
       "      <td>PRETZELS</td>\n",
       "      <td>15 OZ</td>\n",
       "    </tr>\n",
       "    <tr>\n",
       "      <th>2</th>\n",
       "      <td>1111009507</td>\n",
       "      <td>PL TWIST PRETZELS</td>\n",
       "      <td>PRIVATE LABEL</td>\n",
       "      <td>BAG SNACKS</td>\n",
       "      <td>PRETZELS</td>\n",
       "      <td>15 OZ</td>\n",
       "    </tr>\n",
       "    <tr>\n",
       "      <th>3</th>\n",
       "      <td>1111035398</td>\n",
       "      <td>PL BL MINT ANTSPTC RINSE</td>\n",
       "      <td>PRIVATE LABEL</td>\n",
       "      <td>ORAL HYGIENE PRODUCTS</td>\n",
       "      <td>MOUTHWASHES (ANTISEPTIC)</td>\n",
       "      <td>1.5 LT</td>\n",
       "    </tr>\n",
       "    <tr>\n",
       "      <th>4</th>\n",
       "      <td>1111038078</td>\n",
       "      <td>PL BL MINT ANTSPTC RINSE</td>\n",
       "      <td>PRIVATE LABEL</td>\n",
       "      <td>ORAL HYGIENE PRODUCTS</td>\n",
       "      <td>MOUTHWASHES (ANTISEPTIC)</td>\n",
       "      <td>500 ML</td>\n",
       "    </tr>\n",
       "  </tbody>\n",
       "</table>\n",
       "</div>"
      ],
      "text/plain": [
       "          UPC               DESCRIPTION   MANUFACTURER               CATEGORY  \\\n",
       "0  1111009477    PL MINI TWIST PRETZELS  PRIVATE LABEL             BAG SNACKS   \n",
       "1  1111009497         PL PRETZEL STICKS  PRIVATE LABEL             BAG SNACKS   \n",
       "2  1111009507         PL TWIST PRETZELS  PRIVATE LABEL             BAG SNACKS   \n",
       "3  1111035398  PL BL MINT ANTSPTC RINSE  PRIVATE LABEL  ORAL HYGIENE PRODUCTS   \n",
       "4  1111038078  PL BL MINT ANTSPTC RINSE  PRIVATE LABEL  ORAL HYGIENE PRODUCTS   \n",
       "\n",
       "               SUB_CATEGORY PRODUCT_SIZE  \n",
       "0                  PRETZELS        15 OZ  \n",
       "1                  PRETZELS        15 OZ  \n",
       "2                  PRETZELS        15 OZ  \n",
       "3  MOUTHWASHES (ANTISEPTIC)       1.5 LT  \n",
       "4  MOUTHWASHES (ANTISEPTIC)       500 ML  "
      ]
     },
     "execution_count": 3,
     "metadata": {},
     "output_type": "execute_result"
    },
    {
     "data": {
      "text/html": [
       "<div>\n",
       "<style scoped>\n",
       "    .dataframe tbody tr th:only-of-type {\n",
       "        vertical-align: middle;\n",
       "    }\n",
       "\n",
       "    .dataframe tbody tr th {\n",
       "        vertical-align: top;\n",
       "    }\n",
       "\n",
       "    .dataframe thead th {\n",
       "        text-align: right;\n",
       "    }\n",
       "</style>\n",
       "<table border=\"1\" class=\"dataframe\">\n",
       "  <thead>\n",
       "    <tr style=\"text-align: right;\">\n",
       "      <th></th>\n",
       "      <th>WEEK_END_DATE</th>\n",
       "      <th>STORE_NUM</th>\n",
       "      <th>UPC</th>\n",
       "      <th>UNITS</th>\n",
       "      <th>VISITS</th>\n",
       "      <th>HHS</th>\n",
       "      <th>SPEND</th>\n",
       "      <th>PRICE</th>\n",
       "      <th>BASE_PRICE</th>\n",
       "      <th>FEATURE</th>\n",
       "      <th>DISPLAY</th>\n",
       "      <th>TPR_ONLY</th>\n",
       "    </tr>\n",
       "  </thead>\n",
       "  <tbody>\n",
       "    <tr>\n",
       "      <th>0</th>\n",
       "      <td>2009-01-14 00:00:00</td>\n",
       "      <td>367</td>\n",
       "      <td>1111009477</td>\n",
       "      <td>13</td>\n",
       "      <td>13</td>\n",
       "      <td>13</td>\n",
       "      <td>18.07</td>\n",
       "      <td>1.39</td>\n",
       "      <td>1.57</td>\n",
       "      <td>0</td>\n",
       "      <td>0</td>\n",
       "      <td>1</td>\n",
       "    </tr>\n",
       "    <tr>\n",
       "      <th>1</th>\n",
       "      <td>2009-01-14 00:00:00</td>\n",
       "      <td>367</td>\n",
       "      <td>1111009497</td>\n",
       "      <td>20</td>\n",
       "      <td>18</td>\n",
       "      <td>18</td>\n",
       "      <td>27.80</td>\n",
       "      <td>1.39</td>\n",
       "      <td>1.39</td>\n",
       "      <td>0</td>\n",
       "      <td>0</td>\n",
       "      <td>0</td>\n",
       "    </tr>\n",
       "    <tr>\n",
       "      <th>2</th>\n",
       "      <td>2009-01-14 00:00:00</td>\n",
       "      <td>367</td>\n",
       "      <td>1111009507</td>\n",
       "      <td>14</td>\n",
       "      <td>14</td>\n",
       "      <td>14</td>\n",
       "      <td>19.32</td>\n",
       "      <td>1.38</td>\n",
       "      <td>1.38</td>\n",
       "      <td>0</td>\n",
       "      <td>0</td>\n",
       "      <td>0</td>\n",
       "    </tr>\n",
       "    <tr>\n",
       "      <th>3</th>\n",
       "      <td>2009-01-14 00:00:00</td>\n",
       "      <td>367</td>\n",
       "      <td>1111035398</td>\n",
       "      <td>4</td>\n",
       "      <td>3</td>\n",
       "      <td>3</td>\n",
       "      <td>14.00</td>\n",
       "      <td>3.50</td>\n",
       "      <td>4.49</td>\n",
       "      <td>0</td>\n",
       "      <td>0</td>\n",
       "      <td>1</td>\n",
       "    </tr>\n",
       "    <tr>\n",
       "      <th>4</th>\n",
       "      <td>2009-01-14 00:00:00</td>\n",
       "      <td>367</td>\n",
       "      <td>1111038078</td>\n",
       "      <td>3</td>\n",
       "      <td>3</td>\n",
       "      <td>3</td>\n",
       "      <td>7.50</td>\n",
       "      <td>2.50</td>\n",
       "      <td>2.50</td>\n",
       "      <td>0</td>\n",
       "      <td>0</td>\n",
       "      <td>0</td>\n",
       "    </tr>\n",
       "  </tbody>\n",
       "</table>\n",
       "</div>"
      ],
      "text/plain": [
       "         WEEK_END_DATE  STORE_NUM         UPC  UNITS  VISITS  HHS  SPEND  \\\n",
       "0  2009-01-14 00:00:00        367  1111009477     13      13   13  18.07   \n",
       "1  2009-01-14 00:00:00        367  1111009497     20      18   18  27.80   \n",
       "2  2009-01-14 00:00:00        367  1111009507     14      14   14  19.32   \n",
       "3  2009-01-14 00:00:00        367  1111035398      4       3    3  14.00   \n",
       "4  2009-01-14 00:00:00        367  1111038078      3       3    3   7.50   \n",
       "\n",
       "   PRICE  BASE_PRICE  FEATURE  DISPLAY  TPR_ONLY  \n",
       "0   1.39        1.57        0        0         1  \n",
       "1   1.39        1.39        0        0         0  \n",
       "2   1.38        1.38        0        0         0  \n",
       "3   3.50        4.49        0        0         1  \n",
       "4   2.50        2.50        0        0         0  "
      ]
     },
     "execution_count": 3,
     "metadata": {},
     "output_type": "execute_result"
    },
    {
     "data": {
      "text/html": [
       "<div>\n",
       "<style scoped>\n",
       "    .dataframe tbody tr th:only-of-type {\n",
       "        vertical-align: middle;\n",
       "    }\n",
       "\n",
       "    .dataframe tbody tr th {\n",
       "        vertical-align: top;\n",
       "    }\n",
       "\n",
       "    .dataframe thead th {\n",
       "        text-align: right;\n",
       "    }\n",
       "</style>\n",
       "<table border=\"1\" class=\"dataframe\">\n",
       "  <thead>\n",
       "    <tr style=\"text-align: right;\">\n",
       "      <th></th>\n",
       "      <th>STORE_ID</th>\n",
       "      <th>STORE_NAME</th>\n",
       "      <th>ADDRESS_CITY_NAME</th>\n",
       "      <th>ADDRESS_STATE_PROV_CODE</th>\n",
       "      <th>MSA_CODE</th>\n",
       "      <th>SEG_VALUE_NAME</th>\n",
       "      <th>PARKING_SPACE_QTY</th>\n",
       "      <th>SALES_AREA_SIZE_NUM</th>\n",
       "      <th>AVG_WEEKLY_BASKETS</th>\n",
       "    </tr>\n",
       "  </thead>\n",
       "  <tbody>\n",
       "    <tr>\n",
       "      <th>0</th>\n",
       "      <td>389</td>\n",
       "      <td>SILVERLAKE</td>\n",
       "      <td>ERLANGER</td>\n",
       "      <td>KY</td>\n",
       "      <td>17140</td>\n",
       "      <td>MAINSTREAM</td>\n",
       "      <td>408.0</td>\n",
       "      <td>46073</td>\n",
       "      <td>24766.807692</td>\n",
       "    </tr>\n",
       "    <tr>\n",
       "      <th>1</th>\n",
       "      <td>2277</td>\n",
       "      <td>ANDERSON TOWNE CTR</td>\n",
       "      <td>CINCINNATI</td>\n",
       "      <td>OH</td>\n",
       "      <td>17140</td>\n",
       "      <td>UPSCALE</td>\n",
       "      <td>NaN</td>\n",
       "      <td>81958</td>\n",
       "      <td>54052.519231</td>\n",
       "    </tr>\n",
       "    <tr>\n",
       "      <th>2</th>\n",
       "      <td>4259</td>\n",
       "      <td>WARSAW AVENUE</td>\n",
       "      <td>CINCINNATI</td>\n",
       "      <td>OH</td>\n",
       "      <td>17140</td>\n",
       "      <td>VALUE</td>\n",
       "      <td>NaN</td>\n",
       "      <td>48813</td>\n",
       "      <td>31177.333333</td>\n",
       "    </tr>\n",
       "    <tr>\n",
       "      <th>3</th>\n",
       "      <td>6379</td>\n",
       "      <td>KINGWOOD</td>\n",
       "      <td>KINGWOOD</td>\n",
       "      <td>TX</td>\n",
       "      <td>26420</td>\n",
       "      <td>MAINSTREAM</td>\n",
       "      <td>NaN</td>\n",
       "      <td>50237</td>\n",
       "      <td>20620.423077</td>\n",
       "    </tr>\n",
       "    <tr>\n",
       "      <th>4</th>\n",
       "      <td>6431</td>\n",
       "      <td>AT WARD ROAD</td>\n",
       "      <td>BAYTOWN</td>\n",
       "      <td>TX</td>\n",
       "      <td>26420</td>\n",
       "      <td>VALUE</td>\n",
       "      <td>350.0</td>\n",
       "      <td>43698</td>\n",
       "      <td>24321.942308</td>\n",
       "    </tr>\n",
       "  </tbody>\n",
       "</table>\n",
       "</div>"
      ],
      "text/plain": [
       "   STORE_ID          STORE_NAME ADDRESS_CITY_NAME ADDRESS_STATE_PROV_CODE  \\\n",
       "0       389          SILVERLAKE          ERLANGER                      KY   \n",
       "1      2277  ANDERSON TOWNE CTR        CINCINNATI                      OH   \n",
       "2      4259       WARSAW AVENUE        CINCINNATI                      OH   \n",
       "3      6379            KINGWOOD          KINGWOOD                      TX   \n",
       "4      6431        AT WARD ROAD           BAYTOWN                      TX   \n",
       "\n",
       "   MSA_CODE SEG_VALUE_NAME  PARKING_SPACE_QTY  SALES_AREA_SIZE_NUM  \\\n",
       "0     17140     MAINSTREAM              408.0                46073   \n",
       "1     17140        UPSCALE                NaN                81958   \n",
       "2     17140          VALUE                NaN                48813   \n",
       "3     26420     MAINSTREAM                NaN                50237   \n",
       "4     26420          VALUE              350.0                43698   \n",
       "\n",
       "   AVG_WEEKLY_BASKETS  \n",
       "0        24766.807692  \n",
       "1        54052.519231  \n",
       "2        31177.333333  \n",
       "3        20620.423077  \n",
       "4        24321.942308  "
      ]
     },
     "execution_count": 3,
     "metadata": {},
     "output_type": "execute_result"
    }
   ],
   "source": [
    "# showing the heads of the data frames\n",
    "products.head()\n",
    "transactions.head()\n",
    "stores.head()"
   ]
  },
  {
   "cell_type": "code",
   "execution_count": 4,
   "metadata": {},
   "outputs": [
    {
     "data": {
      "text/plain": [
       "array(['BAG SNACKS', 'ORAL HYGIENE PRODUCTS', 'COLD CEREAL',\n",
       "       'FROZEN PIZZA'], dtype=object)"
      ]
     },
     "execution_count": 4,
     "metadata": {},
     "output_type": "execute_result"
    }
   ],
   "source": [
    "products.CATEGORY.unique()"
   ]
  },
  {
   "cell_type": "code",
   "execution_count": 5,
   "metadata": {},
   "outputs": [
    {
     "data": {
      "text/plain": [
       "156"
      ]
     },
     "execution_count": 5,
     "metadata": {},
     "output_type": "execute_result"
    }
   ],
   "source": [
    "transactions.WEEK_END_DATE.unique().size"
   ]
  },
  {
   "cell_type": "code",
   "execution_count": 6,
   "metadata": {},
   "outputs": [
    {
     "data": {
      "text/html": [
       "<div>\n",
       "<style scoped>\n",
       "    .dataframe tbody tr th:only-of-type {\n",
       "        vertical-align: middle;\n",
       "    }\n",
       "\n",
       "    .dataframe tbody tr th {\n",
       "        vertical-align: top;\n",
       "    }\n",
       "\n",
       "    .dataframe thead th {\n",
       "        text-align: right;\n",
       "    }\n",
       "</style>\n",
       "<table border=\"1\" class=\"dataframe\">\n",
       "  <thead>\n",
       "    <tr style=\"text-align: right;\">\n",
       "      <th></th>\n",
       "      <th>WEEK_END_DATE</th>\n",
       "      <th>STORE_NUM</th>\n",
       "      <th>UPC</th>\n",
       "      <th>UNITS</th>\n",
       "      <th>VISITS</th>\n",
       "      <th>HHS</th>\n",
       "      <th>SPEND</th>\n",
       "      <th>PRICE</th>\n",
       "      <th>BASE_PRICE</th>\n",
       "      <th>FEATURE</th>\n",
       "      <th>DISPLAY</th>\n",
       "      <th>TPR_ONLY</th>\n",
       "      <th>Discount</th>\n",
       "      <th>Discount_Percentage</th>\n",
       "    </tr>\n",
       "  </thead>\n",
       "  <tbody>\n",
       "    <tr>\n",
       "      <th>0</th>\n",
       "      <td>2009-01-14 00:00:00</td>\n",
       "      <td>367</td>\n",
       "      <td>1111009477</td>\n",
       "      <td>13</td>\n",
       "      <td>13</td>\n",
       "      <td>13</td>\n",
       "      <td>18.07</td>\n",
       "      <td>1.39</td>\n",
       "      <td>1.57</td>\n",
       "      <td>0</td>\n",
       "      <td>0</td>\n",
       "      <td>1</td>\n",
       "      <td>1</td>\n",
       "      <td>0.11465</td>\n",
       "    </tr>\n",
       "    <tr>\n",
       "      <th>1</th>\n",
       "      <td>2009-01-14 00:00:00</td>\n",
       "      <td>367</td>\n",
       "      <td>1111009497</td>\n",
       "      <td>20</td>\n",
       "      <td>18</td>\n",
       "      <td>18</td>\n",
       "      <td>27.80</td>\n",
       "      <td>1.39</td>\n",
       "      <td>1.39</td>\n",
       "      <td>0</td>\n",
       "      <td>0</td>\n",
       "      <td>0</td>\n",
       "      <td>0</td>\n",
       "      <td>0.00000</td>\n",
       "    </tr>\n",
       "    <tr>\n",
       "      <th>2</th>\n",
       "      <td>2009-01-14 00:00:00</td>\n",
       "      <td>367</td>\n",
       "      <td>1111009507</td>\n",
       "      <td>14</td>\n",
       "      <td>14</td>\n",
       "      <td>14</td>\n",
       "      <td>19.32</td>\n",
       "      <td>1.38</td>\n",
       "      <td>1.38</td>\n",
       "      <td>0</td>\n",
       "      <td>0</td>\n",
       "      <td>0</td>\n",
       "      <td>0</td>\n",
       "      <td>0.00000</td>\n",
       "    </tr>\n",
       "    <tr>\n",
       "      <th>3</th>\n",
       "      <td>2009-01-14 00:00:00</td>\n",
       "      <td>367</td>\n",
       "      <td>1111035398</td>\n",
       "      <td>4</td>\n",
       "      <td>3</td>\n",
       "      <td>3</td>\n",
       "      <td>14.00</td>\n",
       "      <td>3.50</td>\n",
       "      <td>4.49</td>\n",
       "      <td>0</td>\n",
       "      <td>0</td>\n",
       "      <td>1</td>\n",
       "      <td>1</td>\n",
       "      <td>0.22049</td>\n",
       "    </tr>\n",
       "    <tr>\n",
       "      <th>4</th>\n",
       "      <td>2009-01-14 00:00:00</td>\n",
       "      <td>367</td>\n",
       "      <td>1111038078</td>\n",
       "      <td>3</td>\n",
       "      <td>3</td>\n",
       "      <td>3</td>\n",
       "      <td>7.50</td>\n",
       "      <td>2.50</td>\n",
       "      <td>2.50</td>\n",
       "      <td>0</td>\n",
       "      <td>0</td>\n",
       "      <td>0</td>\n",
       "      <td>0</td>\n",
       "      <td>0.00000</td>\n",
       "    </tr>\n",
       "  </tbody>\n",
       "</table>\n",
       "</div>"
      ],
      "text/plain": [
       "         WEEK_END_DATE  STORE_NUM         UPC  UNITS  VISITS  HHS  SPEND  \\\n",
       "0  2009-01-14 00:00:00        367  1111009477     13      13   13  18.07   \n",
       "1  2009-01-14 00:00:00        367  1111009497     20      18   18  27.80   \n",
       "2  2009-01-14 00:00:00        367  1111009507     14      14   14  19.32   \n",
       "3  2009-01-14 00:00:00        367  1111035398      4       3    3  14.00   \n",
       "4  2009-01-14 00:00:00        367  1111038078      3       3    3   7.50   \n",
       "\n",
       "   PRICE  BASE_PRICE  FEATURE  DISPLAY  TPR_ONLY  Discount  \\\n",
       "0   1.39        1.57        0        0         1         1   \n",
       "1   1.39        1.39        0        0         0         0   \n",
       "2   1.38        1.38        0        0         0         0   \n",
       "3   3.50        4.49        0        0         1         1   \n",
       "4   2.50        2.50        0        0         0         0   \n",
       "\n",
       "   Discount_Percentage  \n",
       "0              0.11465  \n",
       "1              0.00000  \n",
       "2              0.00000  \n",
       "3              0.22049  \n",
       "4              0.00000  "
      ]
     },
     "execution_count": 6,
     "metadata": {},
     "output_type": "execute_result"
    }
   ],
   "source": [
    "transactions = transactions.dropna(axis=0)\n",
    "transactions['Discount'] = transactions.FEATURE | transactions.DISPLAY | transactions.TPR_ONLY\n",
    "transactions['Discount_Percentage']= (transactions.BASE_PRICE - transactions.PRICE)/transactions.BASE_PRICE\n",
    "transactions.head()"
   ]
  },
  {
   "cell_type": "markdown",
   "metadata": {},
   "source": [
    "####  Total sale, sale in dicount period, sale in normal period per category"
   ]
  },
  {
   "cell_type": "code",
   "execution_count": 7,
   "metadata": {
    "scrolled": true
   },
   "outputs": [],
   "source": [
    "Total_sale = transactions.merge(products[['UPC','CATEGORY']], on='UPC', how='left')\\\n",
    "             .groupby('CATEGORY').UNITS.sum().reset_index()\n",
    "\n",
    "Total_sale_normal = transactions[transactions.Discount==0]\\\n",
    "                     .merge(products[['UPC','CATEGORY']], on='UPC', how='left')\\\n",
    "                     .groupby('CATEGORY').UNITS.sum().reset_index()\\\n",
    "                     .rename(columns={'UNITS':'UNITS_NORMAL'})\n",
    "\n",
    "Total_sale_discount = transactions[transactions.Discount==1]\\\n",
    "                     .merge(products[['UPC','CATEGORY']], on='UPC', how='left')\\\n",
    "                     .groupby('CATEGORY').UNITS.sum().reset_index()\\\n",
    "                     .rename(columns={'UNITS':'UNITS_DISC'})"
   ]
  },
  {
   "cell_type": "code",
   "execution_count": 8,
   "metadata": {},
   "outputs": [
    {
     "data": {
      "text/html": [
       "<div>\n",
       "<style scoped>\n",
       "    .dataframe tbody tr th:only-of-type {\n",
       "        vertical-align: middle;\n",
       "    }\n",
       "\n",
       "    .dataframe tbody tr th {\n",
       "        vertical-align: top;\n",
       "    }\n",
       "\n",
       "    .dataframe thead th {\n",
       "        text-align: right;\n",
       "    }\n",
       "</style>\n",
       "<table border=\"1\" class=\"dataframe\">\n",
       "  <thead>\n",
       "    <tr style=\"text-align: right;\">\n",
       "      <th></th>\n",
       "      <th>CATEGORY</th>\n",
       "      <th>UNITS</th>\n",
       "      <th>UNITS_NORMAL</th>\n",
       "      <th>UNITS_DISC</th>\n",
       "    </tr>\n",
       "  </thead>\n",
       "  <tbody>\n",
       "    <tr>\n",
       "      <th>0</th>\n",
       "      <td>BAG SNACKS</td>\n",
       "      <td>2601247</td>\n",
       "      <td>1490290</td>\n",
       "      <td>1110957</td>\n",
       "    </tr>\n",
       "    <tr>\n",
       "      <th>1</th>\n",
       "      <td>COLD CEREAL</td>\n",
       "      <td>5826783</td>\n",
       "      <td>3301659</td>\n",
       "      <td>2525124</td>\n",
       "    </tr>\n",
       "    <tr>\n",
       "      <th>2</th>\n",
       "      <td>FROZEN PIZZA</td>\n",
       "      <td>1341731</td>\n",
       "      <td>609736</td>\n",
       "      <td>731995</td>\n",
       "    </tr>\n",
       "    <tr>\n",
       "      <th>3</th>\n",
       "      <td>ORAL HYGIENE PRODUCTS</td>\n",
       "      <td>521140</td>\n",
       "      <td>282085</td>\n",
       "      <td>239055</td>\n",
       "    </tr>\n",
       "  </tbody>\n",
       "</table>\n",
       "</div>"
      ],
      "text/plain": [
       "                CATEGORY    UNITS  UNITS_NORMAL  UNITS_DISC\n",
       "0             BAG SNACKS  2601247       1490290     1110957\n",
       "1            COLD CEREAL  5826783       3301659     2525124\n",
       "2           FROZEN PIZZA  1341731        609736      731995\n",
       "3  ORAL HYGIENE PRODUCTS   521140        282085      239055"
      ]
     },
     "execution_count": 8,
     "metadata": {},
     "output_type": "execute_result"
    }
   ],
   "source": [
    "sales_combined = Total_sale\\\n",
    "                 .merge(Total_sale_normal, on='CATEGORY', how='left')\\\n",
    "                 .merge(Total_sale_discount, on='CATEGORY', how='left')\n",
    "sales_combined"
   ]
  },
  {
   "cell_type": "code",
   "execution_count": 9,
   "metadata": {},
   "outputs": [
    {
     "data": {
      "image/png": "[encoded data removed]",
      "text/plain": [
       "<Figure size 432x288 with 1 Axes>"
      ]
     },
     "metadata": {
      "needs_background": "light"
     },
     "output_type": "display_data"
    }
   ],
   "source": [
    "_ = sales_combined.plot(kind='bar', x='CATEGORY', y=['UNITS', 'UNITS_NORMAL', 'UNITS_DISC'],\\\n",
    "                        label=['Units', 'Units normal', 'Units promotion'], title='Units sold with and without promotion')\n",
    "_ = plt.xlabel(\"Category\")\n",
    "_ = plt.ylabel(\"Units Sold\")\n",
    "plt.show()"
   ]
  },
  {
   "cell_type": "markdown",
   "metadata": {},
   "source": [
    "#### Sales by Feature, Display, or TPR_Only"
   ]
  },
  {
   "cell_type": "markdown",
   "metadata": {},
   "source": [
    "<font color = \"green\">\n",
    "    \n",
    "* Feature: product was is in-store circular. \n",
    "    \n",
    "    \n",
    "* Display: product was a part of an in-store circular.\n",
    "    \n",
    "* TPR: temporary price reduction only (i.e., shelf tag only. Product's price was reduced but was not on display or in an advertisement)    "
   ]
  },
  {
   "cell_type": "code",
   "execution_count": 10,
   "metadata": {},
   "outputs": [],
   "source": [
    "Total_sale_feature = transactions[transactions.FEATURE==1]\\\n",
    "                     .merge(products[['UPC','CATEGORY']], on='UPC', how='left')\\\n",
    "                     .groupby('CATEGORY').UNITS.sum().reset_index()\\\n",
    "                     .rename(columns={'UNITS':'UNITS_FEATURE'})\n",
    "Total_sale_display = transactions[transactions.DISPLAY==1]\\\n",
    "                     .merge(products[['UPC','CATEGORY']], on='UPC', how='left')\\\n",
    "                     .groupby('CATEGORY').UNITS.sum().reset_index()\\\n",
    "                     .rename(columns={'UNITS':'UNITS_DISPLAY'})\n",
    "Total_sale_Only = transactions[transactions.TPR_ONLY==1]\\\n",
    "                    .merge(products[['UPC','CATEGORY']], on='UPC', how='left')\\\n",
    "                     .groupby('CATEGORY').UNITS.sum().reset_index()\\\n",
    "                     .rename(columns={'UNITS':'UNITS_ONLY'})"
   ]
  },
  {
   "cell_type": "code",
   "execution_count": 11,
   "metadata": {},
   "outputs": [
    {
     "data": {
      "image/png": "[encoded data removed]",
      "text/plain": [
       "<Figure size 432x288 with 1 Axes>"
      ]
     },
     "metadata": {
      "needs_background": "light"
     },
     "output_type": "display_data"
    },
    {
     "data": {
      "image/png": "[encoded data removed]",
      "text/plain": [
       "<Figure size 432x288 with 1 Axes>"
      ]
     },
     "metadata": {
      "needs_background": "light"
     },
     "output_type": "display_data"
    },
    {
     "data": {
      "image/png": "[encoded data removed]",
      "text/plain": [
       "<Figure size 432x288 with 1 Axes>"
      ]
     },
     "metadata": {
      "needs_background": "light"
     },
     "output_type": "display_data"
    }
   ],
   "source": [
    "_ = Total_sale_feature.plot(kind='bar', x='CATEGORY', y='UNITS_FEATURE', title='Total units sold on feature promotion')\n",
    "_ = plt.xlabel(\"Category\")\n",
    "_ = plt.ylabel(\"Units Sold\")\n",
    "plt.show()\n",
    "_ = Total_sale_display.plot(kind='bar', x='CATEGORY', y='UNITS_DISPLAY', title='Total units sold on display promotion')\n",
    "_ = plt.xlabel(\"Category\")\n",
    "_ = plt.ylabel(\"Units Sold\")\n",
    "plt.show()\n",
    "_ = Total_sale_Only.plot(kind='bar', x='CATEGORY', y='UNITS_ONLY', title='Total units sold on TPR promotion')\n",
    "_ = plt.xlabel(\"Category\")\n",
    "_ = plt.ylabel(\"Units Sold\")\n",
    "plt.show()"
   ]
  },
  {
   "cell_type": "markdown",
   "metadata": {},
   "source": [
    "<font color = \"green\">\n",
    "    \n",
    "### Normalised sales\n",
    "\n",
    "Absolute sales numbers do not take into account the frequency of promotions and the number of stores a type of promotion was featured in. Therefore, it is important to normalise the sales to do way with the aforementioned limitations."
   ]
  },
  {
   "cell_type": "code",
   "execution_count": 12,
   "metadata": {},
   "outputs": [],
   "source": [
    "Ndays_normal = transactions[transactions.Discount==0]\\\n",
    "                     .groupby(['WEEK_END_DATE','UPC'])\\\n",
    "                     .STORE_NUM.size().reset_index()\\\n",
    "                     .groupby('UPC').STORE_NUM.sum().reset_index()\\\n",
    "                     .merge(products[['UPC','CATEGORY']], on='UPC', how='left')\\\n",
    "                     .groupby('CATEGORY').STORE_NUM.sum().reset_index()\\\n",
    "                     .rename(columns={'STORE_NUM':'NORM_UNITS_NORMAL'})\n",
    "\n",
    "Ndays_discount = transactions[transactions.Discount==1]\\\n",
    "                     .groupby(['WEEK_END_DATE','UPC'])\\\n",
    "                     .STORE_NUM.size().reset_index()\\\n",
    "                     .groupby('UPC').STORE_NUM.sum().reset_index()\\\n",
    "                     .merge(products[['UPC','CATEGORY']], on='UPC', how='left')\\\n",
    "                     .groupby('CATEGORY').STORE_NUM.sum().reset_index()\\\n",
    "                     .rename(columns={'STORE_NUM':'NORM_UNITS_DISC'})"
   ]
  },
  {
   "cell_type": "code",
   "execution_count": 13,
   "metadata": {},
   "outputs": [
    {
     "data": {
      "text/html": [
       "<div>\n",
       "<style scoped>\n",
       "    .dataframe tbody tr th:only-of-type {\n",
       "        vertical-align: middle;\n",
       "    }\n",
       "\n",
       "    .dataframe tbody tr th {\n",
       "        vertical-align: top;\n",
       "    }\n",
       "\n",
       "    .dataframe thead th {\n",
       "        text-align: right;\n",
       "    }\n",
       "</style>\n",
       "<table border=\"1\" class=\"dataframe\">\n",
       "  <thead>\n",
       "    <tr style=\"text-align: right;\">\n",
       "      <th></th>\n",
       "      <th>CATEGORY</th>\n",
       "      <th>NORM_UNITS_NORMAL</th>\n",
       "    </tr>\n",
       "  </thead>\n",
       "  <tbody>\n",
       "    <tr>\n",
       "      <th>0</th>\n",
       "      <td>BAG SNACKS</td>\n",
       "      <td>88718</td>\n",
       "    </tr>\n",
       "    <tr>\n",
       "      <th>1</th>\n",
       "      <td>COLD CEREAL</td>\n",
       "      <td>129471</td>\n",
       "    </tr>\n",
       "    <tr>\n",
       "      <th>2</th>\n",
       "      <td>FROZEN PIZZA</td>\n",
       "      <td>77149</td>\n",
       "    </tr>\n",
       "    <tr>\n",
       "      <th>3</th>\n",
       "      <td>ORAL HYGIENE PRODUCTS</td>\n",
       "      <td>80203</td>\n",
       "    </tr>\n",
       "  </tbody>\n",
       "</table>\n",
       "</div>"
      ],
      "text/plain": [
       "                CATEGORY  NORM_UNITS_NORMAL\n",
       "0             BAG SNACKS              88718\n",
       "1            COLD CEREAL             129471\n",
       "2           FROZEN PIZZA              77149\n",
       "3  ORAL HYGIENE PRODUCTS              80203"
      ]
     },
     "execution_count": 13,
     "metadata": {},
     "output_type": "execute_result"
    }
   ],
   "source": [
    "Ndays_normal"
   ]
  },
  {
   "cell_type": "code",
   "execution_count": 14,
   "metadata": {},
   "outputs": [],
   "source": [
    "#Normalised data sets\n",
    "\n",
    "Normalised_sale_normal = Total_sale_normal.copy(deep= True)\n",
    "Normalised_sale_normal.UNITS_NORMAL = Normalised_sale_normal.UNITS_NORMAL\\\n",
    "                                      /Ndays_normal.NORM_UNITS_NORMAL\n",
    "\n",
    "Normalised_sale_discount = Total_sale_discount.copy(deep= True)\n",
    "Normalised_sale_discount.UNITS_DISC = Normalised_sale_discount.UNITS_DISC\\\n",
    "                                      /Ndays_discount.NORM_UNITS_DISC\n"
   ]
  },
  {
   "cell_type": "code",
   "execution_count": 15,
   "metadata": {},
   "outputs": [
    {
     "data": {
      "text/html": [
       "<div>\n",
       "<style scoped>\n",
       "    .dataframe tbody tr th:only-of-type {\n",
       "        vertical-align: middle;\n",
       "    }\n",
       "\n",
       "    .dataframe tbody tr th {\n",
       "        vertical-align: top;\n",
       "    }\n",
       "\n",
       "    .dataframe thead th {\n",
       "        text-align: right;\n",
       "    }\n",
       "</style>\n",
       "<table border=\"1\" class=\"dataframe\">\n",
       "  <thead>\n",
       "    <tr style=\"text-align: right;\">\n",
       "      <th></th>\n",
       "      <th>CATEGORY</th>\n",
       "      <th>UNITS_NORMAL</th>\n",
       "      <th>UNITS_DISC</th>\n",
       "    </tr>\n",
       "  </thead>\n",
       "  <tbody>\n",
       "    <tr>\n",
       "      <th>0</th>\n",
       "      <td>BAG SNACKS</td>\n",
       "      <td>16.798057</td>\n",
       "      <td>28.731399</td>\n",
       "    </tr>\n",
       "    <tr>\n",
       "      <th>1</th>\n",
       "      <td>COLD CEREAL</td>\n",
       "      <td>25.501147</td>\n",
       "      <td>62.804656</td>\n",
       "    </tr>\n",
       "    <tr>\n",
       "      <th>2</th>\n",
       "      <td>FROZEN PIZZA</td>\n",
       "      <td>7.903356</td>\n",
       "      <td>21.512182</td>\n",
       "    </tr>\n",
       "    <tr>\n",
       "      <th>3</th>\n",
       "      <td>ORAL HYGIENE PRODUCTS</td>\n",
       "      <td>3.517138</td>\n",
       "      <td>6.585356</td>\n",
       "    </tr>\n",
       "  </tbody>\n",
       "</table>\n",
       "</div>"
      ],
      "text/plain": [
       "                CATEGORY  UNITS_NORMAL  UNITS_DISC\n",
       "0             BAG SNACKS     16.798057   28.731399\n",
       "1            COLD CEREAL     25.501147   62.804656\n",
       "2           FROZEN PIZZA      7.903356   21.512182\n",
       "3  ORAL HYGIENE PRODUCTS      3.517138    6.585356"
      ]
     },
     "execution_count": 15,
     "metadata": {},
     "output_type": "execute_result"
    }
   ],
   "source": [
    "Normalised_sales_combined = Normalised_sale_normal\\\n",
    "                 .merge(Normalised_sale_discount, on='CATEGORY', how='left')\n",
    "Normalised_sales_combined"
   ]
  },
  {
   "cell_type": "code",
   "execution_count": 16,
   "metadata": {},
   "outputs": [
    {
     "data": {
      "image/png": "[encoded data removed]",
      "text/plain": [
       "<Figure size 432x288 with 1 Axes>"
      ]
     },
     "metadata": {
      "needs_background": "light"
     },
     "output_type": "display_data"
    }
   ],
   "source": [
    "_ = Normalised_sales_combined.plot(kind='bar', x='CATEGORY', y=['UNITS_NORMAL', 'UNITS_DISC'],\\\n",
    "                        label=['Units normal', 'Units promotion'],\\\n",
    "                                   title='Units sold on normal and promotion days (Normalised)')\n",
    "_ = plt.xlabel(\"Category\")\n",
    "_ = plt.ylabel(\"Units Sold per store per weeekend\")\n",
    "plt.show()"
   ]
  },
  {
   "cell_type": "markdown",
   "metadata": {},
   "source": [
    "<font color = \"green\">\n",
    "    Indeed, more units are sold on promotion days as compared to normal days."
   ]
  },
  {
   "cell_type": "markdown",
   "metadata": {},
   "source": [
    "#### Sales by Feature, Display, or TPR_Only (Normalised)"
   ]
  },
  {
   "cell_type": "code",
   "execution_count": 17,
   "metadata": {},
   "outputs": [],
   "source": [
    "Ndays_feature = transactions[transactions.FEATURE==1]\\\n",
    "                     .groupby(['WEEK_END_DATE','UPC'])\\\n",
    "                     .STORE_NUM.size().reset_index()\\\n",
    "                     .groupby('UPC').STORE_NUM.sum().reset_index()\\\n",
    "                     .merge(products[['UPC','CATEGORY']], on='UPC', how='left')\\\n",
    "                     .groupby('CATEGORY').STORE_NUM.sum().reset_index()\\\n",
    "                     .rename(columns={'STORE_NUM':'NORM_UNITS_FEATURE'})\n",
    " \n",
    "Ndays_display = transactions[transactions.DISPLAY==1]\\\n",
    "                     .groupby(['WEEK_END_DATE','UPC'])\\\n",
    "                     .STORE_NUM.size().reset_index()\\\n",
    "                     .groupby('UPC').STORE_NUM.sum().reset_index()\\\n",
    "                     .merge(products[['UPC','CATEGORY']], on='UPC', how='left')\\\n",
    "                     .groupby('CATEGORY').STORE_NUM.sum().reset_index()\\\n",
    "                     .rename(columns={'STORE_NUM':'NORM_UNITS_DISPLAY'})\n",
    "\n",
    "Ndays_Only = transactions[transactions.TPR_ONLY==1]\\\n",
    "                     .groupby(['WEEK_END_DATE','UPC'])\\\n",
    "                     .STORE_NUM.size().reset_index()\\\n",
    "                     .groupby('UPC').STORE_NUM.sum().reset_index()\\\n",
    "                     .merge(products[['UPC','CATEGORY']], on='UPC', how='left')\\\n",
    "                     .groupby('CATEGORY').STORE_NUM.sum().reset_index()\\\n",
    "                     .rename(columns={'STORE_NUM':'NORM_UNITS_ONLY'})"
   ]
  },
  {
   "cell_type": "code",
   "execution_count": 18,
   "metadata": {},
   "outputs": [],
   "source": [
    "#Normalised most sucessful type of promotion: \n",
    "\n",
    "Normalised_sale_feature = Total_sale_feature.copy(deep= True)\n",
    "Normalised_sale_feature.UNITS_FEATURE = Normalised_sale_feature.UNITS_FEATURE\\\n",
    "                                     /Ndays_feature.NORM_UNITS_FEATURE\n",
    "\n",
    "Normalised_sale_display = Total_sale_display.copy(deep= True)\n",
    "Normalised_sale_display.UNITS_DISPLAY = Normalised_sale_display.UNITS_DISPLAY\\\n",
    "                                      /Ndays_display.NORM_UNITS_DISPLAY\n",
    "\n",
    "Normalised_sale_Only = Total_sale_Only.copy(deep= True)\n",
    "Normalised_sale_Only.UNITS_ONLY = Normalised_sale_Only.UNITS_ONLY\\\n",
    "                                      /Ndays_Only.NORM_UNITS_ONLY"
   ]
  },
  {
   "cell_type": "code",
   "execution_count": 19,
   "metadata": {},
   "outputs": [
    {
     "data": {
      "text/html": [
       "<div>\n",
       "<style scoped>\n",
       "    .dataframe tbody tr th:only-of-type {\n",
       "        vertical-align: middle;\n",
       "    }\n",
       "\n",
       "    .dataframe tbody tr th {\n",
       "        vertical-align: top;\n",
       "    }\n",
       "\n",
       "    .dataframe thead th {\n",
       "        text-align: right;\n",
       "    }\n",
       "</style>\n",
       "<table border=\"1\" class=\"dataframe\">\n",
       "  <thead>\n",
       "    <tr style=\"text-align: right;\">\n",
       "      <th></th>\n",
       "      <th>CATEGORY</th>\n",
       "      <th>UNITS_FEATURE</th>\n",
       "      <th>UNITS_DISPLAY</th>\n",
       "      <th>UNITS_ONLY</th>\n",
       "    </tr>\n",
       "  </thead>\n",
       "  <tbody>\n",
       "    <tr>\n",
       "      <th>0</th>\n",
       "      <td>BAG SNACKS</td>\n",
       "      <td>35.140462</td>\n",
       "      <td>44.315673</td>\n",
       "      <td>16.704998</td>\n",
       "    </tr>\n",
       "    <tr>\n",
       "      <th>1</th>\n",
       "      <td>COLD CEREAL</td>\n",
       "      <td>93.893280</td>\n",
       "      <td>92.303022</td>\n",
       "      <td>36.434502</td>\n",
       "    </tr>\n",
       "    <tr>\n",
       "      <th>2</th>\n",
       "      <td>FROZEN PIZZA</td>\n",
       "      <td>25.967638</td>\n",
       "      <td>27.746035</td>\n",
       "      <td>12.197750</td>\n",
       "    </tr>\n",
       "    <tr>\n",
       "      <th>3</th>\n",
       "      <td>ORAL HYGIENE PRODUCTS</td>\n",
       "      <td>10.210232</td>\n",
       "      <td>8.182900</td>\n",
       "      <td>5.366363</td>\n",
       "    </tr>\n",
       "  </tbody>\n",
       "</table>\n",
       "</div>"
      ],
      "text/plain": [
       "                CATEGORY  UNITS_FEATURE  UNITS_DISPLAY  UNITS_ONLY\n",
       "0             BAG SNACKS      35.140462      44.315673   16.704998\n",
       "1            COLD CEREAL      93.893280      92.303022   36.434502\n",
       "2           FROZEN PIZZA      25.967638      27.746035   12.197750\n",
       "3  ORAL HYGIENE PRODUCTS      10.210232       8.182900    5.366363"
      ]
     },
     "execution_count": 19,
     "metadata": {},
     "output_type": "execute_result"
    }
   ],
   "source": [
    "Normalised_disc_combined = Normalised_sale_feature\\\n",
    "                 .merge(Normalised_sale_display, on='CATEGORY', how='left')\\\n",
    "                 .merge(Normalised_sale_Only, on='CATEGORY', how='left')\n",
    "Normalised_disc_combined"
   ]
  },
  {
   "cell_type": "code",
   "execution_count": 44,
   "metadata": {},
   "outputs": [
    {
     "data": {
      "image/png": "[encoded data removed]",
      "text/plain": [
       "<Figure size 432x288 with 1 Axes>"
      ]
     },
     "metadata": {
      "needs_background": "light"
     },
     "output_type": "display_data"
    }
   ],
   "source": [
    "_ = Normalised_disc_combined.plot(kind='bar', x='CATEGORY', y=['UNITS_FEATURE', 'UNITS_DISPLAY', 'UNITS_ONLY'],\\\n",
    "                        label=['Feature promotion', 'Display promotion', 'TPR promotion'],\\\n",
    "                        title='Units sold on different promotion days (Normalised)')\n",
    "_ = plt.xlabel(\"Category\")\n",
    "_ = plt.ylabel(\"Units Sold per store per weeekend\")\n",
    "\n",
    "plt.show()"
   ]
  },
  {
   "cell_type": "markdown",
   "metadata": {},
   "source": [
    "<font color = \"green\">\n",
    "    \n",
    "   TPR discounts do not get the attention of many people, since they are not promoted or displayed actively in the store. Feature and discount are neck and neck in terms of the number of units sold."
   ]
  },
  {
   "cell_type": "markdown",
   "metadata": {},
   "source": [
    "#### How discount percentages impact sales"
   ]
  },
  {
   "cell_type": "code",
   "execution_count": 82,
   "metadata": {},
   "outputs": [],
   "source": [
    "def discount_percentage_database(discount_class_length):\n",
    "    discount = np.linspace(0,1,round(1/discount_class_length)+1)\n",
    "    #discount = [ '%.2f' % elem for elem in discount ]\n",
    "    discount_range = zip(discount[0:-1],discount[1:])\n",
    "    normalised_bypercentage = pd.DataFrame({'CATEGORY': products.CATEGORY.unique()})\n",
    "    for discount_bin in discount_range:\n",
    "        temp='{}-{}%'.format('%.2f' % discount_bin[0],'%.2f' % discount_bin[1])\n",
    "        sale_temp = transactions[(transactions.Discount_Percentage > discount_bin[0]) &\\\n",
    "                                  (transactions.Discount_Percentage <= discount_bin[1])]\\\n",
    "                      .merge(products[['UPC','CATEGORY']], on='UPC', how='left')\\\n",
    "                      .groupby('CATEGORY').UNITS.sum().reset_index()\\\n",
    "                      .rename(columns={'UNITS':temp})\n",
    "        ndays_temp = transactions[(transactions.Discount_Percentage > discount_bin[0]) &\\\n",
    "                                  (transactions.Discount_Percentage <= discount_bin[1])]\\\n",
    "                      .groupby(['WEEK_END_DATE','UPC'])\\\n",
    "                    .STORE_NUM.size().reset_index()\\\n",
    "                      .groupby('UPC').STORE_NUM.sum().reset_index()\\\n",
    "                      .merge(products[['UPC','CATEGORY']], on='UPC', how='left')\\\n",
    "                      .groupby('CATEGORY').STORE_NUM.sum().reset_index()\n",
    "        sale_temp[temp] = sale_temp[temp]/ndays_temp.STORE_NUM\n",
    "        normalised_bypercentage = normalised_bypercentage.merge(sale_temp, on='CATEGORY', how='left') \n",
    "    return normalised_bypercentage"
   ]
  },
  {
   "cell_type": "code",
   "execution_count": 91,
   "metadata": {
    "scrolled": true
   },
   "outputs": [
    {
     "data": {
      "text/html": [
       "<div>\n",
       "<style scoped>\n",
       "    .dataframe tbody tr th:only-of-type {\n",
       "        vertical-align: middle;\n",
       "    }\n",
       "\n",
       "    .dataframe tbody tr th {\n",
       "        vertical-align: top;\n",
       "    }\n",
       "\n",
       "    .dataframe thead th {\n",
       "        text-align: right;\n",
       "    }\n",
       "</style>\n",
       "<table border=\"1\" class=\"dataframe\">\n",
       "  <thead>\n",
       "    <tr style=\"text-align: right;\">\n",
       "      <th></th>\n",
       "      <th>CATEGORY</th>\n",
       "      <th>0.00-0.33%</th>\n",
       "      <th>0.33-0.67%</th>\n",
       "      <th>0.67-1.00%</th>\n",
       "    </tr>\n",
       "  </thead>\n",
       "  <tbody>\n",
       "    <tr>\n",
       "      <th>0</th>\n",
       "      <td>BAG SNACKS</td>\n",
       "      <td>25.368228</td>\n",
       "      <td>14.593081</td>\n",
       "      <td>4.963636</td>\n",
       "    </tr>\n",
       "    <tr>\n",
       "      <th>1</th>\n",
       "      <td>ORAL HYGIENE PRODUCTS</td>\n",
       "      <td>5.634873</td>\n",
       "      <td>9.574208</td>\n",
       "      <td>9.037037</td>\n",
       "    </tr>\n",
       "    <tr>\n",
       "      <th>2</th>\n",
       "      <td>COLD CEREAL</td>\n",
       "      <td>53.763967</td>\n",
       "      <td>118.007242</td>\n",
       "      <td>47.705882</td>\n",
       "    </tr>\n",
       "    <tr>\n",
       "      <th>3</th>\n",
       "      <td>FROZEN PIZZA</td>\n",
       "      <td>19.785781</td>\n",
       "      <td>32.041645</td>\n",
       "      <td>1.750000</td>\n",
       "    </tr>\n",
       "  </tbody>\n",
       "</table>\n",
       "</div>"
      ],
      "text/plain": [
       "                CATEGORY  0.00-0.33%  0.33-0.67%  0.67-1.00%\n",
       "0             BAG SNACKS   25.368228   14.593081    4.963636\n",
       "1  ORAL HYGIENE PRODUCTS    5.634873    9.574208    9.037037\n",
       "2            COLD CEREAL   53.763967  118.007242   47.705882\n",
       "3           FROZEN PIZZA   19.785781   32.041645    1.750000"
      ]
     },
     "execution_count": 91,
     "metadata": {},
     "output_type": "execute_result"
    }
   ],
   "source": [
    "discount_sales = discount_percentage_database(0.3)\n",
    "discount_sales"
   ]
  },
  {
   "cell_type": "code",
   "execution_count": 90,
   "metadata": {},
   "outputs": [
    {
     "data": {
      "image/png": "[encoded data removed]",
      "text/plain": [
       "<Figure size 432x288 with 1 Axes>"
      ]
     },
     "metadata": {
      "needs_background": "light"
     },
     "output_type": "display_data"
    }
   ],
   "source": [
    "_ = discount_sales.plot(kind='bar', x='CATEGORY', y=discount_sales.columns.to_list()[1:],\\\n",
    "                        title='Units sold with different discount rates (Normalised)')\n",
    "_ = plt.xlabel(\"Category\")\n",
    "_ = plt.ylabel(\"Units Sold per store per weeekend\")\n",
    "plt.show()"
   ]
  },
  {
   "cell_type": "markdown",
   "metadata": {},
   "source": [
    "# How frequency of discounts at a store effects sales  "
   ]
  },
  {
   "cell_type": "code",
   "execution_count": 23,
   "metadata": {},
   "outputs": [],
   "source": [
    "# transactions=pd.read_excel(\"data/userdata.xlsx\", sheet_name='dh Transaction Data')\n",
    "# transactions1=transactions.copy(deep = True)\n",
    "# transactions1=transactions1.dropna(axis='columns', how='all')\n",
    "# transactions1.columns=transactions1.iloc[0].to_list()\n",
    "# transactions1.drop(0, inplace=True)\n",
    "# transactions1 =transactions1.to_csv ('data/products.csv', index = None, header=True)"
   ]
  },
  {
   "cell_type": "code",
   "execution_count": 1,
   "metadata": {},
   "outputs": [],
   "source": [
    "#Necessary for diaplaying all outputs; otherwise only gsd.colums will be displayed. \n",
    "from IPython.core.interactiveshell import InteractiveShell\n",
    "InteractiveShell.ast_node_interactivity = \"all\""
   ]
  },
  {
   "cell_type": "code",
   "execution_count": 4,
   "metadata": {},
   "outputs": [],
   "source": [
    "#Loading the dataframes\n",
    "products=pd.read_csv(\"data/products.csv\")\n",
    "transactions=pd.read_csv(\"data/transactions.csv\")\n",
    "stores=pd.read_csv(\"data/stores.csv\")"
   ]
  },
  {
   "cell_type": "code",
   "execution_count": 5,
   "metadata": {},
   "outputs": [
    {
     "data": {
      "text/html": [
       "<div>\n",
       "<style scoped>\n",
       "    .dataframe tbody tr th:only-of-type {\n",
       "        vertical-align: middle;\n",
       "    }\n",
       "\n",
       "    .dataframe tbody tr th {\n",
       "        vertical-align: top;\n",
       "    }\n",
       "\n",
       "    .dataframe thead th {\n",
       "        text-align: right;\n",
       "    }\n",
       "</style>\n",
       "<table border=\"1\" class=\"dataframe\">\n",
       "  <thead>\n",
       "    <tr style=\"text-align: right;\">\n",
       "      <th></th>\n",
       "      <th>UPC</th>\n",
       "      <th>DESCRIPTION</th>\n",
       "      <th>MANUFACTURER</th>\n",
       "      <th>CATEGORY</th>\n",
       "      <th>SUB_CATEGORY</th>\n",
       "      <th>PRODUCT_SIZE</th>\n",
       "    </tr>\n",
       "  </thead>\n",
       "  <tbody>\n",
       "    <tr>\n",
       "      <th>0</th>\n",
       "      <td>1111009477</td>\n",
       "      <td>PL MINI TWIST PRETZELS</td>\n",
       "      <td>PRIVATE LABEL</td>\n",
       "      <td>BAG SNACKS</td>\n",
       "      <td>PRETZELS</td>\n",
       "      <td>15 OZ</td>\n",
       "    </tr>\n",
       "    <tr>\n",
       "      <th>1</th>\n",
       "      <td>1111009497</td>\n",
       "      <td>PL PRETZEL STICKS</td>\n",
       "      <td>PRIVATE LABEL</td>\n",
       "      <td>BAG SNACKS</td>\n",
       "      <td>PRETZELS</td>\n",
       "      <td>15 OZ</td>\n",
       "    </tr>\n",
       "    <tr>\n",
       "      <th>2</th>\n",
       "      <td>1111009507</td>\n",
       "      <td>PL TWIST PRETZELS</td>\n",
       "      <td>PRIVATE LABEL</td>\n",
       "      <td>BAG SNACKS</td>\n",
       "      <td>PRETZELS</td>\n",
       "      <td>15 OZ</td>\n",
       "    </tr>\n",
       "    <tr>\n",
       "      <th>3</th>\n",
       "      <td>1111035398</td>\n",
       "      <td>PL BL MINT ANTSPTC RINSE</td>\n",
       "      <td>PRIVATE LABEL</td>\n",
       "      <td>ORAL HYGIENE PRODUCTS</td>\n",
       "      <td>MOUTHWASHES (ANTISEPTIC)</td>\n",
       "      <td>1.5 LT</td>\n",
       "    </tr>\n",
       "    <tr>\n",
       "      <th>4</th>\n",
       "      <td>1111038078</td>\n",
       "      <td>PL BL MINT ANTSPTC RINSE</td>\n",
       "      <td>PRIVATE LABEL</td>\n",
       "      <td>ORAL HYGIENE PRODUCTS</td>\n",
       "      <td>MOUTHWASHES (ANTISEPTIC)</td>\n",
       "      <td>500 ML</td>\n",
       "    </tr>\n",
       "  </tbody>\n",
       "</table>\n",
       "</div>"
      ],
      "text/plain": [
       "          UPC               DESCRIPTION   MANUFACTURER               CATEGORY  \\\n",
       "0  1111009477    PL MINI TWIST PRETZELS  PRIVATE LABEL             BAG SNACKS   \n",
       "1  1111009497         PL PRETZEL STICKS  PRIVATE LABEL             BAG SNACKS   \n",
       "2  1111009507         PL TWIST PRETZELS  PRIVATE LABEL             BAG SNACKS   \n",
       "3  1111035398  PL BL MINT ANTSPTC RINSE  PRIVATE LABEL  ORAL HYGIENE PRODUCTS   \n",
       "4  1111038078  PL BL MINT ANTSPTC RINSE  PRIVATE LABEL  ORAL HYGIENE PRODUCTS   \n",
       "\n",
       "               SUB_CATEGORY PRODUCT_SIZE  \n",
       "0                  PRETZELS        15 OZ  \n",
       "1                  PRETZELS        15 OZ  \n",
       "2                  PRETZELS        15 OZ  \n",
       "3  MOUTHWASHES (ANTISEPTIC)       1.5 LT  \n",
       "4  MOUTHWASHES (ANTISEPTIC)       500 ML  "
      ]
     },
     "execution_count": 5,
     "metadata": {},
     "output_type": "execute_result"
    },
    {
     "data": {
      "text/html": [
       "<div>\n",
       "<style scoped>\n",
       "    .dataframe tbody tr th:only-of-type {\n",
       "        vertical-align: middle;\n",
       "    }\n",
       "\n",
       "    .dataframe tbody tr th {\n",
       "        vertical-align: top;\n",
       "    }\n",
       "\n",
       "    .dataframe thead th {\n",
       "        text-align: right;\n",
       "    }\n",
       "</style>\n",
       "<table border=\"1\" class=\"dataframe\">\n",
       "  <thead>\n",
       "    <tr style=\"text-align: right;\">\n",
       "      <th></th>\n",
       "      <th>WEEK_END_DATE</th>\n",
       "      <th>STORE_NUM</th>\n",
       "      <th>UPC</th>\n",
       "      <th>UNITS</th>\n",
       "      <th>VISITS</th>\n",
       "      <th>HHS</th>\n",
       "      <th>SPEND</th>\n",
       "      <th>PRICE</th>\n",
       "      <th>BASE_PRICE</th>\n",
       "      <th>FEATURE</th>\n",
       "      <th>DISPLAY</th>\n",
       "      <th>TPR_ONLY</th>\n",
       "    </tr>\n",
       "  </thead>\n",
       "  <tbody>\n",
       "    <tr>\n",
       "      <th>0</th>\n",
       "      <td>2009-01-14 00:00:00</td>\n",
       "      <td>367</td>\n",
       "      <td>1111009477</td>\n",
       "      <td>13</td>\n",
       "      <td>13</td>\n",
       "      <td>13</td>\n",
       "      <td>18.07</td>\n",
       "      <td>1.39</td>\n",
       "      <td>1.57</td>\n",
       "      <td>0</td>\n",
       "      <td>0</td>\n",
       "      <td>1</td>\n",
       "    </tr>\n",
       "    <tr>\n",
       "      <th>1</th>\n",
       "      <td>2009-01-14 00:00:00</td>\n",
       "      <td>367</td>\n",
       "      <td>1111009497</td>\n",
       "      <td>20</td>\n",
       "      <td>18</td>\n",
       "      <td>18</td>\n",
       "      <td>27.80</td>\n",
       "      <td>1.39</td>\n",
       "      <td>1.39</td>\n",
       "      <td>0</td>\n",
       "      <td>0</td>\n",
       "      <td>0</td>\n",
       "    </tr>\n",
       "    <tr>\n",
       "      <th>2</th>\n",
       "      <td>2009-01-14 00:00:00</td>\n",
       "      <td>367</td>\n",
       "      <td>1111009507</td>\n",
       "      <td>14</td>\n",
       "      <td>14</td>\n",
       "      <td>14</td>\n",
       "      <td>19.32</td>\n",
       "      <td>1.38</td>\n",
       "      <td>1.38</td>\n",
       "      <td>0</td>\n",
       "      <td>0</td>\n",
       "      <td>0</td>\n",
       "    </tr>\n",
       "    <tr>\n",
       "      <th>3</th>\n",
       "      <td>2009-01-14 00:00:00</td>\n",
       "      <td>367</td>\n",
       "      <td>1111035398</td>\n",
       "      <td>4</td>\n",
       "      <td>3</td>\n",
       "      <td>3</td>\n",
       "      <td>14.00</td>\n",
       "      <td>3.50</td>\n",
       "      <td>4.49</td>\n",
       "      <td>0</td>\n",
       "      <td>0</td>\n",
       "      <td>1</td>\n",
       "    </tr>\n",
       "    <tr>\n",
       "      <th>4</th>\n",
       "      <td>2009-01-14 00:00:00</td>\n",
       "      <td>367</td>\n",
       "      <td>1111038078</td>\n",
       "      <td>3</td>\n",
       "      <td>3</td>\n",
       "      <td>3</td>\n",
       "      <td>7.50</td>\n",
       "      <td>2.50</td>\n",
       "      <td>2.50</td>\n",
       "      <td>0</td>\n",
       "      <td>0</td>\n",
       "      <td>0</td>\n",
       "    </tr>\n",
       "  </tbody>\n",
       "</table>\n",
       "</div>"
      ],
      "text/plain": [
       "         WEEK_END_DATE  STORE_NUM         UPC  UNITS  VISITS  HHS  SPEND  \\\n",
       "0  2009-01-14 00:00:00        367  1111009477     13      13   13  18.07   \n",
       "1  2009-01-14 00:00:00        367  1111009497     20      18   18  27.80   \n",
       "2  2009-01-14 00:00:00        367  1111009507     14      14   14  19.32   \n",
       "3  2009-01-14 00:00:00        367  1111035398      4       3    3  14.00   \n",
       "4  2009-01-14 00:00:00        367  1111038078      3       3    3   7.50   \n",
       "\n",
       "   PRICE  BASE_PRICE  FEATURE  DISPLAY  TPR_ONLY  \n",
       "0   1.39        1.57        0        0         1  \n",
       "1   1.39        1.39        0        0         0  \n",
       "2   1.38        1.38        0        0         0  \n",
       "3   3.50        4.49        0        0         1  \n",
       "4   2.50        2.50        0        0         0  "
      ]
     },
     "execution_count": 5,
     "metadata": {},
     "output_type": "execute_result"
    },
    {
     "data": {
      "text/html": [
       "<div>\n",
       "<style scoped>\n",
       "    .dataframe tbody tr th:only-of-type {\n",
       "        vertical-align: middle;\n",
       "    }\n",
       "\n",
       "    .dataframe tbody tr th {\n",
       "        vertical-align: top;\n",
       "    }\n",
       "\n",
       "    .dataframe thead th {\n",
       "        text-align: right;\n",
       "    }\n",
       "</style>\n",
       "<table border=\"1\" class=\"dataframe\">\n",
       "  <thead>\n",
       "    <tr style=\"text-align: right;\">\n",
       "      <th></th>\n",
       "      <th>STORE_ID</th>\n",
       "      <th>STORE_NAME</th>\n",
       "      <th>ADDRESS_CITY_NAME</th>\n",
       "      <th>ADDRESS_STATE_PROV_CODE</th>\n",
       "      <th>MSA_CODE</th>\n",
       "      <th>SEG_VALUE_NAME</th>\n",
       "      <th>PARKING_SPACE_QTY</th>\n",
       "      <th>SALES_AREA_SIZE_NUM</th>\n",
       "      <th>AVG_WEEKLY_BASKETS</th>\n",
       "    </tr>\n",
       "  </thead>\n",
       "  <tbody>\n",
       "    <tr>\n",
       "      <th>0</th>\n",
       "      <td>389</td>\n",
       "      <td>SILVERLAKE</td>\n",
       "      <td>ERLANGER</td>\n",
       "      <td>KY</td>\n",
       "      <td>17140</td>\n",
       "      <td>MAINSTREAM</td>\n",
       "      <td>408.0</td>\n",
       "      <td>46073</td>\n",
       "      <td>24766.807692</td>\n",
       "    </tr>\n",
       "    <tr>\n",
       "      <th>1</th>\n",
       "      <td>2277</td>\n",
       "      <td>ANDERSON TOWNE CTR</td>\n",
       "      <td>CINCINNATI</td>\n",
       "      <td>OH</td>\n",
       "      <td>17140</td>\n",
       "      <td>UPSCALE</td>\n",
       "      <td>NaN</td>\n",
       "      <td>81958</td>\n",
       "      <td>54052.519231</td>\n",
       "    </tr>\n",
       "    <tr>\n",
       "      <th>2</th>\n",
       "      <td>4259</td>\n",
       "      <td>WARSAW AVENUE</td>\n",
       "      <td>CINCINNATI</td>\n",
       "      <td>OH</td>\n",
       "      <td>17140</td>\n",
       "      <td>VALUE</td>\n",
       "      <td>NaN</td>\n",
       "      <td>48813</td>\n",
       "      <td>31177.333333</td>\n",
       "    </tr>\n",
       "    <tr>\n",
       "      <th>3</th>\n",
       "      <td>6379</td>\n",
       "      <td>KINGWOOD</td>\n",
       "      <td>KINGWOOD</td>\n",
       "      <td>TX</td>\n",
       "      <td>26420</td>\n",
       "      <td>MAINSTREAM</td>\n",
       "      <td>NaN</td>\n",
       "      <td>50237</td>\n",
       "      <td>20620.423077</td>\n",
       "    </tr>\n",
       "    <tr>\n",
       "      <th>4</th>\n",
       "      <td>6431</td>\n",
       "      <td>AT WARD ROAD</td>\n",
       "      <td>BAYTOWN</td>\n",
       "      <td>TX</td>\n",
       "      <td>26420</td>\n",
       "      <td>VALUE</td>\n",
       "      <td>350.0</td>\n",
       "      <td>43698</td>\n",
       "      <td>24321.942308</td>\n",
       "    </tr>\n",
       "  </tbody>\n",
       "</table>\n",
       "</div>"
      ],
      "text/plain": [
       "   STORE_ID          STORE_NAME ADDRESS_CITY_NAME ADDRESS_STATE_PROV_CODE  \\\n",
       "0       389          SILVERLAKE          ERLANGER                      KY   \n",
       "1      2277  ANDERSON TOWNE CTR        CINCINNATI                      OH   \n",
       "2      4259       WARSAW AVENUE        CINCINNATI                      OH   \n",
       "3      6379            KINGWOOD          KINGWOOD                      TX   \n",
       "4      6431        AT WARD ROAD           BAYTOWN                      TX   \n",
       "\n",
       "   MSA_CODE SEG_VALUE_NAME  PARKING_SPACE_QTY  SALES_AREA_SIZE_NUM  \\\n",
       "0     17140     MAINSTREAM              408.0                46073   \n",
       "1     17140        UPSCALE                NaN                81958   \n",
       "2     17140          VALUE                NaN                48813   \n",
       "3     26420     MAINSTREAM                NaN                50237   \n",
       "4     26420          VALUE              350.0                43698   \n",
       "\n",
       "   AVG_WEEKLY_BASKETS  \n",
       "0        24766.807692  \n",
       "1        54052.519231  \n",
       "2        31177.333333  \n",
       "3        20620.423077  \n",
       "4        24321.942308  "
      ]
     },
     "execution_count": 5,
     "metadata": {},
     "output_type": "execute_result"
    }
   ],
   "source": [
    "# showing the heads of the data frames\n",
    "products.head()\n",
    "transactions.head()\n",
    "stores.head()"
   ]
  },
  {
   "cell_type": "code",
   "execution_count": 6,
   "metadata": {},
   "outputs": [
    {
     "data": {
      "text/plain": [
       "array(['BAG SNACKS', 'ORAL HYGIENE PRODUCTS', 'COLD CEREAL',\n",
       "       'FROZEN PIZZA'], dtype=object)"
      ]
     },
     "execution_count": 6,
     "metadata": {},
     "output_type": "execute_result"
    }
   ],
   "source": [
    "products.CATEGORY.unique()"
   ]
  },
  {
   "cell_type": "code",
   "execution_count": 7,
   "metadata": {},
   "outputs": [
    {
     "data": {
      "text/plain": [
       "156"
      ]
     },
     "execution_count": 7,
     "metadata": {},
     "output_type": "execute_result"
    }
   ],
   "source": [
    "transactions.WEEK_END_DATE.unique().size"
   ]
  },
  {
   "cell_type": "code",
   "execution_count": 8,
   "metadata": {},
   "outputs": [
    {
     "data": {
      "text/html": [
       "<div>\n",
       "<style scoped>\n",
       "    .dataframe tbody tr th:only-of-type {\n",
       "        vertical-align: middle;\n",
       "    }\n",
       "\n",
       "    .dataframe tbody tr th {\n",
       "        vertical-align: top;\n",
       "    }\n",
       "\n",
       "    .dataframe thead th {\n",
       "        text-align: right;\n",
       "    }\n",
       "</style>\n",
       "<table border=\"1\" class=\"dataframe\">\n",
       "  <thead>\n",
       "    <tr style=\"text-align: right;\">\n",
       "      <th></th>\n",
       "      <th>WEEK_END_DATE</th>\n",
       "      <th>STORE_NUM</th>\n",
       "      <th>UPC</th>\n",
       "      <th>UNITS</th>\n",
       "      <th>VISITS</th>\n",
       "      <th>HHS</th>\n",
       "      <th>SPEND</th>\n",
       "      <th>PRICE</th>\n",
       "      <th>BASE_PRICE</th>\n",
       "      <th>FEATURE</th>\n",
       "      <th>DISPLAY</th>\n",
       "      <th>TPR_ONLY</th>\n",
       "      <th>Discount</th>\n",
       "      <th>Discount_Percentage</th>\n",
       "    </tr>\n",
       "  </thead>\n",
       "  <tbody>\n",
       "    <tr>\n",
       "      <th>0</th>\n",
       "      <td>2009-01-14 00:00:00</td>\n",
       "      <td>367</td>\n",
       "      <td>1111009477</td>\n",
       "      <td>13</td>\n",
       "      <td>13</td>\n",
       "      <td>13</td>\n",
       "      <td>18.07</td>\n",
       "      <td>1.39</td>\n",
       "      <td>1.57</td>\n",
       "      <td>0</td>\n",
       "      <td>0</td>\n",
       "      <td>1</td>\n",
       "      <td>1</td>\n",
       "      <td>0.11465</td>\n",
       "    </tr>\n",
       "    <tr>\n",
       "      <th>1</th>\n",
       "      <td>2009-01-14 00:00:00</td>\n",
       "      <td>367</td>\n",
       "      <td>1111009497</td>\n",
       "      <td>20</td>\n",
       "      <td>18</td>\n",
       "      <td>18</td>\n",
       "      <td>27.80</td>\n",
       "      <td>1.39</td>\n",
       "      <td>1.39</td>\n",
       "      <td>0</td>\n",
       "      <td>0</td>\n",
       "      <td>0</td>\n",
       "      <td>0</td>\n",
       "      <td>0.00000</td>\n",
       "    </tr>\n",
       "    <tr>\n",
       "      <th>2</th>\n",
       "      <td>2009-01-14 00:00:00</td>\n",
       "      <td>367</td>\n",
       "      <td>1111009507</td>\n",
       "      <td>14</td>\n",
       "      <td>14</td>\n",
       "      <td>14</td>\n",
       "      <td>19.32</td>\n",
       "      <td>1.38</td>\n",
       "      <td>1.38</td>\n",
       "      <td>0</td>\n",
       "      <td>0</td>\n",
       "      <td>0</td>\n",
       "      <td>0</td>\n",
       "      <td>0.00000</td>\n",
       "    </tr>\n",
       "    <tr>\n",
       "      <th>3</th>\n",
       "      <td>2009-01-14 00:00:00</td>\n",
       "      <td>367</td>\n",
       "      <td>1111035398</td>\n",
       "      <td>4</td>\n",
       "      <td>3</td>\n",
       "      <td>3</td>\n",
       "      <td>14.00</td>\n",
       "      <td>3.50</td>\n",
       "      <td>4.49</td>\n",
       "      <td>0</td>\n",
       "      <td>0</td>\n",
       "      <td>1</td>\n",
       "      <td>1</td>\n",
       "      <td>0.22049</td>\n",
       "    </tr>\n",
       "    <tr>\n",
       "      <th>4</th>\n",
       "      <td>2009-01-14 00:00:00</td>\n",
       "      <td>367</td>\n",
       "      <td>1111038078</td>\n",
       "      <td>3</td>\n",
       "      <td>3</td>\n",
       "      <td>3</td>\n",
       "      <td>7.50</td>\n",
       "      <td>2.50</td>\n",
       "      <td>2.50</td>\n",
       "      <td>0</td>\n",
       "      <td>0</td>\n",
       "      <td>0</td>\n",
       "      <td>0</td>\n",
       "      <td>0.00000</td>\n",
       "    </tr>\n",
       "  </tbody>\n",
       "</table>\n",
       "</div>"
      ],
      "text/plain": [
       "         WEEK_END_DATE  STORE_NUM         UPC  UNITS  VISITS  HHS  SPEND  \\\n",
       "0  2009-01-14 00:00:00        367  1111009477     13      13   13  18.07   \n",
       "1  2009-01-14 00:00:00        367  1111009497     20      18   18  27.80   \n",
       "2  2009-01-14 00:00:00        367  1111009507     14      14   14  19.32   \n",
       "3  2009-01-14 00:00:00        367  1111035398      4       3    3  14.00   \n",
       "4  2009-01-14 00:00:00        367  1111038078      3       3    3   7.50   \n",
       "\n",
       "   PRICE  BASE_PRICE  FEATURE  DISPLAY  TPR_ONLY  Discount  \\\n",
       "0   1.39        1.57        0        0         1         1   \n",
       "1   1.39        1.39        0        0         0         0   \n",
       "2   1.38        1.38        0        0         0         0   \n",
       "3   3.50        4.49        0        0         1         1   \n",
       "4   2.50        2.50        0        0         0         0   \n",
       "\n",
       "   Discount_Percentage  \n",
       "0              0.11465  \n",
       "1              0.00000  \n",
       "2              0.00000  \n",
       "3              0.22049  \n",
       "4              0.00000  "
      ]
     },
     "execution_count": 8,
     "metadata": {},
     "output_type": "execute_result"
    }
   ],
   "source": [
    "transactions = transactions.dropna(axis=0)\n",
    "transactions['Discount'] = transactions.FEATURE | transactions.DISPLAY | transactions.TPR_ONLY\n",
    "transactions['Discount_Percentage']= (transactions.BASE_PRICE - transactions.PRICE)/transactions.BASE_PRICE\n",
    "transactions.head()"
   ]
  },
  {
   "cell_type": "markdown",
   "metadata": {},
   "source": [
    "####  Total sale, sale in dicount period, sale in normal period per category"
   ]
  },
  {
   "cell_type": "code",
   "execution_count": 9,
   "metadata": {
    "scrolled": true
   },
   "outputs": [],
   "source": [
    "Total_sale = transactions.merge(products[['UPC','CATEGORY']], on='UPC', how='left')\\\n",
    "             .groupby('CATEGORY').UNITS.sum().reset_index()\n",
    "\n",
    "Total_sale_normal = transactions[transactions.Discount==0]\\\n",
    "                     .merge(products[['UPC','CATEGORY']], on='UPC', how='left')\\\n",
    "                     .groupby('CATEGORY').UNITS.sum().reset_index()\\\n",
    "                     .rename(columns={'UNITS':'UNITS_NORMAL'})\n",
    "\n",
    "Total_sale_discount = transactions[transactions.Discount==1]\\\n",
    "                     .merge(products[['UPC','CATEGORY']], on='UPC', how='left')\\\n",
    "                     .groupby('CATEGORY').UNITS.sum().reset_index()\\\n",
    "                     .rename(columns={'UNITS':'UNITS_DISC'})"
   ]
  },
  {
   "cell_type": "code",
   "execution_count": 10,
   "metadata": {},
   "outputs": [
    {
     "data": {
      "text/html": [
       "<div>\n",
       "<style scoped>\n",
       "    .dataframe tbody tr th:only-of-type {\n",
       "        vertical-align: middle;\n",
       "    }\n",
       "\n",
       "    .dataframe tbody tr th {\n",
       "        vertical-align: top;\n",
       "    }\n",
       "\n",
       "    .dataframe thead th {\n",
       "        text-align: right;\n",
       "    }\n",
       "</style>\n",
       "<table border=\"1\" class=\"dataframe\">\n",
       "  <thead>\n",
       "    <tr style=\"text-align: right;\">\n",
       "      <th></th>\n",
       "      <th>CATEGORY</th>\n",
       "      <th>UNITS</th>\n",
       "      <th>UNITS_NORMAL</th>\n",
       "      <th>UNITS_DISC</th>\n",
       "    </tr>\n",
       "  </thead>\n",
       "  <tbody>\n",
       "    <tr>\n",
       "      <th>0</th>\n",
       "      <td>BAG SNACKS</td>\n",
       "      <td>2601247</td>\n",
       "      <td>1490290</td>\n",
       "      <td>1110957</td>\n",
       "    </tr>\n",
       "    <tr>\n",
       "      <th>1</th>\n",
       "      <td>COLD CEREAL</td>\n",
       "      <td>5826783</td>\n",
       "      <td>3301659</td>\n",
       "      <td>2525124</td>\n",
       "    </tr>\n",
       "    <tr>\n",
       "      <th>2</th>\n",
       "      <td>FROZEN PIZZA</td>\n",
       "      <td>1341731</td>\n",
       "      <td>609736</td>\n",
       "      <td>731995</td>\n",
       "    </tr>\n",
       "    <tr>\n",
       "      <th>3</th>\n",
       "      <td>ORAL HYGIENE PRODUCTS</td>\n",
       "      <td>521140</td>\n",
       "      <td>282085</td>\n",
       "      <td>239055</td>\n",
       "    </tr>\n",
       "  </tbody>\n",
       "</table>\n",
       "</div>"
      ],
      "text/plain": [
       "                CATEGORY    UNITS  UNITS_NORMAL  UNITS_DISC\n",
       "0             BAG SNACKS  2601247       1490290     1110957\n",
       "1            COLD CEREAL  5826783       3301659     2525124\n",
       "2           FROZEN PIZZA  1341731        609736      731995\n",
       "3  ORAL HYGIENE PRODUCTS   521140        282085      239055"
      ]
     },
     "execution_count": 10,
     "metadata": {},
     "output_type": "execute_result"
    }
   ],
   "source": [
    "sales_combined = Total_sale\\\n",
    "                 .merge(Total_sale_normal, on='CATEGORY', how='left')\\\n",
    "                 .merge(Total_sale_discount, on='CATEGORY', how='left')\n",
    "sales_combined"
   ]
  },
  {
   "cell_type": "code",
   "execution_count": 11,
   "metadata": {},
   "outputs": [
    {
     "data": {
      "image/png": "[encoded data removed]",
      "text/plain": [
       "<Figure size 432x288 with 1 Axes>"
      ]
     },
     "metadata": {
      "needs_background": "light"
     },
     "output_type": "display_data"
    }
   ],
   "source": [
    "_ = sales_combined.plot(kind='bar', x='CATEGORY', y=['UNITS', 'UNITS_NORMAL', 'UNITS_DISC'],\\\n",
    "                        label=['Units', 'Units normal', 'Units promotion'], title='Units sold with and without promotion')\n",
    "_ = plt.xlabel(\"Category\")\n",
    "_ = plt.ylabel(\"Units Sold\")\n",
    "plt.show()"
   ]
  },
  {
   "cell_type": "markdown",
   "metadata": {},
   "source": [
    "#### Sales by Feature, Display, or TPR_Only"
   ]
  },
  {
   "cell_type": "code",
   "execution_count": 12,
   "metadata": {},
   "outputs": [],
   "source": [
    "Total_sale_feature = transactions[transactions.FEATURE==1]\\\n",
    "                     .merge(products[['UPC','CATEGORY']], on='UPC', how='left')\\\n",
    "                     .groupby('CATEGORY').UNITS.sum().reset_index()\\\n",
    "                     .rename(columns={'UNITS':'UNITS_FEATURE'})\n",
    "Total_sale_display = transactions[transactions.DISPLAY==1]\\\n",
    "                     .merge(products[['UPC','CATEGORY']], on='UPC', how='left')\\\n",
    "                     .groupby('CATEGORY').UNITS.sum().reset_index()\\\n",
    "                     .rename(columns={'UNITS':'UNITS_DISPLAY'})\n",
    "Total_sale_Only = transactions[transactions.TPR_ONLY==1]\\\n",
    "                    .merge(products[['UPC','CATEGORY']], on='UPC', how='left')\\\n",
    "                     .groupby('CATEGORY').UNITS.sum().reset_index()\\\n",
    "                     .rename(columns={'UNITS':'UNITS_ONLY'})"
   ]
  },
  {
   "cell_type": "code",
   "execution_count": 13,
   "metadata": {},
   "outputs": [
    {
     "data": {
      "image/png": "[encoded data removed]",
      "text/plain": [
       "<Figure size 432x288 with 1 Axes>"
      ]
     },
     "metadata": {
      "needs_background": "light"
     },
     "output_type": "display_data"
    },
    {
     "data": {
      "image/png": "[encoded data removed]",
      "text/plain": [
       "<Figure size 432x288 with 1 Axes>"
      ]
     },
     "metadata": {
      "needs_background": "light"
     },
     "output_type": "display_data"
    },
    {
     "data": {
      "image/png": "[encoded data removed]",
      "text/plain": [
       "<Figure size 432x288 with 1 Axes>"
      ]
     },
     "metadata": {
      "needs_background": "light"
     },
     "output_type": "display_data"
    }
   ],
   "source": [
    "_ = Total_sale_feature.plot(kind='bar', x='CATEGORY', y='UNITS_FEATURE', title='Total units sold on feature promotion')\n",
    "_ = plt.xlabel(\"Category\")\n",
    "_ = plt.ylabel(\"Units Sold\")\n",
    "plt.show()\n",
    "_ = Total_sale_display.plot(kind='bar', x='CATEGORY', y='UNITS_DISPLAY', title='Total units sold on display promotion')\n",
    "_ = plt.xlabel(\"Category\")\n",
    "_ = plt.ylabel(\"Units Sold\")\n",
    "plt.show()\n",
    "_ = Total_sale_Only.plot(kind='bar', x='CATEGORY', y='UNITS_ONLY', title='Total units sold on TPR promotion')\n",
    "_ = plt.xlabel(\"Category\")\n",
    "_ = plt.ylabel(\"Units Sold\")\n",
    "plt.show()"
   ]
  },
  {
   "cell_type": "markdown",
   "metadata": {},
   "source": [
    "### Normalised sales"
   ]
  },
  {
   "cell_type": "code",
   "execution_count": 14,
   "metadata": {},
   "outputs": [],
   "source": [
    "Ndays_normal = transactions[transactions.Discount==0]\\\n",
    "                     .groupby(['WEEK_END_DATE','UPC'])\\\n",
    "                     .STORE_NUM.size().reset_index()\\\n",
    "                     .groupby('UPC').STORE_NUM.sum().reset_index()\\\n",
    "                     .merge(products[['UPC','CATEGORY']], on='UPC', how='left')\\\n",
    "                     .groupby('CATEGORY').STORE_NUM.sum().reset_index()\\\n",
    "                     .rename(columns={'STORE_NUM':'NORM_UNITS_NORMAL'})\n",
    "\n",
    "Ndays_discount = transactions[transactions.Discount==1]\\\n",
    "                     .groupby(['WEEK_END_DATE','UPC'])\\\n",
    "                     .STORE_NUM.size().reset_index()\\\n",
    "                     .groupby('UPC').STORE_NUM.sum().reset_index()\\\n",
    "                     .merge(products[['UPC','CATEGORY']], on='UPC', how='left')\\\n",
    "                     .groupby('CATEGORY').STORE_NUM.sum().reset_index()\\\n",
    "                     .rename(columns={'STORE_NUM':'NORM_UNITS_DISC'})"
   ]
  },
  {
   "cell_type": "code",
   "execution_count": 15,
   "metadata": {},
   "outputs": [
    {
     "data": {
      "text/html": [
       "<div>\n",
       "<style scoped>\n",
       "    .dataframe tbody tr th:only-of-type {\n",
       "        vertical-align: middle;\n",
       "    }\n",
       "\n",
       "    .dataframe tbody tr th {\n",
       "        vertical-align: top;\n",
       "    }\n",
       "\n",
       "    .dataframe thead th {\n",
       "        text-align: right;\n",
       "    }\n",
       "</style>\n",
       "<table border=\"1\" class=\"dataframe\">\n",
       "  <thead>\n",
       "    <tr style=\"text-align: right;\">\n",
       "      <th></th>\n",
       "      <th>CATEGORY</th>\n",
       "      <th>NORM_UNITS_NORMAL</th>\n",
       "    </tr>\n",
       "  </thead>\n",
       "  <tbody>\n",
       "    <tr>\n",
       "      <th>0</th>\n",
       "      <td>BAG SNACKS</td>\n",
       "      <td>88718</td>\n",
       "    </tr>\n",
       "    <tr>\n",
       "      <th>1</th>\n",
       "      <td>COLD CEREAL</td>\n",
       "      <td>129471</td>\n",
       "    </tr>\n",
       "    <tr>\n",
       "      <th>2</th>\n",
       "      <td>FROZEN PIZZA</td>\n",
       "      <td>77149</td>\n",
       "    </tr>\n",
       "    <tr>\n",
       "      <th>3</th>\n",
       "      <td>ORAL HYGIENE PRODUCTS</td>\n",
       "      <td>80203</td>\n",
       "    </tr>\n",
       "  </tbody>\n",
       "</table>\n",
       "</div>"
      ],
      "text/plain": [
       "                CATEGORY  NORM_UNITS_NORMAL\n",
       "0             BAG SNACKS              88718\n",
       "1            COLD CEREAL             129471\n",
       "2           FROZEN PIZZA              77149\n",
       "3  ORAL HYGIENE PRODUCTS              80203"
      ]
     },
     "execution_count": 15,
     "metadata": {},
     "output_type": "execute_result"
    }
   ],
   "source": [
    "Ndays_normal"
   ]
  },
  {
   "cell_type": "code",
   "execution_count": 16,
   "metadata": {},
   "outputs": [],
   "source": [
    "#Normalised data sets\n",
    "\n",
    "Normalised_sale_normal = Total_sale_normal.copy(deep= True)\n",
    "Normalised_sale_normal.UNITS_NORMAL = Normalised_sale_normal.UNITS_NORMAL\\\n",
    "                                      /Ndays_normal.NORM_UNITS_NORMAL\n",
    "\n",
    "Normalised_sale_discount = Total_sale_discount.copy(deep= True)\n",
    "Normalised_sale_discount.UNITS_DISC = Normalised_sale_discount.UNITS_DISC\\\n",
    "                                      /Ndays_discount.NORM_UNITS_DISC\n"
   ]
  },
  {
   "cell_type": "code",
   "execution_count": 17,
   "metadata": {},
   "outputs": [
    {
     "data": {
      "text/html": [
       "<div>\n",
       "<style scoped>\n",
       "    .dataframe tbody tr th:only-of-type {\n",
       "        vertical-align: middle;\n",
       "    }\n",
       "\n",
       "    .dataframe tbody tr th {\n",
       "        vertical-align: top;\n",
       "    }\n",
       "\n",
       "    .dataframe thead th {\n",
       "        text-align: right;\n",
       "    }\n",
       "</style>\n",
       "<table border=\"1\" class=\"dataframe\">\n",
       "  <thead>\n",
       "    <tr style=\"text-align: right;\">\n",
       "      <th></th>\n",
       "      <th>CATEGORY</th>\n",
       "      <th>UNITS_NORMAL</th>\n",
       "      <th>UNITS_DISC</th>\n",
       "    </tr>\n",
       "  </thead>\n",
       "  <tbody>\n",
       "    <tr>\n",
       "      <th>0</th>\n",
       "      <td>BAG SNACKS</td>\n",
       "      <td>16.798057</td>\n",
       "      <td>28.731399</td>\n",
       "    </tr>\n",
       "    <tr>\n",
       "      <th>1</th>\n",
       "      <td>COLD CEREAL</td>\n",
       "      <td>25.501147</td>\n",
       "      <td>62.804656</td>\n",
       "    </tr>\n",
       "    <tr>\n",
       "      <th>2</th>\n",
       "      <td>FROZEN PIZZA</td>\n",
       "      <td>7.903356</td>\n",
       "      <td>21.512182</td>\n",
       "    </tr>\n",
       "    <tr>\n",
       "      <th>3</th>\n",
       "      <td>ORAL HYGIENE PRODUCTS</td>\n",
       "      <td>3.517138</td>\n",
       "      <td>6.585356</td>\n",
       "    </tr>\n",
       "  </tbody>\n",
       "</table>\n",
       "</div>"
      ],
      "text/plain": [
       "                CATEGORY  UNITS_NORMAL  UNITS_DISC\n",
       "0             BAG SNACKS     16.798057   28.731399\n",
       "1            COLD CEREAL     25.501147   62.804656\n",
       "2           FROZEN PIZZA      7.903356   21.512182\n",
       "3  ORAL HYGIENE PRODUCTS      3.517138    6.585356"
      ]
     },
     "execution_count": 17,
     "metadata": {},
     "output_type": "execute_result"
    }
   ],
   "source": [
    "Normalised_sales_combined = Normalised_sale_normal\\\n",
    "                 .merge(Normalised_sale_discount, on='CATEGORY', how='left')\n",
    "Normalised_sales_combined"
   ]
  },
  {
   "cell_type": "code",
   "execution_count": 18,
   "metadata": {},
   "outputs": [
    {
     "data": {
      "image/png": "[encoded data removed]",
      "text/plain": [
       "<Figure size 432x288 with 1 Axes>"
      ]
     },
     "metadata": {
      "needs_background": "light"
     },
     "output_type": "display_data"
    }
   ],
   "source": [
    "_ = Normalised_sales_combined.plot(kind='bar', x='CATEGORY', y=['UNITS_NORMAL', 'UNITS_DISC'],\\\n",
    "                        label=['Units normal', 'Units promotion'],\\\n",
    "                                   title='Units sold on normal and promotion days (Normalised)')\n",
    "_ = plt.xlabel(\"Category\")\n",
    "_ = plt.ylabel(\"Units Sold per store per weeekend\")\n",
    "plt.show()"
   ]
  },
  {
   "cell_type": "markdown",
   "metadata": {},
   "source": [
    "#### Sales by Feature, Display, or TPR_Only (Normalised)"
   ]
  },
  {
   "cell_type": "code",
   "execution_count": 19,
   "metadata": {},
   "outputs": [],
   "source": [
    "Ndays_feature = transactions[transactions.FEATURE==1]\\\n",
    "                     .groupby(['WEEK_END_DATE','UPC'])\\\n",
    "                     .STORE_NUM.size().reset_index()\\\n",
    "                     .groupby('UPC').STORE_NUM.sum().reset_index()\\\n",
    "                     .merge(products[['UPC','CATEGORY']], on='UPC', how='left')\\\n",
    "                     .groupby('CATEGORY').STORE_NUM.sum().reset_index()\\\n",
    "                     .rename(columns={'STORE_NUM':'NORM_UNITS_FEATURE'})\n",
    " \n",
    "Ndays_display = transactions[transactions.DISPLAY==1]\\\n",
    "                     .groupby(['WEEK_END_DATE','UPC'])\\\n",
    "                     .STORE_NUM.size().reset_index()\\\n",
    "                     .groupby('UPC').STORE_NUM.sum().reset_index()\\\n",
    "                     .merge(products[['UPC','CATEGORY']], on='UPC', how='left')\\\n",
    "                     .groupby('CATEGORY').STORE_NUM.sum().reset_index()\\\n",
    "                     .rename(columns={'STORE_NUM':'NORM_UNITS_DISPLAY'})\n",
    "\n",
    "Ndays_Only = transactions[transactions.TPR_ONLY==1]\\\n",
    "                     .groupby(['WEEK_END_DATE','UPC'])\\\n",
    "                     .STORE_NUM.size().reset_index()\\\n",
    "                     .groupby('UPC').STORE_NUM.sum().reset_index()\\\n",
    "                     .merge(products[['UPC','CATEGORY']], on='UPC', how='left')\\\n",
    "                     .groupby('CATEGORY').STORE_NUM.sum().reset_index()\\\n",
    "                     .rename(columns={'STORE_NUM':'NORM_UNITS_ONLY'})"
   ]
  },
  {
   "cell_type": "code",
   "execution_count": 20,
   "metadata": {},
   "outputs": [],
   "source": [
    "#Normalised most sucessful type of promotion: \n",
    "\n",
    "Normalised_sale_feature = Total_sale_feature.copy(deep= True)\n",
    "Normalised_sale_feature.UNITS_FEATURE = Normalised_sale_feature.UNITS_FEATURE\\\n",
    "                                     /Ndays_feature.NORM_UNITS_FEATURE\n",
    "\n",
    "Normalised_sale_display = Total_sale_display.copy(deep= True)\n",
    "Normalised_sale_display.UNITS_DISPLAY = Normalised_sale_display.UNITS_DISPLAY\\\n",
    "                                      /Ndays_display.NORM_UNITS_DISPLAY\n",
    "\n",
    "Normalised_sale_Only = Total_sale_Only.copy(deep= True)\n",
    "Normalised_sale_Only.UNITS_ONLY = Normalised_sale_Only.UNITS_ONLY\\\n",
    "                                      /Ndays_Only.NORM_UNITS_ONLY"
   ]
  },
  {
   "cell_type": "code",
   "execution_count": 21,
   "metadata": {},
   "outputs": [
    {
     "data": {
      "text/html": [
       "<div>\n",
       "<style scoped>\n",
       "    .dataframe tbody tr th:only-of-type {\n",
       "        vertical-align: middle;\n",
       "    }\n",
       "\n",
       "    .dataframe tbody tr th {\n",
       "        vertical-align: top;\n",
       "    }\n",
       "\n",
       "    .dataframe thead th {\n",
       "        text-align: right;\n",
       "    }\n",
       "</style>\n",
       "<table border=\"1\" class=\"dataframe\">\n",
       "  <thead>\n",
       "    <tr style=\"text-align: right;\">\n",
       "      <th></th>\n",
       "      <th>CATEGORY</th>\n",
       "      <th>UNITS_FEATURE</th>\n",
       "      <th>UNITS_DISPLAY</th>\n",
       "      <th>UNITS_ONLY</th>\n",
       "    </tr>\n",
       "  </thead>\n",
       "  <tbody>\n",
       "    <tr>\n",
       "      <th>0</th>\n",
       "      <td>BAG SNACKS</td>\n",
       "      <td>35.140462</td>\n",
       "      <td>44.315673</td>\n",
       "      <td>16.704998</td>\n",
       "    </tr>\n",
       "    <tr>\n",
       "      <th>1</th>\n",
       "      <td>COLD CEREAL</td>\n",
       "      <td>93.893280</td>\n",
       "      <td>92.303022</td>\n",
       "      <td>36.434502</td>\n",
       "    </tr>\n",
       "    <tr>\n",
       "      <th>2</th>\n",
       "      <td>FROZEN PIZZA</td>\n",
       "      <td>25.967638</td>\n",
       "      <td>27.746035</td>\n",
       "      <td>12.197750</td>\n",
       "    </tr>\n",
       "    <tr>\n",
       "      <th>3</th>\n",
       "      <td>ORAL HYGIENE PRODUCTS</td>\n",
       "      <td>10.210232</td>\n",
       "      <td>8.182900</td>\n",
       "      <td>5.366363</td>\n",
       "    </tr>\n",
       "  </tbody>\n",
       "</table>\n",
       "</div>"
      ],
      "text/plain": [
       "                CATEGORY  UNITS_FEATURE  UNITS_DISPLAY  UNITS_ONLY\n",
       "0             BAG SNACKS      35.140462      44.315673   16.704998\n",
       "1            COLD CEREAL      93.893280      92.303022   36.434502\n",
       "2           FROZEN PIZZA      25.967638      27.746035   12.197750\n",
       "3  ORAL HYGIENE PRODUCTS      10.210232       8.182900    5.366363"
      ]
     },
     "execution_count": 21,
     "metadata": {},
     "output_type": "execute_result"
    }
   ],
   "source": [
    "Normalised_disc_combined = Normalised_sale_feature\\\n",
    "                 .merge(Normalised_sale_display, on='CATEGORY', how='left')\\\n",
    "                 .merge(Normalised_sale_Only, on='CATEGORY', how='left')\n",
    "Normalised_disc_combined"
   ]
  },
  {
   "cell_type": "code",
   "execution_count": 22,
   "metadata": {},
   "outputs": [
    {
     "data": {
      "image/png": "[encoded data removed]",
      "text/plain": [
       "<Figure size 432x288 with 1 Axes>"
      ]
     },
     "metadata": {
      "needs_background": "light"
     },
     "output_type": "display_data"
    }
   ],
   "source": [
    "_ = Normalised_disc_combined.plot(kind='bar', x='CATEGORY', y=['UNITS_FEATURE', 'UNITS_DISPLAY', 'UNITS_ONLY'],\\\n",
    "                        label=['Feature promotion', 'Display promotion', 'TPR promotion'],\\\n",
    "                        title='Units sold on different promotion days (Normalised)')\n",
    "_ = plt.xlabel(\"Category\")\n",
    "_ = plt.ylabel(\"Units Sold per store per weeekend\")\n",
    "plt.show()"
   ]
  },
  {
   "cell_type": "markdown",
   "metadata": {},
   "source": [
    "#### How discount percentages impact sales"
   ]
  },
  {
   "cell_type": "code",
   "execution_count": 35,
   "metadata": {},
   "outputs": [],
   "source": [
    "def discount_percentage_database(discount_class_length):\n",
    "    discount = np.linspace(0,1,round(1/discount_class_length)+1)\n",
    "    #discount = [ '%.2f' % elem for elem in discount ]\n",
    "    discount_range = zip(discount[0:-1],discount[1:])\n",
    "    normalised_bypercentage = pd.DataFrame({'CATEGORY': products.CATEGORY.unique()})\n",
    "    for discount_bin in discount_range:\n",
    "        d1=discount_bin[0]*100\n",
    "        d2=discount_bin[1]*100\n",
    "        temp='{}-{}%'.format('%.2f' % d1,'%.2f' % d2)\n",
    "        sale_temp = transactions[(transactions.Discount_Percentage > discount_bin[0]) &\\\n",
    "                                  (transactions.Discount_Percentage <= discount_bin[1])]\\\n",
    "                      .merge(products[['UPC','CATEGORY']], on='UPC', how='left')\\\n",
    "                      .groupby('CATEGORY').UNITS.sum().reset_index()\\\n",
    "                      .rename(columns={'UNITS':temp})\n",
    "        ndays_temp = transactions[(transactions.Discount_Percentage > discount_bin[0]) &\\\n",
    "                                  (transactions.Discount_Percentage <= discount_bin[1])]\\\n",
    "                      .groupby(['WEEK_END_DATE','UPC'])\\\n",
    "                    .STORE_NUM.size().reset_index()\\\n",
    "                      .groupby('UPC').STORE_NUM.sum().reset_index()\\\n",
    "                      .merge(products[['UPC','CATEGORY']], on='UPC', how='left')\\\n",
    "                      .groupby('CATEGORY').STORE_NUM.sum().reset_index()\n",
    "        sale_temp[temp] = sale_temp[temp]/ndays_temp.STORE_NUM\n",
    "        normalised_bypercentage = normalised_bypercentage.merge(sale_temp, on='CATEGORY', how='left') \n",
    "    return normalised_bypercentage"
   ]
  },
  {
   "cell_type": "code",
   "execution_count": 42,
   "metadata": {
    "scrolled": true
   },
   "outputs": [
    {
     "data": {
      "text/html": [
       "<div>\n",
       "<style scoped>\n",
       "    .dataframe tbody tr th:only-of-type {\n",
       "        vertical-align: middle;\n",
       "    }\n",
       "\n",
       "    .dataframe tbody tr th {\n",
       "        vertical-align: top;\n",
       "    }\n",
       "\n",
       "    .dataframe thead th {\n",
       "        text-align: right;\n",
       "    }\n",
       "</style>\n",
       "<table border=\"1\" class=\"dataframe\">\n",
       "  <thead>\n",
       "    <tr style=\"text-align: right;\">\n",
       "      <th></th>\n",
       "      <th>CATEGORY</th>\n",
       "      <th>0.00-33.33%</th>\n",
       "      <th>33.33-66.67%</th>\n",
       "      <th>66.67-100.00%</th>\n",
       "    </tr>\n",
       "  </thead>\n",
       "  <tbody>\n",
       "    <tr>\n",
       "      <th>0</th>\n",
       "      <td>BAG SNACKS</td>\n",
       "      <td>25.368228</td>\n",
       "      <td>14.593081</td>\n",
       "      <td>4.963636</td>\n",
       "    </tr>\n",
       "    <tr>\n",
       "      <th>1</th>\n",
       "      <td>ORAL HYGIENE PRODUCTS</td>\n",
       "      <td>5.634873</td>\n",
       "      <td>9.574208</td>\n",
       "      <td>9.037037</td>\n",
       "    </tr>\n",
       "    <tr>\n",
       "      <th>2</th>\n",
       "      <td>COLD CEREAL</td>\n",
       "      <td>53.763967</td>\n",
       "      <td>118.007242</td>\n",
       "      <td>47.705882</td>\n",
       "    </tr>\n",
       "    <tr>\n",
       "      <th>3</th>\n",
       "      <td>FROZEN PIZZA</td>\n",
       "      <td>19.785781</td>\n",
       "      <td>32.041645</td>\n",
       "      <td>1.750000</td>\n",
       "    </tr>\n",
       "  </tbody>\n",
       "</table>\n",
       "</div>"
      ],
      "text/plain": [
       "                CATEGORY  0.00-33.33%  33.33-66.67%  66.67-100.00%\n",
       "0             BAG SNACKS    25.368228     14.593081       4.963636\n",
       "1  ORAL HYGIENE PRODUCTS     5.634873      9.574208       9.037037\n",
       "2            COLD CEREAL    53.763967    118.007242      47.705882\n",
       "3           FROZEN PIZZA    19.785781     32.041645       1.750000"
      ]
     },
     "execution_count": 42,
     "metadata": {},
     "output_type": "execute_result"
    }
   ],
   "source": [
    "discount_sales = discount_percentage_database(0.3)\n",
    "discount_sales"
   ]
  },
  {
   "cell_type": "code",
   "execution_count": 43,
   "metadata": {},
   "outputs": [
    {
     "data": {
      "image/png": "[encoded data removed]",
      "text/plain": [
       "<Figure size 432x288 with 1 Axes>"
      ]
     },
     "metadata": {
      "needs_background": "light"
     },
     "output_type": "display_data"
    }
   ],
   "source": [
    "_ = discount_sales.plot(kind='bar', x='CATEGORY', y=discount_sales.columns.to_list()[1:],\\\n",
    "                        title='Units sold with different discount rates (Normalised)')\n",
    "_ = plt.xlabel(\"Category\")\n",
    "_ = plt.ylabel(\"Units Sold per store per weeekend\")\n",
    "plt.show()"
   ]
  },
  {
   "cell_type": "markdown",
   "metadata": {},
   "source": [
    "# How frequency of discounts at a store effects sales  "
   ]
  },
  {
   "cell_type": "code",
   "execution_count": 23,
   "metadata": {},
   "outputs": [],
   "source": [
    "# transactions=pd.read_excel(\"data/userdata.xlsx\", sheet_name='dh Transaction Data')\n",
    "# transactions1=transactions.copy(deep = True)\n",
    "# transactions1=transactions1.dropna(axis='columns', how='all')\n",
    "# transactions1.columns=transactions1.iloc[0].to_list()\n",
    "# transactions1.drop(0, inplace=True)\n",
    "# transactions1 =transactions1.to_csv ('data/products.csv', index = None, header=True)"
   ]
  },
  {
   "cell_type": "markdown",
   "metadata": {},
   "source": [
    "\n",
    "# Plans for Milestone 3:\n",
    "\n",
    "\n",
    "* We plan to create a data story for the third milestone.\n",
    "\n",
    "\n",
    "* As internal organization, we proposed to have the following internal mini milestones:\n",
    "    - **Week1: 25.11.2019 - 01.12.2019**\n",
    "\t\t- First Half: Gather any particular findings we might have and try to make a sinthesys of things we should include in the datastory\n",
    "\t\t- Second Half: Look over technologies that might help us implement a good looking page like html, javascript (and plotting libraries)\n",
    "\t\n",
    "\t- **Week2: 02.12.2019 - 08.12.2019**\n",
    "\t\t- First Half: Make an Idea about how we would want our data story look like and decide the topic\n",
    "\t\t- Second Half: Implement a first version where we arrange things and link libraries and decide about what technologies we use (this includes creating the HTML template, CSS files and other requirements for the web page)\n",
    "\t\n",
    "\t- **Week3: 09.12.2019 - 15.12.2019**\n",
    "\t\t- The actual implementation process of the data story\n",
    "\n",
    "\t- **Week4: 16.12.2019 - 19.12.2019**\n",
    "\t\t- Small design refinments"
   ]
  }
 ],
 "metadata": {
  "kernelspec": {
   "display_name": "Python 3",
   "language": "python",
   "name": "python3"
  },
  "language_info": {
   "codemirror_mode": {
    "name": "ipython",
    "version": 3
   },
   "file_extension": ".py",
   "mimetype": "text/x-python",
   "name": "python",
   "nbconvert_exporter": "python",
   "pygments_lexer": "ipython3",
   "version": "3.7.3"
  }
 },
 "nbformat": 4,
 "nbformat_minor": 4
}
