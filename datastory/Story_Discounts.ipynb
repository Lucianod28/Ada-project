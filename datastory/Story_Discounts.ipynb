{
 "cells": [
  {
   "cell_type": "markdown",
   "metadata": {},
   "source": [
    "# Loading data and preprocessing"
   ]
  },
  {
   "cell_type": "code",
   "execution_count": 1,
   "metadata": {},
   "outputs": [],
   "source": [
    "import pandas as pd\n",
    "import numpy as np\n",
    "from ipywidgets import interact\n",
    "from sklearn.linear_model import LinearRegression\n",
    "import matplotlib.pyplot as plt\n",
    "import matplotlib"
   ]
  },
  {
   "cell_type": "code",
   "execution_count": 2,
   "metadata": {},
   "outputs": [],
   "source": [
    "# Load the data\n",
    "path = 'data/dunnhumby_The-Complete-Journey/dunnhumby - The Complete Journey CSV/'\n",
    "data = {f: pd.read_csv(path + f + '.csv') for f in ['campaign_desc', 'campaign_table',\n",
    "                                                    'causal_data', 'coupon', 'coupon_redempt',\n",
    "                                                    'hh_demographic', 'product',\n",
    "                                                    'transaction_data']}"
   ]
  },
  {
   "cell_type": "markdown",
   "metadata": {},
   "source": [
    "# Checking for NaN data"
   ]
  },
  {
   "cell_type": "code",
   "execution_count": 3,
   "metadata": {},
   "outputs": [
    {
     "name": "stdout",
     "output_type": "stream",
     "text": [
      "NaN Data: False\n"
     ]
    },
    {
     "data": {
      "text/html": [
       "<div>\n",
       "<style scoped>\n",
       "    .dataframe tbody tr th:only-of-type {\n",
       "        vertical-align: middle;\n",
       "    }\n",
       "\n",
       "    .dataframe tbody tr th {\n",
       "        vertical-align: top;\n",
       "    }\n",
       "\n",
       "    .dataframe thead th {\n",
       "        text-align: right;\n",
       "    }\n",
       "</style>\n",
       "<table border=\"1\" class=\"dataframe\">\n",
       "  <thead>\n",
       "    <tr style=\"text-align: right;\">\n",
       "      <th></th>\n",
       "      <th>AGE_DESC</th>\n",
       "      <th>MARITAL_STATUS_CODE</th>\n",
       "      <th>INCOME_DESC</th>\n",
       "      <th>HOMEOWNER_DESC</th>\n",
       "      <th>HH_COMP_DESC</th>\n",
       "      <th>HOUSEHOLD_SIZE_DESC</th>\n",
       "      <th>KID_CATEGORY_DESC</th>\n",
       "      <th>household_key</th>\n",
       "    </tr>\n",
       "  </thead>\n",
       "  <tbody>\n",
       "    <tr>\n",
       "      <th>0</th>\n",
       "      <td>65+</td>\n",
       "      <td>A</td>\n",
       "      <td>35-49K</td>\n",
       "      <td>Homeowner</td>\n",
       "      <td>2 Adults No Kids</td>\n",
       "      <td>2</td>\n",
       "      <td>None/Unknown</td>\n",
       "      <td>1</td>\n",
       "    </tr>\n",
       "    <tr>\n",
       "      <th>1</th>\n",
       "      <td>45-54</td>\n",
       "      <td>A</td>\n",
       "      <td>50-74K</td>\n",
       "      <td>Homeowner</td>\n",
       "      <td>2 Adults No Kids</td>\n",
       "      <td>2</td>\n",
       "      <td>None/Unknown</td>\n",
       "      <td>7</td>\n",
       "    </tr>\n",
       "    <tr>\n",
       "      <th>2</th>\n",
       "      <td>25-34</td>\n",
       "      <td>U</td>\n",
       "      <td>25-34K</td>\n",
       "      <td>Unknown</td>\n",
       "      <td>2 Adults Kids</td>\n",
       "      <td>3</td>\n",
       "      <td>1</td>\n",
       "      <td>8</td>\n",
       "    </tr>\n",
       "    <tr>\n",
       "      <th>3</th>\n",
       "      <td>25-34</td>\n",
       "      <td>U</td>\n",
       "      <td>75-99K</td>\n",
       "      <td>Homeowner</td>\n",
       "      <td>2 Adults Kids</td>\n",
       "      <td>4</td>\n",
       "      <td>2</td>\n",
       "      <td>13</td>\n",
       "    </tr>\n",
       "    <tr>\n",
       "      <th>4</th>\n",
       "      <td>45-54</td>\n",
       "      <td>B</td>\n",
       "      <td>50-74K</td>\n",
       "      <td>Homeowner</td>\n",
       "      <td>Single Female</td>\n",
       "      <td>1</td>\n",
       "      <td>None/Unknown</td>\n",
       "      <td>16</td>\n",
       "    </tr>\n",
       "  </tbody>\n",
       "</table>\n",
       "</div>"
      ],
      "text/plain": [
       "  AGE_DESC MARITAL_STATUS_CODE INCOME_DESC HOMEOWNER_DESC      HH_COMP_DESC  \\\n",
       "0      65+                   A      35-49K      Homeowner  2 Adults No Kids   \n",
       "1    45-54                   A      50-74K      Homeowner  2 Adults No Kids   \n",
       "2    25-34                   U      25-34K        Unknown     2 Adults Kids   \n",
       "3    25-34                   U      75-99K      Homeowner     2 Adults Kids   \n",
       "4    45-54                   B      50-74K      Homeowner     Single Female   \n",
       "\n",
       "  HOUSEHOLD_SIZE_DESC KID_CATEGORY_DESC  household_key  \n",
       "0                   2      None/Unknown              1  \n",
       "1                   2      None/Unknown              7  \n",
       "2                   3                 1              8  \n",
       "3                   4                 2             13  \n",
       "4                   1      None/Unknown             16  "
      ]
     },
     "execution_count": 3,
     "metadata": {},
     "output_type": "execute_result"
    }
   ],
   "source": [
    "def data_missing(dataframes):\n",
    "    any_missing_data = False\n",
    "\n",
    "    for (name, dataframe) in dataframes.items():\n",
    "        any_missing_data = any_missing_data | dataframe.isna().values.any()\n",
    "\n",
    "    return any_missing_data\n",
    "\n",
    "print('NaN Data: %r' % data_missing(data))\n",
    "data['hh_demographic'].head()"
   ]
  },
  {
   "cell_type": "markdown",
   "metadata": {},
   "source": [
    "# Checking for other anomalies in the data"
   ]
  },
  {
   "cell_type": "markdown",
   "metadata": {},
   "source": [
    "<font color = \"green\">\n",
    "\n",
    "* As we can see we do not have any **NaN** data, so we do not have to worry about preprocessing, but we have indeed values that have the **Unknown** string instead of something valid. For this type of missing data we will not use lines that are marked with **Unknown** when creating plots if we need to know the value of that column."
   ]
  },
  {
   "cell_type": "code",
   "execution_count": 4,
   "metadata": {},
   "outputs": [
    {
     "data": {
      "text/plain": [
       "array(['GROCERY', 'MISC. TRANS.', 'PASTRY', 'DRUG GM', 'MEAT-PCKGD',\n",
       "       'SEAFOOD-PCKGD', 'PRODUCE', 'NUTRITION', 'DELI', 'COSMETICS',\n",
       "       'MEAT', 'FLORAL', 'TRAVEL & LEISUR', 'SEAFOOD', 'MISC SALES TRAN',\n",
       "       'SALAD BAR', 'KIOSK-GAS', 'ELECT &PLUMBING', 'GRO BAKERY',\n",
       "       'GM MERCH EXP', 'FROZEN GROCERY', 'COUP/STR & MFG', 'SPIRITS',\n",
       "       'GARDEN CENTER', 'TOYS', 'CHARITABLE CONT', 'RESTAURANT', 'RX',\n",
       "       'PROD-WHS SALES', 'MEAT-WHSE', 'DAIRY DELI', 'CHEF SHOPPE', 'HBC',\n",
       "       'DELI/SNACK BAR', 'PORK', 'AUTOMOTIVE', 'VIDEO RENTAL', ' ',\n",
       "       'CNTRL/STORE SUP', 'HOUSEWARES', 'POSTAL CENTER', 'PHOTO', 'VIDEO',\n",
       "       'PHARMACY SUPPLY'], dtype=object)"
      ]
     },
     "execution_count": 4,
     "metadata": {},
     "output_type": "execute_result"
    }
   ],
   "source": [
    "data['product']['DEPARTMENT'].unique()"
   ]
  },
  {
   "cell_type": "markdown",
   "metadata": {},
   "source": [
    "<font color = \"green\">\n",
    "    \n",
    "* Inspecting the `product` dataframe we see that there is a department name that contains only on space in its name. We shall print those lines to see if they have relevant information and if the haven't we shall remove them."
   ]
  },
  {
   "cell_type": "code",
   "execution_count": 5,
   "metadata": {
    "scrolled": true
   },
   "outputs": [
    {
     "data": {
      "text/html": [
       "<div>\n",
       "<style scoped>\n",
       "    .dataframe tbody tr th:only-of-type {\n",
       "        vertical-align: middle;\n",
       "    }\n",
       "\n",
       "    .dataframe tbody tr th {\n",
       "        vertical-align: top;\n",
       "    }\n",
       "\n",
       "    .dataframe thead th {\n",
       "        text-align: right;\n",
       "    }\n",
       "</style>\n",
       "<table border=\"1\" class=\"dataframe\">\n",
       "  <thead>\n",
       "    <tr style=\"text-align: right;\">\n",
       "      <th></th>\n",
       "      <th>PRODUCT_ID</th>\n",
       "      <th>MANUFACTURER</th>\n",
       "      <th>DEPARTMENT</th>\n",
       "      <th>BRAND</th>\n",
       "      <th>COMMODITY_DESC</th>\n",
       "      <th>SUB_COMMODITY_DESC</th>\n",
       "      <th>CURR_SIZE_OF_PRODUCT</th>\n",
       "    </tr>\n",
       "  </thead>\n",
       "  <tbody>\n",
       "    <tr>\n",
       "      <th>52189</th>\n",
       "      <td>5126087</td>\n",
       "      <td>1</td>\n",
       "      <td></td>\n",
       "      <td>National</td>\n",
       "      <td></td>\n",
       "      <td></td>\n",
       "      <td></td>\n",
       "    </tr>\n",
       "    <tr>\n",
       "      <th>52190</th>\n",
       "      <td>5126088</td>\n",
       "      <td>1</td>\n",
       "      <td></td>\n",
       "      <td>National</td>\n",
       "      <td></td>\n",
       "      <td></td>\n",
       "      <td></td>\n",
       "    </tr>\n",
       "    <tr>\n",
       "      <th>52191</th>\n",
       "      <td>5126106</td>\n",
       "      <td>1</td>\n",
       "      <td></td>\n",
       "      <td>National</td>\n",
       "      <td></td>\n",
       "      <td></td>\n",
       "      <td></td>\n",
       "    </tr>\n",
       "    <tr>\n",
       "      <th>52192</th>\n",
       "      <td>5126107</td>\n",
       "      <td>1</td>\n",
       "      <td></td>\n",
       "      <td>National</td>\n",
       "      <td></td>\n",
       "      <td></td>\n",
       "      <td></td>\n",
       "    </tr>\n",
       "    <tr>\n",
       "      <th>55048</th>\n",
       "      <td>5977100</td>\n",
       "      <td>1</td>\n",
       "      <td></td>\n",
       "      <td>National</td>\n",
       "      <td></td>\n",
       "      <td></td>\n",
       "      <td></td>\n",
       "    </tr>\n",
       "    <tr>\n",
       "      <th>55054</th>\n",
       "      <td>5978648</td>\n",
       "      <td>1</td>\n",
       "      <td></td>\n",
       "      <td>National</td>\n",
       "      <td></td>\n",
       "      <td></td>\n",
       "      <td></td>\n",
       "    </tr>\n",
       "    <tr>\n",
       "      <th>55055</th>\n",
       "      <td>5978649</td>\n",
       "      <td>1</td>\n",
       "      <td></td>\n",
       "      <td>National</td>\n",
       "      <td></td>\n",
       "      <td></td>\n",
       "      <td></td>\n",
       "    </tr>\n",
       "    <tr>\n",
       "      <th>55056</th>\n",
       "      <td>5978650</td>\n",
       "      <td>1</td>\n",
       "      <td></td>\n",
       "      <td>National</td>\n",
       "      <td></td>\n",
       "      <td></td>\n",
       "      <td></td>\n",
       "    </tr>\n",
       "    <tr>\n",
       "      <th>55057</th>\n",
       "      <td>5978656</td>\n",
       "      <td>1</td>\n",
       "      <td></td>\n",
       "      <td>National</td>\n",
       "      <td></td>\n",
       "      <td></td>\n",
       "      <td></td>\n",
       "    </tr>\n",
       "    <tr>\n",
       "      <th>55058</th>\n",
       "      <td>5978657</td>\n",
       "      <td>1</td>\n",
       "      <td></td>\n",
       "      <td>National</td>\n",
       "      <td></td>\n",
       "      <td></td>\n",
       "      <td></td>\n",
       "    </tr>\n",
       "    <tr>\n",
       "      <th>55059</th>\n",
       "      <td>5978659</td>\n",
       "      <td>1</td>\n",
       "      <td></td>\n",
       "      <td>National</td>\n",
       "      <td></td>\n",
       "      <td></td>\n",
       "      <td></td>\n",
       "    </tr>\n",
       "    <tr>\n",
       "      <th>55277</th>\n",
       "      <td>5993051</td>\n",
       "      <td>1</td>\n",
       "      <td></td>\n",
       "      <td>National</td>\n",
       "      <td></td>\n",
       "      <td></td>\n",
       "      <td></td>\n",
       "    </tr>\n",
       "    <tr>\n",
       "      <th>55278</th>\n",
       "      <td>5993054</td>\n",
       "      <td>1</td>\n",
       "      <td></td>\n",
       "      <td>National</td>\n",
       "      <td></td>\n",
       "      <td></td>\n",
       "      <td></td>\n",
       "    </tr>\n",
       "    <tr>\n",
       "      <th>55279</th>\n",
       "      <td>5993055</td>\n",
       "      <td>1</td>\n",
       "      <td></td>\n",
       "      <td>National</td>\n",
       "      <td></td>\n",
       "      <td></td>\n",
       "      <td></td>\n",
       "    </tr>\n",
       "    <tr>\n",
       "      <th>58244</th>\n",
       "      <td>6693056</td>\n",
       "      <td>1</td>\n",
       "      <td></td>\n",
       "      <td>National</td>\n",
       "      <td></td>\n",
       "      <td></td>\n",
       "      <td></td>\n",
       "    </tr>\n",
       "  </tbody>\n",
       "</table>\n",
       "</div>"
      ],
      "text/plain": [
       "       PRODUCT_ID  MANUFACTURER DEPARTMENT     BRAND COMMODITY_DESC  \\\n",
       "52189     5126087             1             National                  \n",
       "52190     5126088             1             National                  \n",
       "52191     5126106             1             National                  \n",
       "52192     5126107             1             National                  \n",
       "55048     5977100             1             National                  \n",
       "55054     5978648             1             National                  \n",
       "55055     5978649             1             National                  \n",
       "55056     5978650             1             National                  \n",
       "55057     5978656             1             National                  \n",
       "55058     5978657             1             National                  \n",
       "55059     5978659             1             National                  \n",
       "55277     5993051             1             National                  \n",
       "55278     5993054             1             National                  \n",
       "55279     5993055             1             National                  \n",
       "58244     6693056             1             National                  \n",
       "\n",
       "      SUB_COMMODITY_DESC CURR_SIZE_OF_PRODUCT  \n",
       "52189                                          \n",
       "52190                                          \n",
       "52191                                          \n",
       "52192                                          \n",
       "55048                                          \n",
       "55054                                          \n",
       "55055                                          \n",
       "55056                                          \n",
       "55057                                          \n",
       "55058                                          \n",
       "55059                                          \n",
       "55277                                          \n",
       "55278                                          \n",
       "55279                                          \n",
       "58244                                          "
      ]
     },
     "execution_count": 5,
     "metadata": {},
     "output_type": "execute_result"
    }
   ],
   "source": [
    "data['product'][data['product']['DEPARTMENT'].apply(lambda e: len(e)) == 1]"
   ]
  },
  {
   "cell_type": "markdown",
   "metadata": {},
   "source": [
    "<font color = \"green\">\n",
    "    \n",
    "* The above dataframe contains only 15 entries that do not tell anything, so we remove them."
   ]
  },
  {
   "cell_type": "code",
   "execution_count": 6,
   "metadata": {},
   "outputs": [
    {
     "data": {
      "text/plain": [
       "array(['GROCERY', 'MISC. TRANS.', 'PASTRY', 'DRUG GM', 'MEAT-PCKGD',\n",
       "       'SEAFOOD-PCKGD', 'PRODUCE', 'NUTRITION', 'DELI', 'COSMETICS',\n",
       "       'MEAT', 'FLORAL', 'TRAVEL & LEISUR', 'SEAFOOD', 'MISC SALES TRAN',\n",
       "       'SALAD BAR', 'KIOSK-GAS', 'ELECT &PLUMBING', 'GRO BAKERY',\n",
       "       'GM MERCH EXP', 'FROZEN GROCERY', 'COUP/STR & MFG', 'SPIRITS',\n",
       "       'GARDEN CENTER', 'TOYS', 'CHARITABLE CONT', 'RESTAURANT', 'RX',\n",
       "       'PROD-WHS SALES', 'MEAT-WHSE', 'DAIRY DELI', 'CHEF SHOPPE', 'HBC',\n",
       "       'DELI/SNACK BAR', 'PORK', 'AUTOMOTIVE', 'VIDEO RENTAL',\n",
       "       'CNTRL/STORE SUP', 'HOUSEWARES', 'POSTAL CENTER', 'PHOTO', 'VIDEO',\n",
       "       'PHARMACY SUPPLY'], dtype=object)"
      ]
     },
     "execution_count": 6,
     "metadata": {},
     "output_type": "execute_result"
    }
   ],
   "source": [
    "data['product'] = data['product'][data['product']['DEPARTMENT'].apply(lambda e: len(e)) > 1]\n",
    "data['product']['DEPARTMENT'].unique()"
   ]
  },
  {
   "cell_type": "markdown",
   "metadata": {},
   "source": [
    "<font color = \"green\">\n",
    "\n",
    "* We can notice that all the departments have a valid name now."
   ]
  },
  {
   "cell_type": "markdown",
   "metadata": {},
   "source": [
    "## Merge transactions set with other metadata"
   ]
  },
  {
   "cell_type": "code",
   "execution_count": 7,
   "metadata": {},
   "outputs": [],
   "source": [
    "transactions = data[\"transaction_data\"]\\\n",
    "                .merge(data[\"hh_demographic\"], on=\"household_key\", how=\"left\")\\\n",
    "                .merge(data[\"product\"], on=\"PRODUCT_ID\", how=\"left\")"
   ]
  },
  {
   "cell_type": "markdown",
   "metadata": {},
   "source": [
    "## Compute some time based features"
   ]
  },
  {
   "cell_type": "code",
   "execution_count": 8,
   "metadata": {},
   "outputs": [],
   "source": [
    "# compute an approximation of which month we are in (assuming all months are 30 days)\n",
    "transactions[\"MONTH\"] = (np.floor(transactions[\"DAY\"] / 30) + 1).apply(int)"
   ]
  },
  {
   "cell_type": "code",
   "execution_count": 9,
   "metadata": {},
   "outputs": [
    {
     "data": {
      "text/plain": [
       "WEEK_NO\n",
       "1                          [1, 2, 3, 4, 5]\n",
       "2                 [6, 7, 8, 9, 10, 11, 12]\n",
       "3             [13, 14, 15, 16, 17, 18, 19]\n",
       "4             [20, 21, 22, 23, 24, 25, 26]\n",
       "5             [27, 28, 29, 30, 31, 32, 33]\n",
       "                      ...                 \n",
       "98     [678, 679, 680, 681, 682, 683, 684]\n",
       "99     [685, 686, 687, 688, 689, 690, 691]\n",
       "100    [692, 693, 694, 695, 696, 697, 698]\n",
       "101    [699, 700, 701, 702, 703, 704, 705]\n",
       "102         [706, 707, 708, 709, 710, 711]\n",
       "Name: DAY, Length: 102, dtype: object"
      ]
     },
     "execution_count": 9,
     "metadata": {},
     "output_type": "execute_result"
    }
   ],
   "source": [
    "# Analyze weekday distribution\n",
    "transactions.groupby(\"WEEK_NO\")[\"DAY\"].unique()"
   ]
  },
  {
   "cell_type": "markdown",
   "metadata": {},
   "source": [
    "<font color = \"green\">\n",
    "\n",
    "* We can see that first and last week are underrepresented, so we will drop them. The second week starts at 6 so we will devise this to be 1st day of the week.\n",
    "\n",
    "* Unfortunately we cannot exactly say which day is which weekday, 1st day can be Monday or Sunday based on two most common weekday numbering schemes.\n",
    "\n",
    "* In further analyses we have seen bigger sales on two last days of the week so we hypothesize this is the weekend (so that would mean first day is Monday) - this will be explained in a further section."
   ]
  },
  {
   "cell_type": "code",
   "execution_count": 10,
   "metadata": {},
   "outputs": [],
   "source": [
    "transactions[\"DAY_OF_WEEK\"] = (transactions[\"DAY\"] - 6) % 7 + 1"
   ]
  },
  {
   "cell_type": "code",
   "execution_count": 11,
   "metadata": {},
   "outputs": [],
   "source": [
    "transactions[\"HOUR\"] = np.floor(transactions.TRANS_TIME / 100).apply(int)"
   ]
  },
  {
   "cell_type": "code",
   "execution_count": 12,
   "metadata": {},
   "outputs": [
    {
     "data": {
      "text/html": [
       "<div>\n",
       "<style scoped>\n",
       "    .dataframe tbody tr th:only-of-type {\n",
       "        vertical-align: middle;\n",
       "    }\n",
       "\n",
       "    .dataframe tbody tr th {\n",
       "        vertical-align: top;\n",
       "    }\n",
       "\n",
       "    .dataframe thead th {\n",
       "        text-align: right;\n",
       "    }\n",
       "</style>\n",
       "<table border=\"1\" class=\"dataframe\">\n",
       "  <thead>\n",
       "    <tr style=\"text-align: right;\">\n",
       "      <th></th>\n",
       "      <th>HOUR</th>\n",
       "      <th>DAY_OF_WEEK</th>\n",
       "      <th>WEEK_NO</th>\n",
       "      <th>DAY</th>\n",
       "      <th>MONTH</th>\n",
       "    </tr>\n",
       "  </thead>\n",
       "  <tbody>\n",
       "    <tr>\n",
       "      <th>2376280</th>\n",
       "      <td>17</td>\n",
       "      <td>3</td>\n",
       "      <td>95</td>\n",
       "      <td>659</td>\n",
       "      <td>22</td>\n",
       "    </tr>\n",
       "    <tr>\n",
       "      <th>1033304</th>\n",
       "      <td>16</td>\n",
       "      <td>5</td>\n",
       "      <td>47</td>\n",
       "      <td>325</td>\n",
       "      <td>11</td>\n",
       "    </tr>\n",
       "    <tr>\n",
       "      <th>1055511</th>\n",
       "      <td>11</td>\n",
       "      <td>4</td>\n",
       "      <td>48</td>\n",
       "      <td>331</td>\n",
       "      <td>12</td>\n",
       "    </tr>\n",
       "    <tr>\n",
       "      <th>469095</th>\n",
       "      <td>13</td>\n",
       "      <td>1</td>\n",
       "      <td>27</td>\n",
       "      <td>181</td>\n",
       "      <td>7</td>\n",
       "    </tr>\n",
       "    <tr>\n",
       "      <th>1130845</th>\n",
       "      <td>12</td>\n",
       "      <td>1</td>\n",
       "      <td>51</td>\n",
       "      <td>349</td>\n",
       "      <td>12</td>\n",
       "    </tr>\n",
       "  </tbody>\n",
       "</table>\n",
       "</div>"
      ],
      "text/plain": [
       "         HOUR  DAY_OF_WEEK  WEEK_NO  DAY  MONTH\n",
       "2376280    17            3       95  659     22\n",
       "1033304    16            5       47  325     11\n",
       "1055511    11            4       48  331     12\n",
       "469095     13            1       27  181      7\n",
       "1130845    12            1       51  349     12"
      ]
     },
     "execution_count": 12,
     "metadata": {},
     "output_type": "execute_result"
    }
   ],
   "source": [
    "# We look at a random sample of the time features we generated to make sure they look ok\n",
    "transactions[[\"HOUR\", \"DAY_OF_WEEK\", \"WEEK_NO\", \"DAY\", \"MONTH\"]].sample(5)"
   ]
  },
  {
   "cell_type": "markdown",
   "metadata": {},
   "source": [
    "## Create a demographic and product dataframe"
   ]
  },
  {
   "cell_type": "code",
   "execution_count": 13,
   "metadata": {},
   "outputs": [
    {
     "name": "stdout",
     "output_type": "stream",
     "text": [
      "45.01346826251709% of transactions doesn't have demographic data\n"
     ]
    }
   ],
   "source": [
    "missing_demographic = 100 * transactions.HOMEOWNER_DESC.isna().sum() / transactions.shape[0]\n",
    "print(f\"{missing_demographic}% of transactions doesn't have demographic data\")"
   ]
  },
  {
   "cell_type": "markdown",
   "metadata": {},
   "source": [
    "<font color = \"green\">\n",
    "    \n",
    "* Since some transactions are missing demographic data, we create a dataframe that contains only transactions with demographic data for demographic analysis, and a second dataframe without these columns for other tasks."
   ]
  },
  {
   "cell_type": "code",
   "execution_count": 14,
   "metadata": {},
   "outputs": [],
   "source": [
    "demographic_columns = list(data['hh_demographic'].columns[:-1])"
   ]
  },
  {
   "cell_type": "code",
   "execution_count": 15,
   "metadata": {},
   "outputs": [],
   "source": [
    "transactions_demographic = transactions.dropna(subset=demographic_columns)"
   ]
  },
  {
   "cell_type": "code",
   "execution_count": 16,
   "metadata": {},
   "outputs": [],
   "source": [
    "transactions_products = transactions.drop(columns=demographic_columns).dropna()"
   ]
  },
  {
   "cell_type": "code",
   "execution_count": 17,
   "metadata": {},
   "outputs": [
    {
     "data": {
      "text/html": [
       "<div>\n",
       "<style scoped>\n",
       "    .dataframe tbody tr th:only-of-type {\n",
       "        vertical-align: middle;\n",
       "    }\n",
       "\n",
       "    .dataframe tbody tr th {\n",
       "        vertical-align: top;\n",
       "    }\n",
       "\n",
       "    .dataframe thead th {\n",
       "        text-align: right;\n",
       "    }\n",
       "</style>\n",
       "<table border=\"1\" class=\"dataframe\">\n",
       "  <thead>\n",
       "    <tr style=\"text-align: right;\">\n",
       "      <th></th>\n",
       "      <th>household_key</th>\n",
       "      <th>BASKET_ID</th>\n",
       "      <th>DAY</th>\n",
       "      <th>PRODUCT_ID</th>\n",
       "      <th>QUANTITY</th>\n",
       "      <th>SALES_VALUE</th>\n",
       "      <th>STORE_ID</th>\n",
       "      <th>RETAIL_DISC</th>\n",
       "      <th>TRANS_TIME</th>\n",
       "      <th>WEEK_NO</th>\n",
       "      <th>...</th>\n",
       "      <th>KID_CATEGORY_DESC</th>\n",
       "      <th>MANUFACTURER</th>\n",
       "      <th>DEPARTMENT</th>\n",
       "      <th>BRAND</th>\n",
       "      <th>COMMODITY_DESC</th>\n",
       "      <th>SUB_COMMODITY_DESC</th>\n",
       "      <th>CURR_SIZE_OF_PRODUCT</th>\n",
       "      <th>MONTH</th>\n",
       "      <th>DAY_OF_WEEK</th>\n",
       "      <th>HOUR</th>\n",
       "    </tr>\n",
       "  </thead>\n",
       "  <tbody>\n",
       "    <tr>\n",
       "      <th>11</th>\n",
       "      <td>1364</td>\n",
       "      <td>26984896261</td>\n",
       "      <td>1</td>\n",
       "      <td>842930</td>\n",
       "      <td>1</td>\n",
       "      <td>2.19</td>\n",
       "      <td>31742</td>\n",
       "      <td>0.00</td>\n",
       "      <td>1520</td>\n",
       "      <td>1</td>\n",
       "      <td>...</td>\n",
       "      <td>None/Unknown</td>\n",
       "      <td>69.0</td>\n",
       "      <td>GROCERY</td>\n",
       "      <td>Private</td>\n",
       "      <td>CONVENIENT BRKFST/WHLSM SNACKS</td>\n",
       "      <td>GRANOLA BARS</td>\n",
       "      <td>10 OZ</td>\n",
       "      <td>1</td>\n",
       "      <td>3</td>\n",
       "      <td>15</td>\n",
       "    </tr>\n",
       "    <tr>\n",
       "      <th>12</th>\n",
       "      <td>1364</td>\n",
       "      <td>26984896261</td>\n",
       "      <td>1</td>\n",
       "      <td>897044</td>\n",
       "      <td>1</td>\n",
       "      <td>2.99</td>\n",
       "      <td>31742</td>\n",
       "      <td>-0.40</td>\n",
       "      <td>1520</td>\n",
       "      <td>1</td>\n",
       "      <td>...</td>\n",
       "      <td>None/Unknown</td>\n",
       "      <td>1075.0</td>\n",
       "      <td>GROCERY</td>\n",
       "      <td>National</td>\n",
       "      <td>CRACKERS/MISC BKD FD</td>\n",
       "      <td>SNACK CRACKERS</td>\n",
       "      <td>9.5 OZ</td>\n",
       "      <td>1</td>\n",
       "      <td>3</td>\n",
       "      <td>15</td>\n",
       "    </tr>\n",
       "    <tr>\n",
       "      <th>13</th>\n",
       "      <td>1364</td>\n",
       "      <td>26984896261</td>\n",
       "      <td>1</td>\n",
       "      <td>920955</td>\n",
       "      <td>1</td>\n",
       "      <td>3.09</td>\n",
       "      <td>31742</td>\n",
       "      <td>0.00</td>\n",
       "      <td>1520</td>\n",
       "      <td>1</td>\n",
       "      <td>...</td>\n",
       "      <td>None/Unknown</td>\n",
       "      <td>3664.0</td>\n",
       "      <td>MEAT</td>\n",
       "      <td>National</td>\n",
       "      <td>BEEF</td>\n",
       "      <td>GRND/PATTY - ROUND</td>\n",
       "      <td></td>\n",
       "      <td>1</td>\n",
       "      <td>3</td>\n",
       "      <td>15</td>\n",
       "    </tr>\n",
       "    <tr>\n",
       "      <th>14</th>\n",
       "      <td>1364</td>\n",
       "      <td>26984896261</td>\n",
       "      <td>1</td>\n",
       "      <td>937406</td>\n",
       "      <td>1</td>\n",
       "      <td>2.50</td>\n",
       "      <td>31742</td>\n",
       "      <td>-0.99</td>\n",
       "      <td>1520</td>\n",
       "      <td>1</td>\n",
       "      <td>...</td>\n",
       "      <td>None/Unknown</td>\n",
       "      <td>2209.0</td>\n",
       "      <td>MEAT-PCKGD</td>\n",
       "      <td>National</td>\n",
       "      <td>BREAKFAST SAUSAGE/SANDWICHES</td>\n",
       "      <td>LINKS - RAW</td>\n",
       "      <td>12OZ</td>\n",
       "      <td>1</td>\n",
       "      <td>3</td>\n",
       "      <td>15</td>\n",
       "    </tr>\n",
       "    <tr>\n",
       "      <th>15</th>\n",
       "      <td>1364</td>\n",
       "      <td>26984896261</td>\n",
       "      <td>1</td>\n",
       "      <td>981760</td>\n",
       "      <td>1</td>\n",
       "      <td>0.60</td>\n",
       "      <td>31742</td>\n",
       "      <td>-0.79</td>\n",
       "      <td>1520</td>\n",
       "      <td>1</td>\n",
       "      <td>...</td>\n",
       "      <td>None/Unknown</td>\n",
       "      <td>69.0</td>\n",
       "      <td>GROCERY</td>\n",
       "      <td>Private</td>\n",
       "      <td>EGGS</td>\n",
       "      <td>EGGS - X-LARGE</td>\n",
       "      <td>1 DZ</td>\n",
       "      <td>1</td>\n",
       "      <td>3</td>\n",
       "      <td>15</td>\n",
       "    </tr>\n",
       "  </tbody>\n",
       "</table>\n",
       "<p>5 rows × 28 columns</p>\n",
       "</div>"
      ],
      "text/plain": [
       "    household_key    BASKET_ID  DAY  PRODUCT_ID  QUANTITY  SALES_VALUE  \\\n",
       "11           1364  26984896261    1      842930         1         2.19   \n",
       "12           1364  26984896261    1      897044         1         2.99   \n",
       "13           1364  26984896261    1      920955         1         3.09   \n",
       "14           1364  26984896261    1      937406         1         2.50   \n",
       "15           1364  26984896261    1      981760         1         0.60   \n",
       "\n",
       "    STORE_ID  RETAIL_DISC  TRANS_TIME  WEEK_NO  ...  KID_CATEGORY_DESC  \\\n",
       "11     31742         0.00        1520        1  ...       None/Unknown   \n",
       "12     31742        -0.40        1520        1  ...       None/Unknown   \n",
       "13     31742         0.00        1520        1  ...       None/Unknown   \n",
       "14     31742        -0.99        1520        1  ...       None/Unknown   \n",
       "15     31742        -0.79        1520        1  ...       None/Unknown   \n",
       "\n",
       "    MANUFACTURER  DEPARTMENT     BRAND                  COMMODITY_DESC  \\\n",
       "11          69.0     GROCERY   Private  CONVENIENT BRKFST/WHLSM SNACKS   \n",
       "12        1075.0     GROCERY  National            CRACKERS/MISC BKD FD   \n",
       "13        3664.0        MEAT  National                            BEEF   \n",
       "14        2209.0  MEAT-PCKGD  National    BREAKFAST SAUSAGE/SANDWICHES   \n",
       "15          69.0     GROCERY   Private                            EGGS   \n",
       "\n",
       "    SUB_COMMODITY_DESC CURR_SIZE_OF_PRODUCT MONTH DAY_OF_WEEK  HOUR  \n",
       "11        GRANOLA BARS                10 OZ     1           3    15  \n",
       "12      SNACK CRACKERS               9.5 OZ     1           3    15  \n",
       "13  GRND/PATTY - ROUND                          1           3    15  \n",
       "14         LINKS - RAW                 12OZ     1           3    15  \n",
       "15      EGGS - X-LARGE                 1 DZ     1           3    15  \n",
       "\n",
       "[5 rows x 28 columns]"
      ]
     },
     "execution_count": 17,
     "metadata": {},
     "output_type": "execute_result"
    }
   ],
   "source": [
    "transactions_demographic.head()"
   ]
  },
  {
   "cell_type": "code",
   "execution_count": 18,
   "metadata": {},
   "outputs": [
    {
     "data": {
      "text/plain": [
       "Index(['household_key', 'BASKET_ID', 'DAY', 'PRODUCT_ID', 'QUANTITY',\n",
       "       'SALES_VALUE', 'STORE_ID', 'RETAIL_DISC', 'TRANS_TIME', 'WEEK_NO',\n",
       "       'COUPON_DISC', 'COUPON_MATCH_DISC', 'AGE_DESC', 'MARITAL_STATUS_CODE',\n",
       "       'INCOME_DESC', 'HOMEOWNER_DESC', 'HH_COMP_DESC', 'HOUSEHOLD_SIZE_DESC',\n",
       "       'KID_CATEGORY_DESC', 'MANUFACTURER', 'DEPARTMENT', 'BRAND',\n",
       "       'COMMODITY_DESC', 'SUB_COMMODITY_DESC', 'CURR_SIZE_OF_PRODUCT', 'MONTH',\n",
       "       'DAY_OF_WEEK', 'HOUR'],\n",
       "      dtype='object')"
      ]
     },
     "execution_count": 18,
     "metadata": {},
     "output_type": "execute_result"
    }
   ],
   "source": [
    "transactions_demographic.columns"
   ]
  },
  {
   "cell_type": "code",
   "execution_count": 19,
   "metadata": {},
   "outputs": [
    {
     "data": {
      "text/html": [
       "<div>\n",
       "<style scoped>\n",
       "    .dataframe tbody tr th:only-of-type {\n",
       "        vertical-align: middle;\n",
       "    }\n",
       "\n",
       "    .dataframe tbody tr th {\n",
       "        vertical-align: top;\n",
       "    }\n",
       "\n",
       "    .dataframe thead th {\n",
       "        text-align: right;\n",
       "    }\n",
       "</style>\n",
       "<table border=\"1\" class=\"dataframe\">\n",
       "  <thead>\n",
       "    <tr style=\"text-align: right;\">\n",
       "      <th></th>\n",
       "      <th>household_key</th>\n",
       "      <th>BASKET_ID</th>\n",
       "      <th>DAY</th>\n",
       "      <th>PRODUCT_ID</th>\n",
       "      <th>QUANTITY</th>\n",
       "      <th>SALES_VALUE</th>\n",
       "      <th>STORE_ID</th>\n",
       "      <th>RETAIL_DISC</th>\n",
       "      <th>TRANS_TIME</th>\n",
       "      <th>WEEK_NO</th>\n",
       "      <th>...</th>\n",
       "      <th>COUPON_MATCH_DISC</th>\n",
       "      <th>MANUFACTURER</th>\n",
       "      <th>DEPARTMENT</th>\n",
       "      <th>BRAND</th>\n",
       "      <th>COMMODITY_DESC</th>\n",
       "      <th>SUB_COMMODITY_DESC</th>\n",
       "      <th>CURR_SIZE_OF_PRODUCT</th>\n",
       "      <th>MONTH</th>\n",
       "      <th>DAY_OF_WEEK</th>\n",
       "      <th>HOUR</th>\n",
       "    </tr>\n",
       "  </thead>\n",
       "  <tbody>\n",
       "    <tr>\n",
       "      <th>0</th>\n",
       "      <td>2375</td>\n",
       "      <td>26984851472</td>\n",
       "      <td>1</td>\n",
       "      <td>1004906</td>\n",
       "      <td>1</td>\n",
       "      <td>1.39</td>\n",
       "      <td>364</td>\n",
       "      <td>-0.60</td>\n",
       "      <td>1631</td>\n",
       "      <td>1</td>\n",
       "      <td>...</td>\n",
       "      <td>0.0</td>\n",
       "      <td>69.0</td>\n",
       "      <td>PRODUCE</td>\n",
       "      <td>Private</td>\n",
       "      <td>POTATOES</td>\n",
       "      <td>POTATOES RUSSET (BULK&amp;BAG)</td>\n",
       "      <td>5 LB</td>\n",
       "      <td>1</td>\n",
       "      <td>3</td>\n",
       "      <td>16</td>\n",
       "    </tr>\n",
       "    <tr>\n",
       "      <th>1</th>\n",
       "      <td>2375</td>\n",
       "      <td>26984851472</td>\n",
       "      <td>1</td>\n",
       "      <td>1033142</td>\n",
       "      <td>1</td>\n",
       "      <td>0.82</td>\n",
       "      <td>364</td>\n",
       "      <td>0.00</td>\n",
       "      <td>1631</td>\n",
       "      <td>1</td>\n",
       "      <td>...</td>\n",
       "      <td>0.0</td>\n",
       "      <td>2.0</td>\n",
       "      <td>PRODUCE</td>\n",
       "      <td>National</td>\n",
       "      <td>ONIONS</td>\n",
       "      <td>ONIONS SWEET (BULK&amp;BAG)</td>\n",
       "      <td>40 LB</td>\n",
       "      <td>1</td>\n",
       "      <td>3</td>\n",
       "      <td>16</td>\n",
       "    </tr>\n",
       "    <tr>\n",
       "      <th>2</th>\n",
       "      <td>2375</td>\n",
       "      <td>26984851472</td>\n",
       "      <td>1</td>\n",
       "      <td>1036325</td>\n",
       "      <td>1</td>\n",
       "      <td>0.99</td>\n",
       "      <td>364</td>\n",
       "      <td>-0.30</td>\n",
       "      <td>1631</td>\n",
       "      <td>1</td>\n",
       "      <td>...</td>\n",
       "      <td>0.0</td>\n",
       "      <td>69.0</td>\n",
       "      <td>PRODUCE</td>\n",
       "      <td>Private</td>\n",
       "      <td>VEGETABLES - ALL OTHERS</td>\n",
       "      <td>CELERY</td>\n",
       "      <td></td>\n",
       "      <td>1</td>\n",
       "      <td>3</td>\n",
       "      <td>16</td>\n",
       "    </tr>\n",
       "    <tr>\n",
       "      <th>3</th>\n",
       "      <td>2375</td>\n",
       "      <td>26984851472</td>\n",
       "      <td>1</td>\n",
       "      <td>1082185</td>\n",
       "      <td>1</td>\n",
       "      <td>1.21</td>\n",
       "      <td>364</td>\n",
       "      <td>0.00</td>\n",
       "      <td>1631</td>\n",
       "      <td>1</td>\n",
       "      <td>...</td>\n",
       "      <td>0.0</td>\n",
       "      <td>2.0</td>\n",
       "      <td>PRODUCE</td>\n",
       "      <td>National</td>\n",
       "      <td>TROPICAL FRUIT</td>\n",
       "      <td>BANANAS</td>\n",
       "      <td>40 LB</td>\n",
       "      <td>1</td>\n",
       "      <td>3</td>\n",
       "      <td>16</td>\n",
       "    </tr>\n",
       "    <tr>\n",
       "      <th>4</th>\n",
       "      <td>2375</td>\n",
       "      <td>26984851472</td>\n",
       "      <td>1</td>\n",
       "      <td>8160430</td>\n",
       "      <td>1</td>\n",
       "      <td>1.50</td>\n",
       "      <td>364</td>\n",
       "      <td>-0.39</td>\n",
       "      <td>1631</td>\n",
       "      <td>1</td>\n",
       "      <td>...</td>\n",
       "      <td>0.0</td>\n",
       "      <td>69.0</td>\n",
       "      <td>PRODUCE</td>\n",
       "      <td>Private</td>\n",
       "      <td>ORGANICS FRUIT &amp; VEGETABLES</td>\n",
       "      <td>ORGANIC CARROTS</td>\n",
       "      <td>1 LB</td>\n",
       "      <td>1</td>\n",
       "      <td>3</td>\n",
       "      <td>16</td>\n",
       "    </tr>\n",
       "  </tbody>\n",
       "</table>\n",
       "<p>5 rows × 21 columns</p>\n",
       "</div>"
      ],
      "text/plain": [
       "   household_key    BASKET_ID  DAY  PRODUCT_ID  QUANTITY  SALES_VALUE  \\\n",
       "0           2375  26984851472    1     1004906         1         1.39   \n",
       "1           2375  26984851472    1     1033142         1         0.82   \n",
       "2           2375  26984851472    1     1036325         1         0.99   \n",
       "3           2375  26984851472    1     1082185         1         1.21   \n",
       "4           2375  26984851472    1     8160430         1         1.50   \n",
       "\n",
       "   STORE_ID  RETAIL_DISC  TRANS_TIME  WEEK_NO  ...  COUPON_MATCH_DISC  \\\n",
       "0       364        -0.60        1631        1  ...                0.0   \n",
       "1       364         0.00        1631        1  ...                0.0   \n",
       "2       364        -0.30        1631        1  ...                0.0   \n",
       "3       364         0.00        1631        1  ...                0.0   \n",
       "4       364        -0.39        1631        1  ...                0.0   \n",
       "\n",
       "   MANUFACTURER  DEPARTMENT     BRAND               COMMODITY_DESC  \\\n",
       "0          69.0     PRODUCE   Private                     POTATOES   \n",
       "1           2.0     PRODUCE  National                       ONIONS   \n",
       "2          69.0     PRODUCE   Private      VEGETABLES - ALL OTHERS   \n",
       "3           2.0     PRODUCE  National               TROPICAL FRUIT   \n",
       "4          69.0     PRODUCE   Private  ORGANICS FRUIT & VEGETABLES   \n",
       "\n",
       "           SUB_COMMODITY_DESC CURR_SIZE_OF_PRODUCT MONTH  DAY_OF_WEEK  HOUR  \n",
       "0  POTATOES RUSSET (BULK&BAG)                 5 LB     1            3    16  \n",
       "1     ONIONS SWEET (BULK&BAG)                40 LB     1            3    16  \n",
       "2                      CELERY                          1            3    16  \n",
       "3                     BANANAS                40 LB     1            3    16  \n",
       "4             ORGANIC CARROTS                 1 LB     1            3    16  \n",
       "\n",
       "[5 rows x 21 columns]"
      ]
     },
     "execution_count": 19,
     "metadata": {},
     "output_type": "execute_result"
    }
   ],
   "source": [
    "transactions_products.head()"
   ]
  },
  {
   "cell_type": "code",
   "execution_count": 20,
   "metadata": {},
   "outputs": [
    {
     "data": {
      "text/plain": [
       "Index(['household_key', 'BASKET_ID', 'DAY', 'PRODUCT_ID', 'QUANTITY',\n",
       "       'SALES_VALUE', 'STORE_ID', 'RETAIL_DISC', 'TRANS_TIME', 'WEEK_NO',\n",
       "       'COUPON_DISC', 'COUPON_MATCH_DISC', 'MANUFACTURER', 'DEPARTMENT',\n",
       "       'BRAND', 'COMMODITY_DESC', 'SUB_COMMODITY_DESC', 'CURR_SIZE_OF_PRODUCT',\n",
       "       'MONTH', 'DAY_OF_WEEK', 'HOUR'],\n",
       "      dtype='object')"
      ]
     },
     "execution_count": 20,
     "metadata": {},
     "output_type": "execute_result"
    }
   ],
   "source": [
    "transactions_products.columns"
   ]
  },
  {
   "cell_type": "markdown",
   "metadata": {},
   "source": [
    "# Question 2: How different types of people spend their discount tickets\n"
   ]
  },
  {
   "cell_type": "code",
   "execution_count": 21,
   "metadata": {},
   "outputs": [],
   "source": [
    "dataframes = data\n",
    "demographic_df = data['hh_demographic']"
   ]
  },
  {
   "cell_type": "markdown",
   "metadata": {},
   "source": [
    "## Create dataframes for owners and renters"
   ]
  },
  {
   "cell_type": "code",
   "execution_count": 22,
   "metadata": {},
   "outputs": [],
   "source": [
    "home_owner_df = demographic_df[demographic_df['HOMEOWNER_DESC'].apply(lambda e: e.lower()).str.contains('owner')]\n",
    "renter_df = demographic_df[demographic_df['HOMEOWNER_DESC'].apply(lambda e: e.lower()).str.contains('renter')]"
   ]
  },
  {
   "cell_type": "code",
   "execution_count": 23,
   "metadata": {},
   "outputs": [],
   "source": [
    "salary_ranges = list(demographic_df['INCOME_DESC'].unique())\n",
    "age_ranges = list(demographic_df['AGE_DESC'].unique())\n",
    "\n",
    "age_ranges.sort(key = lambda e: int(e.split('-')[0]) if len(e.split('-')[0]) == 2 else \\\n",
    "                        int(e.split('-')[0][: -1]))\n",
    "salary_ranges.sort(key = lambda e: 0 if e.split('-')[0][0] == 'U' else \\\n",
    "                       int(e.split('-')[0][: -2] if len(e.split('-')) == 1 else \\\n",
    "                       int(e.split('-')[0])))"
   ]
  },
  {
   "cell_type": "markdown",
   "metadata": {},
   "source": [
    "### How owners and renters spend their discount tickets"
   ]
  },
  {
   "cell_type": "code",
   "execution_count": 24,
   "metadata": {},
   "outputs": [],
   "source": [
    "# Obtain the coupons redempt by both renters and owners\n",
    "coupons_redempt_owners = pd.merge(dataframes['coupon_redempt'], home_owner_df, how = 'inner', on = ['household_key'])\n",
    "coupons_redempt_renters = pd.merge(dataframes['coupon_redempt'], renter_df, how = 'inner', on = ['household_key'])"
   ]
  },
  {
   "cell_type": "code",
   "execution_count": 25,
   "metadata": {},
   "outputs": [
    {
     "name": "stdout",
     "output_type": "stream",
     "text": [
      "Age Range\n",
      "19-24     8\n",
      "25-34    11\n",
      "35-44    15\n",
      "45-54    15\n",
      "55-64     2\n",
      "65+       2\n",
      "Name: Number of renters per age range, dtype: int64\n",
      "Age Range\n",
      "19-24    14\n",
      "25-34    24\n",
      "35-44    34\n",
      "45-54    22\n",
      "55-64     1\n",
      "Name: Number coupons redeemed per number of renters of age range, dtype: int64\n"
     ]
    },
    {
     "data": {
      "image/png": "[encoded data removed]",
      "text/plain": [
       "<Figure size 1080x432 with 2 Axes>"
      ]
     },
     "metadata": {
      "needs_background": "light"
     },
     "output_type": "display_data"
    }
   ],
   "source": [
    "fig, (ax1, ax2) = plt.subplots(1, 2, figsize = [15, 6])\n",
    "\n",
    "unnormalized = coupons_redempt_renters.groupby('AGE_DESC').size()\n",
    "group_size = renter_df.groupby('AGE_DESC').size()\n",
    "\n",
    "ax1 = unnormalized.plot.bar(ax = ax1)\n",
    "ax1.set_title('Number of coupons redeemed by renters for every age range')\n",
    "ax1.set_ylabel('Number of coupons')\n",
    "ax1.set_xlabel('Age range')\n",
    "\n",
    "ax2 = (1. * unnormalized / group_size)[: -1].plot.bar(ax = ax2, color = 'green')\n",
    "ax2.set_title('Number of coupons redeemed by renters per age range')\n",
    "ax2.set_ylabel('Number of coupons per number of people within the age range')\n",
    "ax2.set_xlabel('Age range')\n",
    "\n",
    "group_size.index.name = 'Age Range'\n",
    "group_size.name = 'Number of renters per age range'\n",
    "\n",
    "print(group_size)\n",
    "\n",
    "unnormalized.index.name = 'Age Range'\n",
    "unnormalized.name = 'Number coupons redeemed per number of renters of age range'\n",
    "\n",
    "print(unnormalized)"
   ]
  },
  {
   "cell_type": "markdown",
   "metadata": {},
   "source": [
    "<font color = \"green\">\n",
    "\n",
    "* We see the proportions of coupons per age range are comparable even if the the numbers from people of differente ages are different.\n",
    "* Also, looking at the at the 2 series from above the plots we see that none of the renters above 65 years old redeemed any coupon."
   ]
  },
  {
   "cell_type": "code",
   "execution_count": 26,
   "metadata": {},
   "outputs": [
    {
     "data": {
      "text/plain": [
       "Age Range\n",
       "19-24     13\n",
       "25-34     75\n",
       "35-44    130\n",
       "45-54    194\n",
       "55-64     44\n",
       "65+       59\n",
       "Name: Number of owners per age range, dtype: int64"
      ]
     },
     "execution_count": 26,
     "metadata": {},
     "output_type": "execute_result"
    },
    {
     "data": {
      "image/png": "[encoded data removed]",
      "text/plain": [
       "<Figure size 1080x432 with 2 Axes>"
      ]
     },
     "metadata": {
      "needs_background": "light"
     },
     "output_type": "display_data"
    }
   ],
   "source": [
    "fig, (ax1, ax2) = plt.subplots(1, 2, figsize = [15, 6])\n",
    "\n",
    "unnormalized = coupons_redempt_owners.groupby('AGE_DESC').size()\n",
    "group_size = home_owner_df.groupby('AGE_DESC').size()\n",
    "\n",
    "ax1 = unnormalized.plot.bar(ax = ax1)\n",
    "ax1.set_title('Number of coupons redeemed by owners for every age range')\n",
    "ax1.set_xlabel('Age range')\n",
    "ax1.set_ylabel('Number of coupons')\n",
    "\n",
    "ax2 = (unnormalized / group_size).plot.bar(ax = ax2, color = 'green')\n",
    "ax2.set_title('Number of coupons redeemed by owners per age interval for every age range')\n",
    "ax2.set_xlabel('Age range')\n",
    "ax2.set_ylabel('Number of coupons per number of people within the age')\n",
    "\n",
    "group_size.index.name = 'Age Range'\n",
    "group_size.name = 'Number of owners per age range'\n",
    "group_size"
   ]
  },
  {
   "cell_type": "markdown",
   "metadata": {},
   "source": [
    "<font color = \"green\">\n",
    "\n",
    "* Looking at the normalised plots from above we see that owners use more discount coupons than renters when they pay for products. The only age category where renters use more is for people between 19-24 years old, which seems fair if you are young, you have a rent and want to save money. This makes us think that most of the owners with age between 25-64 years have families and might have a more regular buying habit that renters."
   ]
  },
  {
   "cell_type": "markdown",
   "metadata": {},
   "source": [
    "# What kind of people redeemed the coupons and on what kind of products"
   ]
  },
  {
   "cell_type": "markdown",
   "metadata": {},
   "source": [
    "<font color = \"green\">\n",
    "\n",
    "We saw in the previous plots that renters are much less than the owners and that owner redeem and that owners redeem much more discount tickets, which is not what we expected to see in the first instance. Since owners between 25-64 years redeem much more tickets that the others, in this section we shall look at what kind of families these people come from."
   ]
  },
  {
   "cell_type": "code",
   "execution_count": 27,
   "metadata": {},
   "outputs": [],
   "source": [
    "people = dataframes['hh_demographic']\n",
    "\n",
    "# Obtain transaction where coupons were redeemed\n",
    "coupons_redeemed = pd.merge(people, dataframes['coupon_redempt'], how = 'inner', on = 'household_key')\n",
    "group_size_families = home_owner_df.groupby('HH_COMP_DESC').size()"
   ]
  },
  {
   "cell_type": "code",
   "execution_count": 28,
   "metadata": {},
   "outputs": [
    {
     "data": {
      "text/plain": [
       "HH_COMP_DESC\n",
       "1 Adult Kids         25\n",
       "2 Adults Kids       146\n",
       "2 Adults No Kids    206\n",
       "Single Female        63\n",
       "Single Male          38\n",
       "Unknown              37\n",
       "dtype: int64"
      ]
     },
     "execution_count": 28,
     "metadata": {},
     "output_type": "execute_result"
    },
    {
     "data": {
      "image/png": "[encoded data removed]",
      "text/plain": [
       "<Figure size 432x288 with 1 Axes>"
      ]
     },
     "metadata": {
      "needs_background": "light"
     },
     "output_type": "display_data"
    }
   ],
   "source": [
    "ax = coupons_redeemed.groupby('HH_COMP_DESC').size().plot.bar()\n",
    "ax.set_xlabel('Family composition')\n",
    "ax.set_ylabel('Frequency')\n",
    "ax.set_title('Distribution of coupons redeemed')\n",
    "\n",
    "group_size_families"
   ]
  },
  {
   "cell_type": "markdown",
   "metadata": {},
   "source": [
    "<font color = \"green\">\n",
    "\n",
    "* Above we can see some numbers that start to explain the intuition before, that most of the people have families regardless they have kids or not. We see that most of the redeemed tickets come from families, but because their number is dominant we shall have again a look at both the casual and the normalized plot. In order to have a better understanding about how people use their tickets, we can observe bellow the number of transactions for every category of products."
   ]
  },
  {
   "cell_type": "code",
   "execution_count": 29,
   "metadata": {},
   "outputs": [],
   "source": [
    "# Dataframe with all the transactions\n",
    "transactions_df = pd.merge(people, dataframes['transaction_data'], how = 'inner', on = 'household_key')\n",
    "transactions_products_df = pd.merge(transactions_df, dataframes['product'], how = 'inner', on = 'PRODUCT_ID')"
   ]
  },
  {
   "cell_type": "code",
   "execution_count": 30,
   "metadata": {},
   "outputs": [
    {
     "data": {
      "text/plain": [
       "Text(0.5, 1.0, 'Number of transactions for different types of products')"
      ]
     },
     "execution_count": 30,
     "metadata": {},
     "output_type": "execute_result"
    },
    {
     "data": {
      "image/png": "[encoded data removed]",
      "text/plain": [
       "<Figure size 1080x432 with 1 Axes>"
      ]
     },
     "metadata": {
      "needs_background": "light"
     },
     "output_type": "display_data"
    }
   ],
   "source": [
    "plt.subplots(figsize = [15, 6])\n",
    "transactions_products_df.groupby('DEPARTMENT').size().sort_values(ascending = False).plot.bar()\n",
    "plt.xlabel('Product type')\n",
    "plt.ylabel('Count')\n",
    "plt.title('Number of transactions for different types of products')"
   ]
  },
  {
   "cell_type": "markdown",
   "metadata": {},
   "source": [
    "<font color = \"green\">\n",
    "There are many categories of products, many of them quite similar, so we grouped the similar ones into higher categories. In the following analysis we chose five basic categories of products that every household has. In the left we have the higher categories grouping considered during the analysis and on the right we have the departments of products as they appear in the dataset:\n",
    "\n",
    "* Groceries - GROCERY, PASTRY, GRO BAKERY, PASTRY, FROZEN GROCERY\n",
    "* Meat - MEAT-PCKGD, MEAT, MEAT-WHSE, PORK\n",
    "* Seafood - SEAFOOD-PCKGD, SEAFOOD\n",
    "* Medicines - DRUG GM, PHARMACY SUPPLY\n",
    "* Nutrition - NUTRITION"
   ]
  },
  {
   "cell_type": "code",
   "execution_count": 31,
   "metadata": {},
   "outputs": [],
   "source": [
    "groceries = transactions_products_df[transactions_products_df['DEPARTMENT'].\\\n",
    "                                     isin(['GROCERY', 'PASTRY', 'GRO BAKERY', 'PASTRY', \\\n",
    "                                           'FROZEN GROCERY'])].groupby('HH_COMP_DESC').size()\n",
    "meat = transactions_products_df[transactions_products_df['DEPARTMENT'].\\\n",
    "                                isin(['MEAT-PCKGD', 'MEAT', 'MEAT-WHSE', 'PORK'])].\\\n",
    "                                groupby('HH_COMP_DESC').size()\n",
    "seafood = transactions_products_df[transactions_products_df['DEPARTMENT'].\\\n",
    "                                isin(['SEAFOOD-PCKGD', 'SEAFOOD'])].groupby('HH_COMP_DESC').size()\n",
    "medicines = transactions_products_df[transactions_products_df['DEPARTMENT'].\\\n",
    "                                isin(['DRUG GM', 'PHARMACY SUPPLY'])].groupby('HH_COMP_DESC').size()\n",
    "nutrition = transactions_products_df[transactions_products_df['DEPARTMENT'].\\\n",
    "                                isin(['NUTRITION'])].groupby('HH_COMP_DESC').size()"
   ]
  },
  {
   "cell_type": "code",
   "execution_count": 32,
   "metadata": {},
   "outputs": [],
   "source": [
    "def plot_bar_series(series, xlabel, ylabel, title, ax, color = None):\n",
    "    if color != None:\n",
    "        ax = series.plot.bar(ax = ax, color = color)\n",
    "    else:\n",
    "        ax = series.plot.bar(ax = ax)\n",
    "\n",
    "    ax.set_xlabel(xlabel)\n",
    "    ax.set_ylabel(ylabel)\n",
    "    ax.set_title(title)"
   ]
  },
  {
   "cell_type": "code",
   "execution_count": 33,
   "metadata": {},
   "outputs": [
    {
     "data": {
      "image/png": "[encoded data removed]",
      "text/plain": [
       "<Figure size 1080x432 with 2 Axes>"
      ]
     },
     "metadata": {
      "needs_background": "light"
     },
     "output_type": "display_data"
    }
   ],
   "source": [
    "fig, (ax1, ax2) = plt.subplots(1, 2, figsize = [15, 6])\n",
    "\n",
    "plot_bar_series(groceries, 'Family Composition', 'Number of Transaction', \\\n",
    "                'Transactions for Groceries Products', ax1)\n",
    "plot_bar_series(groceries / group_size_families, 'Family Composition', 'Number of Transactions per Number of Families', \\\n",
    "                'Transactions for Groceries Products per Number of Families in every category', ax2, color = 'green')"
   ]
  },
  {
   "cell_type": "markdown",
   "metadata": {},
   "source": [
    "<font color = \"green\">\n",
    "    \n",
    "* The second plot provides a more honest comparison as we can notice that despite there are far less transactions for families with only 1 parent (because they are much less than families with 2 parents) we see that they buy groceries much more frequent  than families with 2 adults (with or without kids)"
   ]
  },
  {
   "cell_type": "code",
   "execution_count": 34,
   "metadata": {},
   "outputs": [
    {
     "data": {
      "image/png": "[encoded data removed]",
      "text/plain": [
       "<Figure size 1080x432 with 2 Axes>"
      ]
     },
     "metadata": {
      "needs_background": "light"
     },
     "output_type": "display_data"
    }
   ],
   "source": [
    "fig, (ax1, ax2) = plt.subplots(1, 2, figsize = [15, 6])\n",
    "\n",
    "plot_bar_series(meat, 'Family Composition', 'Number of Transaction', 'Transactions for Meat Products', ax1)\n",
    "plot_bar_series(meat / group_size_families, 'Family Composition', 'Number of Transactions per Number of Families', \\\n",
    "                'Transactions for Meat Products per Number of Families in every category', ax2, color = 'green')"
   ]
  },
  {
   "cell_type": "markdown",
   "metadata": {},
   "source": [
    "<font color = \"green\">\n",
    "    \n",
    "* We see again the same behavior as in the plots for groceries, families with 1 adult buying more frequent than the others\n",
    "* It is interesting to remark that signle females buy meat more frequently than men."
   ]
  },
  {
   "cell_type": "code",
   "execution_count": 35,
   "metadata": {},
   "outputs": [
    {
     "data": {
      "image/png": "[encoded data removed]",
      "text/plain": [
       "<Figure size 1080x432 with 2 Axes>"
      ]
     },
     "metadata": {
      "needs_background": "light"
     },
     "output_type": "display_data"
    }
   ],
   "source": [
    "fig, (ax1, ax2) = plt.subplots(1, 2, figsize = [15, 6])\n",
    "\n",
    "plot_bar_series(seafood, 'Family Composition', 'Number of Transactions', 'Transactions for Seafood Products', ax1)\n",
    "plot_bar_series(seafood / group_size_families, 'Family Composition', 'Number of Transactions per Number of Families', \\\n",
    "                'Transactions for Seafood Products per Number of Families in every category', ax2, color = 'green')"
   ]
  },
  {
   "cell_type": "code",
   "execution_count": 36,
   "metadata": {},
   "outputs": [
    {
     "data": {
      "image/png": "[encoded data removed]",
      "text/plain": [
       "<Figure size 1080x432 with 2 Axes>"
      ]
     },
     "metadata": {
      "needs_background": "light"
     },
     "output_type": "display_data"
    }
   ],
   "source": [
    "fig, (ax1, ax2) = plt.subplots(1, 2, figsize = [15, 6])\n",
    "\n",
    "plot_bar_series(medicines, 'Family Composition', 'Number of Transactions', 'Transactions for Medicine Products', ax1)\n",
    "plot_bar_series(medicines / group_size_families, 'Family Composition', 'Number of Transactions per Number of families', \\\n",
    "                'Transactions for Medicine Products per Number of Families in every category', ax2, color = 'green')"
   ]
  },
  {
   "cell_type": "code",
   "execution_count": 37,
   "metadata": {},
   "outputs": [
    {
     "data": {
      "image/png": "[encoded data removed]",
      "text/plain": [
       "<Figure size 1080x432 with 2 Axes>"
      ]
     },
     "metadata": {
      "needs_background": "light"
     },
     "output_type": "display_data"
    }
   ],
   "source": [
    "fig, (ax1, ax2) = plt.subplots(1, 2, figsize = [15, 6])\n",
    "\n",
    "plot_bar_series(nutrition, 'Family Composition', 'Number of Transactions', 'Transactions for Nutrition Products', ax1)\n",
    "plot_bar_series(nutrition / group_size_families, 'Family Composition', 'Number of Transactions per Number of families', \\\n",
    "                'Transactions for Nutrition Products per Number of Families in every category', ax2, color = 'green')"
   ]
  },
  {
   "cell_type": "code",
   "execution_count": 38,
   "metadata": {},
   "outputs": [
    {
     "data": {
      "text/plain": [
       "array(['SOY BEVERAGE', 'TORTILLA CHIPS', 'DRINKS - CARB JUICE (OVER 50%',\n",
       "       'RAISINS', 'POTATO CHIPS', 'FROZEN PIZZA', 'DRIED FRUIT - OTHER',\n",
       "       'SPRING WATER', 'CEREAL - COLD', 'SOY/RICE MILK',\n",
       "       'COOKIES/SWEET GOODS', 'FITNESS&DIET - BARS', 'SALSA/DIPS', 'MISC',\n",
       "       'ASEPTIC MILK', 'TEA SWEETENED', 'SPECIALTY CHIPS (SOY CRISPS/PI',\n",
       "       'JUICE (UNDER 10% JUICE)', 'RICE CAKES', 'YOGURT', 'PASTA/RAMEN',\n",
       "       'FLUID MILK', 'MEATLESS/VEGETARIAN', 'LARGE - RICE CAKES',\n",
       "       'DRIED FRUIT', 'FROZEN VEGETABLES',\n",
       "       'BOXED PREPARED/ENTREE/DRY PREP', 'NON-CARB JCE (UNDER 50%JCE)',\n",
       "       'DRESSINGS', 'SPECIALTY SNACKS (SOYNUTS/TRAI',\n",
       "       'JUICE (OVER 50% JUICE)', 'CRACKERS', 'HONEY/SYRUP',\n",
       "       'CANDY/CHOCOLATE', 'GRANOLA', 'NON-CARB JCE(OVER 50% JCE)',\n",
       "       'VEGETABLES/DRY BEANS', 'BROTHS', 'FROZEN MEAT (VEGETARIAN)',\n",
       "       'SPORTS NUTRITION', 'VEGETARIAN MISC', 'TOFU', 'FROZEN ENTREES',\n",
       "       'FRZN MEAT ALTERNATIVES', 'NUT REFRIG JUICE OVER 50%',\n",
       "       'BARS - GRANOLA/SNACK', 'NON-CARB WATER FLVR - DRNK/MNR',\n",
       "       'FROZEN BREAKFAST', 'CAN/BTL BEVERAGE', 'CEREAL - HOT',\n",
       "       'FITNESS&DIET-LIQ NTRTNL', 'FROZEN BREAD', 'BABY CEREAL',\n",
       "       'NUT SUPP-PROTEIN-FOOD STAMPABL', 'NON-DAIRY CHEESE',\n",
       "       'DIET CNTRL POWDERS NUTRITIONAL', 'DIET CNTRL LIQS NUTRITIONAL',\n",
       "       'NUTS', 'FROZEN MEAL COMBO/DINNERS', 'DAIRY CHEESE',\n",
       "       'VEGETARIAN MEATS', 'CUPS', 'FROZEN ICE CREAM',\n",
       "       'TEA BAGS (SUPPLEMENT)', 'FLOURS/GRAINS/SUGAR', 'TEA DRY', 'JUICE',\n",
       "       'SAUCES', 'CANS SOUP/CHILI', 'FROZEN CONVENIENCE/POCKETS',\n",
       "       'DRIED PLUMS', 'FROZEN BURGERS', 'COFFEE WHOLE BEAN', 'EGGS',\n",
       "       'FITNESS&DIET-CAPSULES&TABLETS', 'GRAINS', 'UNIQUE SODAS', 'KEFIR',\n",
       "       'BABY FOOD', 'NUT SUPP-NON HERBAL SUPPLEMENT',\n",
       "       'DIET CNTRL BARS NUTRITIONAL', 'MEAT - CAN/POUCH',\n",
       "       'APPLE SAUCE/PUDDING', 'BEVERAGE', 'ENERGY DRINK', 'MIXES',\n",
       "       'MISC CND MEATS', 'BUTTER', 'JUICE (100% JUICE)', 'OILS/VINEGAR',\n",
       "       'ASCEPTIC', 'NUT BUTTERS/PEANUT BUTTER', 'SPICES',\n",
       "       'GOURMET CHIPS (TERRA)', 'DATES', 'JUICE (UNDER 50% JUICE)',\n",
       "       'FITNESS&DIET-LIQ (SUPPLEMENT)', 'NUT SUPP-HERBAL SUPPLEMENTS',\n",
       "       'FROZEN SIDE DISH (MAC&CHS)', 'FROZEN FRUIT', 'PRETZELS',\n",
       "       'TRAIL MIXES', 'KETCHUP/MUSTARD/BBQ SCE/MARINA',\n",
       "       'FORTIFIED/ENERGY WATER', 'POPCORN', 'FITNESS&DIET-POWDER NTRTNL',\n",
       "       'RICE BEVERAGE', 'COFF SHOP: RETAIL PACK BEVERAG',\n",
       "       'TEA BAGS HERBAL & FLAVORED', 'DRY', 'BABY CRACKERS',\n",
       "       'SOUR CREAM/COTTAGE CHEESE', 'GLUTEN FREE',\n",
       "       'NUT SUPP-ESSENTIAL OILS (REFRI', 'ORGANIC DRIED FRUIT',\n",
       "       'SPICES & SEASONINGS', 'BREAKFAST BARS/TARTS/SCONES',\n",
       "       'JELLIES/PRESERVES/APPLE BUTTER', 'PROCESSED OTHER',\n",
       "       'CHEESE SPREADS', 'MISC BULK', 'FITNESS & DIET - SUPPLEMENTS',\n",
       "       'SUNTAN', 'NUT SUPP-HOMEOPATHY', 'FROZEN DESSERT (ICE CREAM CAKE',\n",
       "       'PREPARED/PKGD FOOD MISC', 'BABY JUICES', 'BABY CARE',\n",
       "       'NUTS OTHER', 'CATSUP', 'POPCORN - MICROWAVE', 'MISCELLANEOUS',\n",
       "       'MEXICAN SOFT TORTILLAS AND WRA', 'NATURAL FOODS LAUNDRY',\n",
       "       'NATURAL FOODS CLEANERS', 'NATURAL FOODS PAPER',\n",
       "       'GREEN (NAT DISH&LNDRY DETE)', 'CANDY W/O FLOUR', 'FROZEN MISC',\n",
       "       'NATURAL FOODS DISH', 'FITNESS&DIET ISOTONIC DRINKS',\n",
       "       'CARIBBEAN FOODS', 'COFFEE GROUND',\n",
       "       'INSTANT TEA & TEA MIX (W/SUGAR', 'NUT SUPP-JOINT HEALTH',\n",
       "       'BLENDED JUICE&COMBINATIONS (OV', 'ORIENTAL OTHER SAUCES MARINAD',\n",
       "       'CANDY', 'CANDY BAGS-NON CHOCOLATE',\n",
       "       'TEA UNSWEETENED (CAN/BOTTLE)', 'BABY PRODUCTS', 'VALUE',\n",
       "       'ROLLS: BAGELS', 'TEA (CANNED/BOTTLED) W/SWEETEN', 'CANNED FRUIT',\n",
       "       'REGULAR BEAN', 'VITAMIN - CHILDREN', 'FROZEN MEAT'], dtype=object)"
      ]
     },
     "execution_count": 38,
     "metadata": {},
     "output_type": "execute_result"
    }
   ],
   "source": [
    "dataframes['product'][dataframes['product']['DEPARTMENT'] == 'NUTRITION']['SUB_COMMODITY_DESC'].unique()"
   ]
  },
  {
   "cell_type": "markdown",
   "metadata": {},
   "source": [
    "<font color = \"green\">\n",
    "\n",
    "* We see that single males byt more nutrtion products than signle women. If we look at the list of unique products from nutrition category we see that these products are not so healthy (like FROZEN BURGERS, CANDY W/O FLOUR etc).\n",
    "* It seem that single females pay more attention with when they are going to shopping than single men."
   ]
  },
  {
   "cell_type": "markdown",
   "metadata": {},
   "source": [
    "<font color = \"green\">\n",
    "\n",
    "* We can see that people use most of their discount tickets on groceries. Every person regardless the family type has the peak on the transactions that involve groceries.\n",
    "\n",
    "* People that come from families with 1 parent and kids use considerably more discount tickets tickets than people from other types of families, which makes perfect sense if you are the only parent nd you have kids it would be in your interest to use discounts to buy products cheaper.\n",
    "\n",
    "* People from families with two adults with/ without kids do not redeem so much tickets as expected. There might be two reasons for this behavior: they either have a more balanced behavior when it comes about shopping, they shop less, but when they do they redeem tickets or they do not seem interested in using tickets. If we look at the distribution of coupons redeemed we can draw the conclusion the high number of redeemed tickets comes indeed from the high number of people with families and that they do not seem as interested in using tickets as the others.\n",
    "\n",
    "* Women take care of what they eat much more than men do. Women tend to use a comparable amount of discount on groceries, more on seafood and meat and much less on nutrition products that contain unhealthy products like chips, juice, sugar based products. These kind of products are avoided by women."
   ]
  }
 ],
 "metadata": {
  "kernelspec": {
   "display_name": "Python 3",
   "language": "python",
   "name": "python3"
  },
  "language_info": {
   "codemirror_mode": {
    "name": "ipython",
    "version": 3
   },
   "file_extension": ".py",
   "mimetype": "text/x-python",
   "name": "python",
   "nbconvert_exporter": "python",
   "pygments_lexer": "ipython3",
   "version": "3.7.3"
  }
 },
 "nbformat": 4,
 "nbformat_minor": 4
}
