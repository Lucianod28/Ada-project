{
 "cells": [
  {
   "cell_type": "code",
   "execution_count": 1,
   "metadata": {},
   "outputs": [],
   "source": [
    "import pandas as pd\n",
    "import numpy as np\n",
    "from ipywidgets import interact\n",
    "from sklearn.linear_model import LinearRegression\n",
    "import matplotlib.pyplot as plt\n",
    "import matplotlib\n",
    "%matplotlib inline\n",
    "from tqdm.auto import tqdm"
   ]
  },
  {
   "cell_type": "code",
   "execution_count": 2,
   "metadata": {},
   "outputs": [],
   "source": [
    "from collections import Counter"
   ]
  },
  {
   "cell_type": "code",
   "execution_count": 3,
   "metadata": {},
   "outputs": [],
   "source": [
    "transactions = pd.read_csv(\"../data/dunnhumby_The-Complete-Journey/dunnhumby - The Complete Journey CSV/transaction_data.csv\")\n",
    "products = pd.read_csv(\"../data/dunnhumby_The-Complete-Journey/dunnhumby - The Complete Journey CSV/product.csv\")"
   ]
  },
  {
   "cell_type": "code",
   "execution_count": 4,
   "metadata": {},
   "outputs": [],
   "source": [
    "#groups.drop_duplicates(subset=None)\n",
    "merged = transactions.merge(products, how = 'inner', on = 'PRODUCT_ID')"
   ]
  },
  {
   "cell_type": "code",
   "execution_count": 5,
   "metadata": {},
   "outputs": [],
   "source": [
    "merged[\"Name\"] = merged[\"COMMODITY_DESC\"] + \" / \" + merged[\"SUB_COMMODITY_DESC\"]"
   ]
  },
  {
   "cell_type": "code",
   "execution_count": 6,
   "metadata": {},
   "outputs": [],
   "source": [
    "essential_data = merged[[\"BASKET_ID\", \"Name\"]]"
   ]
  },
  {
   "cell_type": "code",
   "execution_count": null,
   "metadata": {},
   "outputs": [],
   "source": [
    "counts = Counter()\n",
    "for _, products in tqdm(essential_data.groupby('BASKET_ID')[\"Name\"]):\n",
    "    products = np.unique(products)\n",
    "    for i in range(0, len(products)):\n",
    "        for j in range(0, i):\n",
    "            a = products[i]\n",
    "            b = products[j]\n",
    "            if a < b:\n",
    "                sa = a\n",
    "                sb = b\n",
    "            else:\n",
    "                sa = b\n",
    "                sb = a\n",
    "            counts[a + \";\" + b] += 1"
   ]
  },
  {
   "cell_type": "code",
   "execution_count": null,
   "metadata": {},
   "outputs": [],
   "source": [
    "rows = []\n",
    "for prods,count in tqdm(counts.items()):\n",
    "    [a,b] = prods.split(\";\")\n",
    "    rows.append((a,b,count))"
   ]
  },
  {
   "cell_type": "code",
   "execution_count": 23,
   "metadata": {},
   "outputs": [],
   "source": [
    "counts_df = pd.DataFrame(rows, columns=[\"Product 1\", \"Product 2\", \"Count\"])"
   ]
  },
  {
   "cell_type": "code",
   "execution_count": 24,
   "metadata": {},
   "outputs": [],
   "source": [
    "counts_df = counts_df[counts_df[\"Count\"] > 10]"
   ]
  },
  {
   "cell_type": "code",
   "execution_count": 25,
   "metadata": {},
   "outputs": [],
   "source": [
    "counts_df.to_csv(\"named_counts_2.csv\")"
   ]
  },
  {
   "cell_type": "code",
   "execution_count": 4,
   "metadata": {},
   "outputs": [],
   "source": [
    "counts_df = pd.read_csv(\"../notebooks/named_counts_2.csv\")"
   ]
  },
  {
   "cell_type": "code",
   "execution_count": 26,
   "metadata": {},
   "outputs": [],
   "source": [
    "counts_df = counts_df.sort_values(\"Count\", ascending=False)"
   ]
  },
  {
   "cell_type": "markdown",
   "metadata": {},
   "source": [
    "## Introduction"
   ]
  },
  {
   "cell_type": "markdown",
   "metadata": {},
   "source": [
    "We wanted to explore relations between different products - we decided to look for pairs of products that tend to be bought together frequently.\n",
    "\n",
    "First we take a look at counts of transactions that both products appear in."
   ]
  },
  {
   "cell_type": "code",
   "execution_count": null,
   "metadata": {},
   "outputs": [],
   "source": [
    "counts_df.head(5)"
   ]
  },
  {
   "cell_type": "code",
   "execution_count": null,
   "metadata": {},
   "outputs": [],
   "source": [
    "counts_df.iloc[4,0]"
   ]
  },
  {
   "cell_type": "code",
   "execution_count": 12,
   "metadata": {},
   "outputs": [],
   "source": [
    "# the same table as above but formatted in a pretty way:"
   ]
  },
  {
   "cell_type": "markdown",
   "metadata": {},
   "source": [
    "The 5 most often recurring pairs are:\n",
    "\n",
    "<small>(We converted the original product names like \"TROPICAL FRUIT / BANANAS\" to simple, a bit less specific names for simplicity. We also show rounded counts in thousands of transactions.)</small>\n",
    "    \n",
    "| Product 1    | Product 2    | Co-occurence count |\n",
    "|--------------|--------------|--------------------|\n",
    "| Bananas       | Milk         |  ~16k             |\n",
    "| Milk         | Bread      |  ~14k             |\n",
    "| Some soft drink (can) | Milk         |  ~11k             |\n",
    "| Shredded cheese  | Milk         |  ~10k             |\n",
    "| Refrigeated juice       | Milk      |  ~15k             |\n"
   ]
  },
  {
   "cell_type": "markdown",
   "metadata": {},
   "source": [
    "As we can see milk is present in almost every pair. This is likely to it being a frequently bought product overall."
   ]
  },
  {
   "cell_type": "code",
   "execution_count": 35,
   "metadata": {},
   "outputs": [],
   "source": [
    "popular = merged.groupby(\"Name\").apply(len).sort_values(ascending=False).head(10)"
   ]
  },
  {
   "cell_type": "code",
   "execution_count": null,
   "metadata": {},
   "outputs": [],
   "source": [
    "popular"
   ]
  },
  {
   "cell_type": "markdown",
   "metadata": {},
   "source": [
    "Indeed, when we look at the top 5 most often bought products, we get almost the same results as for the top pairs:"
   ]
  },
  {
   "cell_type": "markdown",
   "metadata": {},
   "source": [
    "| Product | Count |\n",
    "|---------|-------|\n",
    "| Milk    | ~66k   |\n",
    "| Some soft drink (can) | ~39k |\n",
    "| Other soft drink (2L bottle) | ~37k |\n",
    "| Yogurt | ~37k |\n",
    "| Bananas | ~30k |"
   ]
  },
  {
   "cell_type": "markdown",
   "metadata": {},
   "source": [
    "Products that are more often bought overall are more likely to form the pairs of being bought together (because if both products have high probability of being bought in a transaction, the join probability is also higher than for products that are bough rarely overall)."
   ]
  },
  {
   "cell_type": "markdown",
   "metadata": {},
   "source": [
    "To look further, we will look at relative counts - for each pair we will divide the co-occurrence count by the amount of transactions each of the products is in and take the bigger value. "
   ]
  },
  {
   "cell_type": "code",
   "execution_count": 37,
   "metadata": {},
   "outputs": [],
   "source": [
    "sales = merged.groupby([\"Name\"]).apply(lambda df: df[\"BASKET_ID\"].nunique())"
   ]
  },
  {
   "cell_type": "code",
   "execution_count": 38,
   "metadata": {},
   "outputs": [],
   "source": [
    "relativized = counts_df.merge(sales.rename(\"Sales 1\"), left_on=\"Product 1\", right_on=\"Name\").merge(sales.rename(\"Sales 2\"), left_on=\"Product 2\", right_on=\"Name\")"
   ]
  },
  {
   "cell_type": "code",
   "execution_count": 39,
   "metadata": {},
   "outputs": [],
   "source": [
    "relativized[\"Relative Count 1\"] = relativized[\"Count\"] / relativized[\"Sales 1\"]\n",
    "relativized[\"Relative Count 2\"] = relativized[\"Count\"] / relativized[\"Sales 2\"]"
   ]
  },
  {
   "cell_type": "code",
   "execution_count": 40,
   "metadata": {},
   "outputs": [],
   "source": [
    "relativized[\"Relative Count\"] = relativized[[\"Relative Count 1\", \"Relative Count 2\"]].max(axis=1)"
   ]
  },
  {
   "cell_type": "code",
   "execution_count": 45,
   "metadata": {},
   "outputs": [],
   "source": [
    "relativized_filt = relativized[relativized[\"Count\"] > 100]"
   ]
  },
  {
   "cell_type": "code",
   "execution_count": 46,
   "metadata": {},
   "outputs": [],
   "source": [
    "relativized_filt = relativized_filt.sort_values(\"Relative Count\", ascending=False)"
   ]
  },
  {
   "cell_type": "code",
   "execution_count": null,
   "metadata": {},
   "outputs": [],
   "source": [
    "relativized_filt.head(10)"
   ]
  },
  {
   "cell_type": "markdown",
   "metadata": {},
   "source": [
    "## Relative count"
   ]
  },
  {
   "cell_type": "markdown",
   "metadata": {},
   "source": [
    "Below we can see the top 5 pairs after relativizing the co-occurences. We have also removed pairs which were bought less than 100 times (because when one product was bought only once ever, it would result in 100% but that is not a useful conclusion but rather an outlier).\n",
    "\n",
    "The interpretation of percentage is following: of all transactions where Primary product was bought, it shows the fraction of transactions where Secondary product was bought as well."
   ]
  },
  {
   "cell_type": "markdown",
   "metadata": {},
   "source": [
    "| Primary product | Secondary product | % of times secondary product was bought along the primary one | \n",
    "|-|-|-|\n",
    "| Salad condiments (Salad bar) | Fresh fruit (Salad bar) | 91% |\n",
    "| Fruit glazes | Strawberries | 73% |\n",
    "| Instant breakfast | Milk | 73% | \n",
    "| Frozen pizza (some particular variant) | Frozen meat entree | 72% |\n",
    "| Salad dressing mix | Sour cream | 71% |"
   ]
  },
  {
   "cell_type": "markdown",
   "metadata": {},
   "source": [
    "For example, we can see that 91% of the times Salad condiments were bought at the salad bar, fresh fruit was also bought. This correlation seems quite likely as these are just 2 products from the salad bar, so they tend to be bought together quite often.\n",
    "\n",
    "Then we can see that 73% of the time someone buys a fruit glaze, they also buy strawberries - of course they need something to put the glaze on, and strawberries look like a very common choice. Maybe it's a good idea for the retailers to do some promotions on buying these two together?\n",
    "\n",
    "Then we can guess that the Instant breakfast is actually a kind of cereal package, as 73% of times it is bought it is bought with milk as well.\n",
    "\n",
    "We can also see that people often buy sour cream along with the salad dressing. Also, many fans of frozen pizza also like an entree."
   ]
  },
  {
   "cell_type": "markdown",
   "metadata": {},
   "source": [
    "## Groups of products"
   ]
  },
  {
   "cell_type": "code",
   "execution_count": null,
   "metadata": {},
   "outputs": [],
   "source": [
    "counts_df[\"Count\"].plot.hist(bins=range(0, 2000, 50), log=True)"
   ]
  },
  {
   "cell_type": "code",
   "execution_count": null,
   "metadata": {},
   "outputs": [],
   "source": [
    "(counts_df[\"Count\"] > 1000).sum()"
   ]
  },
  {
   "cell_type": "markdown",
   "metadata": {},
   "source": [
    "The next goal was to look at groups of products bigger than mere pairs.\n",
    "\n",
    "As there are exponentially many subsets of all products we couldn't have counted them by brute-force, so we came with an approximation. We look at pairs of products that are bought together often (after looking at the distribution of co-occurence counts, we decided for a threshold of sharing at least 1000 transactions) and form a graph. Than we look for cliques in this graph - a clique is a set of products of which each pair was often bought together."
   ]
  },
  {
   "cell_type": "code",
   "execution_count": 63,
   "metadata": {},
   "outputs": [],
   "source": [
    "import networkx as nx"
   ]
  },
  {
   "cell_type": "code",
   "execution_count": 98,
   "metadata": {},
   "outputs": [],
   "source": [
    "bigger_counts = counts_df[counts_df[\"Count\"] > 3000]"
   ]
  },
  {
   "cell_type": "code",
   "execution_count": 99,
   "metadata": {},
   "outputs": [],
   "source": [
    "graph = nx.from_pandas_edgelist(bigger_counts, 'Product 1', 'Product 2', edge_attr=\"Count\", create_using= nx.Graph())"
   ]
  },
  {
   "cell_type": "code",
   "execution_count": 101,
   "metadata": {},
   "outputs": [],
   "source": [
    "cliques = list(nx.clique.find_cliques(graph))"
   ]
  },
  {
   "cell_type": "code",
   "execution_count": 102,
   "metadata": {},
   "outputs": [],
   "source": [
    "maxlen = max(map(len, cliques))"
   ]
  },
  {
   "cell_type": "code",
   "execution_count": 103,
   "metadata": {},
   "outputs": [],
   "source": [
    "chosen_clique = None\n",
    "chosen_w = None"
   ]
  },
  {
   "cell_type": "code",
   "execution_count": null,
   "metadata": {},
   "outputs": [],
   "source": [
    "for clique in cliques:\n",
    "    if len(clique) >= maxlen:\n",
    "        weights = []\n",
    "        for a in clique:\n",
    "            for b in clique:\n",
    "                if a != b:\n",
    "                    weights.append(graph.get_edge_data(a,b)[\"Count\"])\n",
    "        print(\"Each pair has been bought together \" + str(min(weights)) + \" times:\")\n",
    "        if chosen_clique is None or min(weights) > chosen_w:\n",
    "            chosen_w = min(weights)\n",
    "            chosen_clique = clique"
   ]
  },
  {
   "cell_type": "code",
   "execution_count": null,
   "metadata": {},
   "outputs": [],
   "source": [
    "chosen_clique"
   ]
  },
  {
   "cell_type": "code",
   "execution_count": null,
   "metadata": {},
   "outputs": [],
   "source": [
    "def contains_clique(df):\n",
    "    names = list(df[\"Name\"])\n",
    "    for p in chosen_clique:\n",
    "        if p not in names:\n",
    "            return False\n",
    "    return True"
   ]
  },
  {
   "cell_type": "code",
   "execution_count": null,
   "metadata": {},
   "outputs": [],
   "source": [
    "tqdm.pandas()"
   ]
  },
  {
   "cell_type": "code",
   "execution_count": null,
   "metadata": {},
   "outputs": [],
   "source": [
    "containing = merged.groupby(\"BASKET_ID\").progress_apply(contains_clique)"
   ]
  },
  {
   "cell_type": "code",
   "execution_count": null,
   "metadata": {},
   "outputs": [],
   "source": [
    "containing.sum()"
   ]
  },
  {
   "cell_type": "markdown",
   "metadata": {},
   "source": [
    "We have found that each pair of the following products has been bought together at least 3460 times:\n",
    " - Milk\n",
    " - Bananas\n",
    " - White bread\n",
    " - Shredded cheese\n",
    " - Potato chips\n",
    " - A soft drink in a can\n",
    "\n",
    "There have been indeed 161 transactions that contained all of these items at once."
   ]
  },
  {
   "cell_type": "code",
   "execution_count": 148,
   "metadata": {},
   "outputs": [],
   "source": [
    "bigger_counts = relativized_filt[relativized_filt[\"Relative Count\"] > 0.25]"
   ]
  },
  {
   "cell_type": "code",
   "execution_count": 149,
   "metadata": {},
   "outputs": [],
   "source": [
    "graph = nx.from_pandas_edgelist(bigger_counts, 'Product 1', 'Product 2', edge_attr=\"Relative Count\", create_using= nx.Graph())"
   ]
  },
  {
   "cell_type": "code",
   "execution_count": null,
   "metadata": {},
   "outputs": [],
   "source": [
    "print(nx.info(graph))"
   ]
  },
  {
   "cell_type": "code",
   "execution_count": 151,
   "metadata": {},
   "outputs": [],
   "source": [
    "cliques = list(nx.clique.find_cliques(graph))"
   ]
  },
  {
   "cell_type": "code",
   "execution_count": 152,
   "metadata": {},
   "outputs": [],
   "source": [
    "maxlen = max(map(len, cliques))"
   ]
  },
  {
   "cell_type": "code",
   "execution_count": 153,
   "metadata": {},
   "outputs": [],
   "source": [
    "chosen_clique = None\n",
    "chosen_w = None"
   ]
  },
  {
   "cell_type": "code",
   "execution_count": null,
   "metadata": {},
   "outputs": [],
   "source": [
    "for clique in cliques:\n",
    "    if len(clique) >= maxlen:\n",
    "        weights = []\n",
    "        for a in clique:\n",
    "            for b in clique:\n",
    "                if a != b:\n",
    "                    weights.append(graph.get_edge_data(a,b)[\"Relative Count\"])\n",
    "        print(\"Each pair has been bought together \" + str(min(weights)) + \" times:\")\n",
    "        print(clique)\n",
    "        if chosen_clique is None or min(weights) > chosen_w:\n",
    "            chosen_w = min(weights)\n",
    "            chosen_clique = clique"
   ]
  },
  {
   "cell_type": "code",
   "execution_count": null,
   "metadata": {},
   "outputs": [],
   "source": [
    "chosen_clique"
   ]
  },
  {
   "cell_type": "code",
   "execution_count": null,
   "metadata": {},
   "outputs": [],
   "source": [
    "containing = merged.groupby(\"BASKET_ID\").progress_apply(contains_clique)"
   ]
  },
  {
   "cell_type": "code",
   "execution_count": null,
   "metadata": {},
   "outputs": [],
   "source": [
    "containing.sum()"
   ]
  },
  {
   "cell_type": "markdown",
   "metadata": {},
   "source": [
    "As we can see Milk and Bananas in the list, we see that these products were just bought very often so it's also more likely for them to be bought together.\n",
    "\n",
    "Because of that we decided to also look at the relativized percentages. We looked at cliques in a similar graph but based on pairs where the relative percentage was at least 25%."
   ]
  },
  {
   "cell_type": "code",
   "execution_count": 155,
   "metadata": {},
   "outputs": [],
   "source": [
    "for clique in cliques:\n",
    "    if len(clique) >= maxlen: # select the first one\n",
    "        chosen_clique = clique\n",
    "        break"
   ]
  },
  {
   "cell_type": "code",
   "execution_count": null,
   "metadata": {},
   "outputs": [],
   "source": [
    "chosen_clique"
   ]
  },
  {
   "cell_type": "code",
   "execution_count": null,
   "metadata": {},
   "outputs": [],
   "source": [
    "containing = merged.groupby(\"BASKET_ID\").progress_apply(contains_clique)"
   ]
  },
  {
   "cell_type": "code",
   "execution_count": null,
   "metadata": {},
   "outputs": [],
   "source": [
    "containing.sum()"
   ]
  },
  {
   "cell_type": "markdown",
   "metadata": {},
   "source": [
    "We have found out there were 32 transactions where all of:\n",
    "- Milk\n",
    "- Bananas\n",
    "- Corn \n",
    "- Green beans\n",
    "- Green peas\n",
    "- Carrots\n",
    "have been bought together. Looks like Milk and Bananas showed there mostly due to their very high popularity, but the rest look like common ingredients for a homemade salad.\n",
    "\n",
    "Moreover, we found 47 transactions where all of:\n",
    "- Milk\n",
    "- Tortilla / nacho chips\n",
    "- Shredded cheese\n",
    "- Mexican salsa\n",
    "- Mexican beans (refried)\n",
    "- Mexican seasoning mix\n",
    "have been bought. \n",
    "\n",
    "Of course 32 or 47 is very little transactions, but these are containing the full set of all these ingredients. The amount of transactions each subset will be significantly bigger."
   ]
  },
  {
   "cell_type": "code",
   "execution_count": null,
   "metadata": {},
   "outputs": [],
   "source": []
  }
 ],
 "metadata": {
  "kernelspec": {
   "display_name": "Python [conda env:ada] *",
   "language": "python",
   "name": "conda-env-ada-py"
  },
  "language_info": {
   "codemirror_mode": {
    "name": "ipython",
    "version": 3
   },
   "file_extension": ".py",
   "mimetype": "text/x-python",
   "name": "python",
   "nbconvert_exporter": "python",
   "pygments_lexer": "ipython3",
   "version": "3.7.4"
  }
 },
 "nbformat": 4,
 "nbformat_minor": 4
}
