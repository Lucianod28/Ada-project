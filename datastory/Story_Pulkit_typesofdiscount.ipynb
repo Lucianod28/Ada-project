{
 "cells": [
  {
   "cell_type": "code",
   "execution_count": 4,
   "metadata": {},
   "outputs": [],
   "source": [
    "import pandas as pd\n",
    "import numpy as np\n",
    "from ipywidgets import interact\n",
    "import matplotlib.pyplot as plt\n",
    "import seaborn as sns\n",
    "\n",
    "#Necessary for diaplaying all outputs; otherwise only gsd.colums will be displayed. \n",
    "from IPython.core.interactiveshell import InteractiveShell\n",
    "InteractiveShell.ast_node_interactivity = \"all\""
   ]
  },
  {
   "cell_type": "markdown",
   "metadata": {},
   "source": [
    "## How advertising campaigns impact the different categories people?"
   ]
  },
  {
   "cell_type": "code",
   "execution_count": 5,
   "metadata": {},
   "outputs": [],
   "source": [
    "#Loading the dataframes\n",
    "products=pd.read_csv(\"data/products.csv\")\n",
    "transactions=pd.read_csv(\"data/transactions.csv\")\n",
    "stores=pd.read_csv(\"data/stores.csv\")"
   ]
  },
  {
   "cell_type": "code",
   "execution_count": 6,
   "metadata": {},
   "outputs": [
    {
     "data": {
      "text/html": [
       "<div>\n",
       "<style scoped>\n",
       "    .dataframe tbody tr th:only-of-type {\n",
       "        vertical-align: middle;\n",
       "    }\n",
       "\n",
       "    .dataframe tbody tr th {\n",
       "        vertical-align: top;\n",
       "    }\n",
       "\n",
       "    .dataframe thead th {\n",
       "        text-align: right;\n",
       "    }\n",
       "</style>\n",
       "<table border=\"1\" class=\"dataframe\">\n",
       "  <thead>\n",
       "    <tr style=\"text-align: right;\">\n",
       "      <th></th>\n",
       "      <th>UPC</th>\n",
       "      <th>DESCRIPTION</th>\n",
       "      <th>MANUFACTURER</th>\n",
       "      <th>CATEGORY</th>\n",
       "      <th>SUB_CATEGORY</th>\n",
       "      <th>PRODUCT_SIZE</th>\n",
       "    </tr>\n",
       "  </thead>\n",
       "  <tbody>\n",
       "    <tr>\n",
       "      <th>0</th>\n",
       "      <td>1111009477</td>\n",
       "      <td>PL MINI TWIST PRETZELS</td>\n",
       "      <td>PRIVATE LABEL</td>\n",
       "      <td>BAG SNACKS</td>\n",
       "      <td>PRETZELS</td>\n",
       "      <td>15 OZ</td>\n",
       "    </tr>\n",
       "    <tr>\n",
       "      <th>1</th>\n",
       "      <td>1111009497</td>\n",
       "      <td>PL PRETZEL STICKS</td>\n",
       "      <td>PRIVATE LABEL</td>\n",
       "      <td>BAG SNACKS</td>\n",
       "      <td>PRETZELS</td>\n",
       "      <td>15 OZ</td>\n",
       "    </tr>\n",
       "    <tr>\n",
       "      <th>2</th>\n",
       "      <td>1111009507</td>\n",
       "      <td>PL TWIST PRETZELS</td>\n",
       "      <td>PRIVATE LABEL</td>\n",
       "      <td>BAG SNACKS</td>\n",
       "      <td>PRETZELS</td>\n",
       "      <td>15 OZ</td>\n",
       "    </tr>\n",
       "    <tr>\n",
       "      <th>3</th>\n",
       "      <td>1111035398</td>\n",
       "      <td>PL BL MINT ANTSPTC RINSE</td>\n",
       "      <td>PRIVATE LABEL</td>\n",
       "      <td>ORAL HYGIENE PRODUCTS</td>\n",
       "      <td>MOUTHWASHES (ANTISEPTIC)</td>\n",
       "      <td>1.5 LT</td>\n",
       "    </tr>\n",
       "    <tr>\n",
       "      <th>4</th>\n",
       "      <td>1111038078</td>\n",
       "      <td>PL BL MINT ANTSPTC RINSE</td>\n",
       "      <td>PRIVATE LABEL</td>\n",
       "      <td>ORAL HYGIENE PRODUCTS</td>\n",
       "      <td>MOUTHWASHES (ANTISEPTIC)</td>\n",
       "      <td>500 ML</td>\n",
       "    </tr>\n",
       "  </tbody>\n",
       "</table>\n",
       "</div>"
      ],
      "text/plain": [
       "          UPC               DESCRIPTION   MANUFACTURER               CATEGORY  \\\n",
       "0  1111009477    PL MINI TWIST PRETZELS  PRIVATE LABEL             BAG SNACKS   \n",
       "1  1111009497         PL PRETZEL STICKS  PRIVATE LABEL             BAG SNACKS   \n",
       "2  1111009507         PL TWIST PRETZELS  PRIVATE LABEL             BAG SNACKS   \n",
       "3  1111035398  PL BL MINT ANTSPTC RINSE  PRIVATE LABEL  ORAL HYGIENE PRODUCTS   \n",
       "4  1111038078  PL BL MINT ANTSPTC RINSE  PRIVATE LABEL  ORAL HYGIENE PRODUCTS   \n",
       "\n",
       "               SUB_CATEGORY PRODUCT_SIZE  \n",
       "0                  PRETZELS        15 OZ  \n",
       "1                  PRETZELS        15 OZ  \n",
       "2                  PRETZELS        15 OZ  \n",
       "3  MOUTHWASHES (ANTISEPTIC)       1.5 LT  \n",
       "4  MOUTHWASHES (ANTISEPTIC)       500 ML  "
      ]
     },
     "execution_count": 6,
     "metadata": {},
     "output_type": "execute_result"
    },
    {
     "data": {
      "text/html": [
       "<div>\n",
       "<style scoped>\n",
       "    .dataframe tbody tr th:only-of-type {\n",
       "        vertical-align: middle;\n",
       "    }\n",
       "\n",
       "    .dataframe tbody tr th {\n",
       "        vertical-align: top;\n",
       "    }\n",
       "\n",
       "    .dataframe thead th {\n",
       "        text-align: right;\n",
       "    }\n",
       "</style>\n",
       "<table border=\"1\" class=\"dataframe\">\n",
       "  <thead>\n",
       "    <tr style=\"text-align: right;\">\n",
       "      <th></th>\n",
       "      <th>WEEK_END_DATE</th>\n",
       "      <th>STORE_NUM</th>\n",
       "      <th>UPC</th>\n",
       "      <th>UNITS</th>\n",
       "      <th>VISITS</th>\n",
       "      <th>HHS</th>\n",
       "      <th>SPEND</th>\n",
       "      <th>PRICE</th>\n",
       "      <th>BASE_PRICE</th>\n",
       "      <th>FEATURE</th>\n",
       "      <th>DISPLAY</th>\n",
       "      <th>TPR_ONLY</th>\n",
       "    </tr>\n",
       "  </thead>\n",
       "  <tbody>\n",
       "    <tr>\n",
       "      <th>0</th>\n",
       "      <td>2009-01-14 00:00:00</td>\n",
       "      <td>367</td>\n",
       "      <td>1111009477</td>\n",
       "      <td>13</td>\n",
       "      <td>13</td>\n",
       "      <td>13</td>\n",
       "      <td>18.07</td>\n",
       "      <td>1.39</td>\n",
       "      <td>1.57</td>\n",
       "      <td>0</td>\n",
       "      <td>0</td>\n",
       "      <td>1</td>\n",
       "    </tr>\n",
       "    <tr>\n",
       "      <th>1</th>\n",
       "      <td>2009-01-14 00:00:00</td>\n",
       "      <td>367</td>\n",
       "      <td>1111009497</td>\n",
       "      <td>20</td>\n",
       "      <td>18</td>\n",
       "      <td>18</td>\n",
       "      <td>27.80</td>\n",
       "      <td>1.39</td>\n",
       "      <td>1.39</td>\n",
       "      <td>0</td>\n",
       "      <td>0</td>\n",
       "      <td>0</td>\n",
       "    </tr>\n",
       "    <tr>\n",
       "      <th>2</th>\n",
       "      <td>2009-01-14 00:00:00</td>\n",
       "      <td>367</td>\n",
       "      <td>1111009507</td>\n",
       "      <td>14</td>\n",
       "      <td>14</td>\n",
       "      <td>14</td>\n",
       "      <td>19.32</td>\n",
       "      <td>1.38</td>\n",
       "      <td>1.38</td>\n",
       "      <td>0</td>\n",
       "      <td>0</td>\n",
       "      <td>0</td>\n",
       "    </tr>\n",
       "    <tr>\n",
       "      <th>3</th>\n",
       "      <td>2009-01-14 00:00:00</td>\n",
       "      <td>367</td>\n",
       "      <td>1111035398</td>\n",
       "      <td>4</td>\n",
       "      <td>3</td>\n",
       "      <td>3</td>\n",
       "      <td>14.00</td>\n",
       "      <td>3.50</td>\n",
       "      <td>4.49</td>\n",
       "      <td>0</td>\n",
       "      <td>0</td>\n",
       "      <td>1</td>\n",
       "    </tr>\n",
       "    <tr>\n",
       "      <th>4</th>\n",
       "      <td>2009-01-14 00:00:00</td>\n",
       "      <td>367</td>\n",
       "      <td>1111038078</td>\n",
       "      <td>3</td>\n",
       "      <td>3</td>\n",
       "      <td>3</td>\n",
       "      <td>7.50</td>\n",
       "      <td>2.50</td>\n",
       "      <td>2.50</td>\n",
       "      <td>0</td>\n",
       "      <td>0</td>\n",
       "      <td>0</td>\n",
       "    </tr>\n",
       "  </tbody>\n",
       "</table>\n",
       "</div>"
      ],
      "text/plain": [
       "         WEEK_END_DATE  STORE_NUM         UPC  UNITS  VISITS  HHS  SPEND  \\\n",
       "0  2009-01-14 00:00:00        367  1111009477     13      13   13  18.07   \n",
       "1  2009-01-14 00:00:00        367  1111009497     20      18   18  27.80   \n",
       "2  2009-01-14 00:00:00        367  1111009507     14      14   14  19.32   \n",
       "3  2009-01-14 00:00:00        367  1111035398      4       3    3  14.00   \n",
       "4  2009-01-14 00:00:00        367  1111038078      3       3    3   7.50   \n",
       "\n",
       "   PRICE  BASE_PRICE  FEATURE  DISPLAY  TPR_ONLY  \n",
       "0   1.39        1.57        0        0         1  \n",
       "1   1.39        1.39        0        0         0  \n",
       "2   1.38        1.38        0        0         0  \n",
       "3   3.50        4.49        0        0         1  \n",
       "4   2.50        2.50        0        0         0  "
      ]
     },
     "execution_count": 6,
     "metadata": {},
     "output_type": "execute_result"
    },
    {
     "data": {
      "text/html": [
       "<div>\n",
       "<style scoped>\n",
       "    .dataframe tbody tr th:only-of-type {\n",
       "        vertical-align: middle;\n",
       "    }\n",
       "\n",
       "    .dataframe tbody tr th {\n",
       "        vertical-align: top;\n",
       "    }\n",
       "\n",
       "    .dataframe thead th {\n",
       "        text-align: right;\n",
       "    }\n",
       "</style>\n",
       "<table border=\"1\" class=\"dataframe\">\n",
       "  <thead>\n",
       "    <tr style=\"text-align: right;\">\n",
       "      <th></th>\n",
       "      <th>STORE_ID</th>\n",
       "      <th>STORE_NAME</th>\n",
       "      <th>ADDRESS_CITY_NAME</th>\n",
       "      <th>ADDRESS_STATE_PROV_CODE</th>\n",
       "      <th>MSA_CODE</th>\n",
       "      <th>SEG_VALUE_NAME</th>\n",
       "      <th>PARKING_SPACE_QTY</th>\n",
       "      <th>SALES_AREA_SIZE_NUM</th>\n",
       "      <th>AVG_WEEKLY_BASKETS</th>\n",
       "    </tr>\n",
       "  </thead>\n",
       "  <tbody>\n",
       "    <tr>\n",
       "      <th>0</th>\n",
       "      <td>389</td>\n",
       "      <td>SILVERLAKE</td>\n",
       "      <td>ERLANGER</td>\n",
       "      <td>KY</td>\n",
       "      <td>17140</td>\n",
       "      <td>MAINSTREAM</td>\n",
       "      <td>408.0</td>\n",
       "      <td>46073</td>\n",
       "      <td>24766.807692</td>\n",
       "    </tr>\n",
       "    <tr>\n",
       "      <th>1</th>\n",
       "      <td>2277</td>\n",
       "      <td>ANDERSON TOWNE CTR</td>\n",
       "      <td>CINCINNATI</td>\n",
       "      <td>OH</td>\n",
       "      <td>17140</td>\n",
       "      <td>UPSCALE</td>\n",
       "      <td>NaN</td>\n",
       "      <td>81958</td>\n",
       "      <td>54052.519231</td>\n",
       "    </tr>\n",
       "    <tr>\n",
       "      <th>2</th>\n",
       "      <td>4259</td>\n",
       "      <td>WARSAW AVENUE</td>\n",
       "      <td>CINCINNATI</td>\n",
       "      <td>OH</td>\n",
       "      <td>17140</td>\n",
       "      <td>VALUE</td>\n",
       "      <td>NaN</td>\n",
       "      <td>48813</td>\n",
       "      <td>31177.333333</td>\n",
       "    </tr>\n",
       "    <tr>\n",
       "      <th>3</th>\n",
       "      <td>6379</td>\n",
       "      <td>KINGWOOD</td>\n",
       "      <td>KINGWOOD</td>\n",
       "      <td>TX</td>\n",
       "      <td>26420</td>\n",
       "      <td>MAINSTREAM</td>\n",
       "      <td>NaN</td>\n",
       "      <td>50237</td>\n",
       "      <td>20620.423077</td>\n",
       "    </tr>\n",
       "    <tr>\n",
       "      <th>4</th>\n",
       "      <td>6431</td>\n",
       "      <td>AT WARD ROAD</td>\n",
       "      <td>BAYTOWN</td>\n",
       "      <td>TX</td>\n",
       "      <td>26420</td>\n",
       "      <td>VALUE</td>\n",
       "      <td>350.0</td>\n",
       "      <td>43698</td>\n",
       "      <td>24321.942308</td>\n",
       "    </tr>\n",
       "  </tbody>\n",
       "</table>\n",
       "</div>"
      ],
      "text/plain": [
       "   STORE_ID          STORE_NAME ADDRESS_CITY_NAME ADDRESS_STATE_PROV_CODE  \\\n",
       "0       389          SILVERLAKE          ERLANGER                      KY   \n",
       "1      2277  ANDERSON TOWNE CTR        CINCINNATI                      OH   \n",
       "2      4259       WARSAW AVENUE        CINCINNATI                      OH   \n",
       "3      6379            KINGWOOD          KINGWOOD                      TX   \n",
       "4      6431        AT WARD ROAD           BAYTOWN                      TX   \n",
       "\n",
       "   MSA_CODE SEG_VALUE_NAME  PARKING_SPACE_QTY  SALES_AREA_SIZE_NUM  \\\n",
       "0     17140     MAINSTREAM              408.0                46073   \n",
       "1     17140        UPSCALE                NaN                81958   \n",
       "2     17140          VALUE                NaN                48813   \n",
       "3     26420     MAINSTREAM                NaN                50237   \n",
       "4     26420          VALUE              350.0                43698   \n",
       "\n",
       "   AVG_WEEKLY_BASKETS  \n",
       "0        24766.807692  \n",
       "1        54052.519231  \n",
       "2        31177.333333  \n",
       "3        20620.423077  \n",
       "4        24321.942308  "
      ]
     },
     "execution_count": 6,
     "metadata": {},
     "output_type": "execute_result"
    }
   ],
   "source": [
    "# showing the heads of the data frames\n",
    "products.head()\n",
    "transactions.head()\n",
    "stores.head()"
   ]
  },
  {
   "cell_type": "code",
   "execution_count": 7,
   "metadata": {},
   "outputs": [
    {
     "data": {
      "text/plain": [
       "array(['BAG SNACKS', 'ORAL HYGIENE PRODUCTS', 'COLD CEREAL',\n",
       "       'FROZEN PIZZA'], dtype=object)"
      ]
     },
     "execution_count": 7,
     "metadata": {},
     "output_type": "execute_result"
    }
   ],
   "source": [
    "products.CATEGORY.unique()"
   ]
  },
  {
   "cell_type": "code",
   "execution_count": 8,
   "metadata": {},
   "outputs": [
    {
     "data": {
      "text/plain": [
       "156"
      ]
     },
     "execution_count": 8,
     "metadata": {},
     "output_type": "execute_result"
    }
   ],
   "source": [
    "transactions.WEEK_END_DATE.unique().size"
   ]
  },
  {
   "cell_type": "code",
   "execution_count": 9,
   "metadata": {},
   "outputs": [
    {
     "data": {
      "text/html": [
       "<div>\n",
       "<style scoped>\n",
       "    .dataframe tbody tr th:only-of-type {\n",
       "        vertical-align: middle;\n",
       "    }\n",
       "\n",
       "    .dataframe tbody tr th {\n",
       "        vertical-align: top;\n",
       "    }\n",
       "\n",
       "    .dataframe thead th {\n",
       "        text-align: right;\n",
       "    }\n",
       "</style>\n",
       "<table border=\"1\" class=\"dataframe\">\n",
       "  <thead>\n",
       "    <tr style=\"text-align: right;\">\n",
       "      <th></th>\n",
       "      <th>WEEK_END_DATE</th>\n",
       "      <th>STORE_NUM</th>\n",
       "      <th>UPC</th>\n",
       "      <th>UNITS</th>\n",
       "      <th>VISITS</th>\n",
       "      <th>HHS</th>\n",
       "      <th>SPEND</th>\n",
       "      <th>PRICE</th>\n",
       "      <th>BASE_PRICE</th>\n",
       "      <th>FEATURE</th>\n",
       "      <th>DISPLAY</th>\n",
       "      <th>TPR_ONLY</th>\n",
       "      <th>Discount</th>\n",
       "      <th>Discount_Percentage</th>\n",
       "    </tr>\n",
       "  </thead>\n",
       "  <tbody>\n",
       "    <tr>\n",
       "      <th>0</th>\n",
       "      <td>2009-01-14 00:00:00</td>\n",
       "      <td>367</td>\n",
       "      <td>1111009477</td>\n",
       "      <td>13</td>\n",
       "      <td>13</td>\n",
       "      <td>13</td>\n",
       "      <td>18.07</td>\n",
       "      <td>1.39</td>\n",
       "      <td>1.57</td>\n",
       "      <td>0</td>\n",
       "      <td>0</td>\n",
       "      <td>1</td>\n",
       "      <td>1</td>\n",
       "      <td>0.11465</td>\n",
       "    </tr>\n",
       "    <tr>\n",
       "      <th>1</th>\n",
       "      <td>2009-01-14 00:00:00</td>\n",
       "      <td>367</td>\n",
       "      <td>1111009497</td>\n",
       "      <td>20</td>\n",
       "      <td>18</td>\n",
       "      <td>18</td>\n",
       "      <td>27.80</td>\n",
       "      <td>1.39</td>\n",
       "      <td>1.39</td>\n",
       "      <td>0</td>\n",
       "      <td>0</td>\n",
       "      <td>0</td>\n",
       "      <td>0</td>\n",
       "      <td>0.00000</td>\n",
       "    </tr>\n",
       "    <tr>\n",
       "      <th>2</th>\n",
       "      <td>2009-01-14 00:00:00</td>\n",
       "      <td>367</td>\n",
       "      <td>1111009507</td>\n",
       "      <td>14</td>\n",
       "      <td>14</td>\n",
       "      <td>14</td>\n",
       "      <td>19.32</td>\n",
       "      <td>1.38</td>\n",
       "      <td>1.38</td>\n",
       "      <td>0</td>\n",
       "      <td>0</td>\n",
       "      <td>0</td>\n",
       "      <td>0</td>\n",
       "      <td>0.00000</td>\n",
       "    </tr>\n",
       "    <tr>\n",
       "      <th>3</th>\n",
       "      <td>2009-01-14 00:00:00</td>\n",
       "      <td>367</td>\n",
       "      <td>1111035398</td>\n",
       "      <td>4</td>\n",
       "      <td>3</td>\n",
       "      <td>3</td>\n",
       "      <td>14.00</td>\n",
       "      <td>3.50</td>\n",
       "      <td>4.49</td>\n",
       "      <td>0</td>\n",
       "      <td>0</td>\n",
       "      <td>1</td>\n",
       "      <td>1</td>\n",
       "      <td>0.22049</td>\n",
       "    </tr>\n",
       "    <tr>\n",
       "      <th>4</th>\n",
       "      <td>2009-01-14 00:00:00</td>\n",
       "      <td>367</td>\n",
       "      <td>1111038078</td>\n",
       "      <td>3</td>\n",
       "      <td>3</td>\n",
       "      <td>3</td>\n",
       "      <td>7.50</td>\n",
       "      <td>2.50</td>\n",
       "      <td>2.50</td>\n",
       "      <td>0</td>\n",
       "      <td>0</td>\n",
       "      <td>0</td>\n",
       "      <td>0</td>\n",
       "      <td>0.00000</td>\n",
       "    </tr>\n",
       "  </tbody>\n",
       "</table>\n",
       "</div>"
      ],
      "text/plain": [
       "         WEEK_END_DATE  STORE_NUM         UPC  UNITS  VISITS  HHS  SPEND  \\\n",
       "0  2009-01-14 00:00:00        367  1111009477     13      13   13  18.07   \n",
       "1  2009-01-14 00:00:00        367  1111009497     20      18   18  27.80   \n",
       "2  2009-01-14 00:00:00        367  1111009507     14      14   14  19.32   \n",
       "3  2009-01-14 00:00:00        367  1111035398      4       3    3  14.00   \n",
       "4  2009-01-14 00:00:00        367  1111038078      3       3    3   7.50   \n",
       "\n",
       "   PRICE  BASE_PRICE  FEATURE  DISPLAY  TPR_ONLY  Discount  \\\n",
       "0   1.39        1.57        0        0         1         1   \n",
       "1   1.39        1.39        0        0         0         0   \n",
       "2   1.38        1.38        0        0         0         0   \n",
       "3   3.50        4.49        0        0         1         1   \n",
       "4   2.50        2.50        0        0         0         0   \n",
       "\n",
       "   Discount_Percentage  \n",
       "0              0.11465  \n",
       "1              0.00000  \n",
       "2              0.00000  \n",
       "3              0.22049  \n",
       "4              0.00000  "
      ]
     },
     "execution_count": 9,
     "metadata": {},
     "output_type": "execute_result"
    }
   ],
   "source": [
    "transactions = transactions.dropna(axis=0)\n",
    "transactions['Discount'] = transactions.FEATURE | transactions.DISPLAY | transactions.TPR_ONLY\n",
    "transactions['Discount_Percentage']= (transactions.BASE_PRICE - transactions.PRICE)/transactions.BASE_PRICE\n",
    "transactions.head()"
   ]
  },
  {
   "cell_type": "markdown",
   "metadata": {},
   "source": [
    "####  Total sale, sale in dicount period, sale in normal period per category"
   ]
  },
  {
   "cell_type": "code",
   "execution_count": 10,
   "metadata": {
    "scrolled": true
   },
   "outputs": [],
   "source": [
    "Total_sale = transactions.merge(products[['UPC','CATEGORY']], on='UPC', how='left')\\\n",
    "             .groupby('CATEGORY').UNITS.sum().reset_index()\n",
    "\n",
    "Total_sale_normal = transactions[transactions.Discount==0]\\\n",
    "                     .merge(products[['UPC','CATEGORY']], on='UPC', how='left')\\\n",
    "                     .groupby('CATEGORY').UNITS.sum().reset_index()\\\n",
    "                     .rename(columns={'UNITS':'UNITS_NORMAL'})\n",
    "\n",
    "Total_sale_discount = transactions[transactions.Discount==1]\\\n",
    "                     .merge(products[['UPC','CATEGORY']], on='UPC', how='left')\\\n",
    "                     .groupby('CATEGORY').UNITS.sum().reset_index()\\\n",
    "                     .rename(columns={'UNITS':'UNITS_DISC'})"
   ]
  },
  {
   "cell_type": "code",
   "execution_count": 11,
   "metadata": {},
   "outputs": [
    {
     "data": {
      "text/html": [
       "<div>\n",
       "<style scoped>\n",
       "    .dataframe tbody tr th:only-of-type {\n",
       "        vertical-align: middle;\n",
       "    }\n",
       "\n",
       "    .dataframe tbody tr th {\n",
       "        vertical-align: top;\n",
       "    }\n",
       "\n",
       "    .dataframe thead th {\n",
       "        text-align: right;\n",
       "    }\n",
       "</style>\n",
       "<table border=\"1\" class=\"dataframe\">\n",
       "  <thead>\n",
       "    <tr style=\"text-align: right;\">\n",
       "      <th></th>\n",
       "      <th>CATEGORY</th>\n",
       "      <th>UNITS</th>\n",
       "      <th>UNITS_NORMAL</th>\n",
       "      <th>UNITS_DISC</th>\n",
       "    </tr>\n",
       "  </thead>\n",
       "  <tbody>\n",
       "    <tr>\n",
       "      <th>0</th>\n",
       "      <td>BAG SNACKS</td>\n",
       "      <td>2601247</td>\n",
       "      <td>1490290</td>\n",
       "      <td>1110957</td>\n",
       "    </tr>\n",
       "    <tr>\n",
       "      <th>1</th>\n",
       "      <td>COLD CEREAL</td>\n",
       "      <td>5826783</td>\n",
       "      <td>3301659</td>\n",
       "      <td>2525124</td>\n",
       "    </tr>\n",
       "    <tr>\n",
       "      <th>2</th>\n",
       "      <td>FROZEN PIZZA</td>\n",
       "      <td>1341731</td>\n",
       "      <td>609736</td>\n",
       "      <td>731995</td>\n",
       "    </tr>\n",
       "    <tr>\n",
       "      <th>3</th>\n",
       "      <td>ORAL HYGIENE PRODUCTS</td>\n",
       "      <td>521140</td>\n",
       "      <td>282085</td>\n",
       "      <td>239055</td>\n",
       "    </tr>\n",
       "  </tbody>\n",
       "</table>\n",
       "</div>"
      ],
      "text/plain": [
       "                CATEGORY    UNITS  UNITS_NORMAL  UNITS_DISC\n",
       "0             BAG SNACKS  2601247       1490290     1110957\n",
       "1            COLD CEREAL  5826783       3301659     2525124\n",
       "2           FROZEN PIZZA  1341731        609736      731995\n",
       "3  ORAL HYGIENE PRODUCTS   521140        282085      239055"
      ]
     },
     "execution_count": 11,
     "metadata": {},
     "output_type": "execute_result"
    }
   ],
   "source": [
    "sales_combined = Total_sale\\\n",
    "                 .merge(Total_sale_normal, on='CATEGORY', how='left')\\\n",
    "                 .merge(Total_sale_discount, on='CATEGORY', how='left')\n",
    "sales_combined"
   ]
  },
  {
   "cell_type": "code",
   "execution_count": 12,
   "metadata": {},
   "outputs": [
    {
     "data": {
      "image/png": "[encoded data removed]",
      "text/plain": [
       "<Figure size 432x288 with 1 Axes>"
      ]
     },
     "metadata": {
      "needs_background": "light"
     },
     "output_type": "display_data"
    }
   ],
   "source": [
    "_ = sales_combined.plot(kind='bar', x='CATEGORY', y=['UNITS', 'UNITS_NORMAL', 'UNITS_DISC'],\\\n",
    "                        label=['Units', 'Units normal', 'Units promotion'], title='Units sold with and without promotion')\n",
    "_ = plt.xlabel(\"Category\")\n",
    "_ = plt.ylabel(\"Units Sold\")\n",
    "plt.show()"
   ]
  },
  {
   "cell_type": "markdown",
   "metadata": {},
   "source": [
    "#### Sales by Feature, Display, or TPR_Only"
   ]
  },
  {
   "cell_type": "code",
   "execution_count": 13,
   "metadata": {},
   "outputs": [],
   "source": [
    "Total_sale_feature = transactions[transactions.FEATURE==1]\\\n",
    "                     .merge(products[['UPC','CATEGORY']], on='UPC', how='left')\\\n",
    "                     .groupby('CATEGORY').UNITS.sum().reset_index()\\\n",
    "                     .rename(columns={'UNITS':'UNITS_FEATURE'})\n",
    "Total_sale_display = transactions[transactions.DISPLAY==1]\\\n",
    "                     .merge(products[['UPC','CATEGORY']], on='UPC', how='left')\\\n",
    "                     .groupby('CATEGORY').UNITS.sum().reset_index()\\\n",
    "                     .rename(columns={'UNITS':'UNITS_DISPLAY'})\n",
    "Total_sale_Only = transactions[transactions.TPR_ONLY==1]\\\n",
    "                    .merge(products[['UPC','CATEGORY']], on='UPC', how='left')\\\n",
    "                     .groupby('CATEGORY').UNITS.sum().reset_index()\\\n",
    "                     .rename(columns={'UNITS':'UNITS_ONLY'})"
   ]
  },
  {
   "cell_type": "code",
   "execution_count": 14,
   "metadata": {},
   "outputs": [
    {
     "data": {
      "image/png": "[encoded data removed]",
      "text/plain": [
       "<Figure size 432x288 with 1 Axes>"
      ]
     },
     "metadata": {
      "needs_background": "light"
     },
     "output_type": "display_data"
    },
    {
     "data": {
      "image/png": "[encoded data removed]",
      "text/plain": [
       "<Figure size 432x288 with 1 Axes>"
      ]
     },
     "metadata": {
      "needs_background": "light"
     },
     "output_type": "display_data"
    },
    {
     "data": {
      "image/png": "[encoded data removed]",
      "text/plain": [
       "<Figure size 432x288 with 1 Axes>"
      ]
     },
     "metadata": {
      "needs_background": "light"
     },
     "output_type": "display_data"
    }
   ],
   "source": [
    "_ = Total_sale_feature.plot(kind='bar', x='CATEGORY', y='UNITS_FEATURE', title='Total units sold on feature promotion')\n",
    "_ = plt.xlabel(\"Category\")\n",
    "_ = plt.ylabel(\"Units Sold\")\n",
    "plt.show()\n",
    "_ = Total_sale_display.plot(kind='bar', x='CATEGORY', y='UNITS_DISPLAY', title='Total units sold on display promotion')\n",
    "_ = plt.xlabel(\"Category\")\n",
    "_ = plt.ylabel(\"Units Sold\")\n",
    "plt.show()\n",
    "_ = Total_sale_Only.plot(kind='bar', x='CATEGORY', y='UNITS_ONLY', title='Total units sold on TPR promotion')\n",
    "_ = plt.xlabel(\"Category\")\n",
    "_ = plt.ylabel(\"Units Sold\")\n",
    "plt.show()"
   ]
  },
  {
   "cell_type": "markdown",
   "metadata": {},
   "source": [
    "### Normalised sales"
   ]
  },
  {
   "cell_type": "code",
   "execution_count": 15,
   "metadata": {},
   "outputs": [],
   "source": [
    "Ndays_normal = transactions[transactions.Discount==0]\\\n",
    "                     .groupby(['WEEK_END_DATE','UPC'])\\\n",
    "                     .STORE_NUM.size().reset_index()\\\n",
    "                     .groupby('UPC').STORE_NUM.sum().reset_index()\\\n",
    "                     .merge(products[['UPC','CATEGORY']], on='UPC', how='left')\\\n",
    "                     .groupby('CATEGORY').STORE_NUM.sum().reset_index()\\\n",
    "                     .rename(columns={'STORE_NUM':'NORM_UNITS_NORMAL'})\n",
    "\n",
    "Ndays_discount = transactions[transactions.Discount==1]\\\n",
    "                     .groupby(['WEEK_END_DATE','UPC'])\\\n",
    "                     .STORE_NUM.size().reset_index()\\\n",
    "                     .groupby('UPC').STORE_NUM.sum().reset_index()\\\n",
    "                     .merge(products[['UPC','CATEGORY']], on='UPC', how='left')\\\n",
    "                     .groupby('CATEGORY').STORE_NUM.sum().reset_index()\\\n",
    "                     .rename(columns={'STORE_NUM':'NORM_UNITS_DISC'})"
   ]
  },
  {
   "cell_type": "code",
   "execution_count": 16,
   "metadata": {},
   "outputs": [
    {
     "data": {
      "text/html": [
       "<div>\n",
       "<style scoped>\n",
       "    .dataframe tbody tr th:only-of-type {\n",
       "        vertical-align: middle;\n",
       "    }\n",
       "\n",
       "    .dataframe tbody tr th {\n",
       "        vertical-align: top;\n",
       "    }\n",
       "\n",
       "    .dataframe thead th {\n",
       "        text-align: right;\n",
       "    }\n",
       "</style>\n",
       "<table border=\"1\" class=\"dataframe\">\n",
       "  <thead>\n",
       "    <tr style=\"text-align: right;\">\n",
       "      <th></th>\n",
       "      <th>CATEGORY</th>\n",
       "      <th>NORM_UNITS_NORMAL</th>\n",
       "    </tr>\n",
       "  </thead>\n",
       "  <tbody>\n",
       "    <tr>\n",
       "      <th>0</th>\n",
       "      <td>BAG SNACKS</td>\n",
       "      <td>88718</td>\n",
       "    </tr>\n",
       "    <tr>\n",
       "      <th>1</th>\n",
       "      <td>COLD CEREAL</td>\n",
       "      <td>129471</td>\n",
       "    </tr>\n",
       "    <tr>\n",
       "      <th>2</th>\n",
       "      <td>FROZEN PIZZA</td>\n",
       "      <td>77149</td>\n",
       "    </tr>\n",
       "    <tr>\n",
       "      <th>3</th>\n",
       "      <td>ORAL HYGIENE PRODUCTS</td>\n",
       "      <td>80203</td>\n",
       "    </tr>\n",
       "  </tbody>\n",
       "</table>\n",
       "</div>"
      ],
      "text/plain": [
       "                CATEGORY  NORM_UNITS_NORMAL\n",
       "0             BAG SNACKS              88718\n",
       "1            COLD CEREAL             129471\n",
       "2           FROZEN PIZZA              77149\n",
       "3  ORAL HYGIENE PRODUCTS              80203"
      ]
     },
     "execution_count": 16,
     "metadata": {},
     "output_type": "execute_result"
    }
   ],
   "source": [
    "Ndays_normal"
   ]
  },
  {
   "cell_type": "code",
   "execution_count": 17,
   "metadata": {},
   "outputs": [],
   "source": [
    "#Normalised data sets\n",
    "\n",
    "Normalised_sale_normal = Total_sale_normal.copy(deep= True)\n",
    "Normalised_sale_normal.UNITS_NORMAL = Normalised_sale_normal.UNITS_NORMAL\\\n",
    "                                      /Ndays_normal.NORM_UNITS_NORMAL\n",
    "\n",
    "Normalised_sale_discount = Total_sale_discount.copy(deep= True)\n",
    "Normalised_sale_discount.UNITS_DISC = Normalised_sale_discount.UNITS_DISC\\\n",
    "                                      /Ndays_discount.NORM_UNITS_DISC\n"
   ]
  },
  {
   "cell_type": "code",
   "execution_count": 18,
   "metadata": {},
   "outputs": [
    {
     "data": {
      "text/html": [
       "<div>\n",
       "<style scoped>\n",
       "    .dataframe tbody tr th:only-of-type {\n",
       "        vertical-align: middle;\n",
       "    }\n",
       "\n",
       "    .dataframe tbody tr th {\n",
       "        vertical-align: top;\n",
       "    }\n",
       "\n",
       "    .dataframe thead th {\n",
       "        text-align: right;\n",
       "    }\n",
       "</style>\n",
       "<table border=\"1\" class=\"dataframe\">\n",
       "  <thead>\n",
       "    <tr style=\"text-align: right;\">\n",
       "      <th></th>\n",
       "      <th>CATEGORY</th>\n",
       "      <th>UNITS_NORMAL</th>\n",
       "      <th>UNITS_DISC</th>\n",
       "    </tr>\n",
       "  </thead>\n",
       "  <tbody>\n",
       "    <tr>\n",
       "      <th>0</th>\n",
       "      <td>BAG SNACKS</td>\n",
       "      <td>16.798057</td>\n",
       "      <td>28.731399</td>\n",
       "    </tr>\n",
       "    <tr>\n",
       "      <th>1</th>\n",
       "      <td>COLD CEREAL</td>\n",
       "      <td>25.501147</td>\n",
       "      <td>62.804656</td>\n",
       "    </tr>\n",
       "    <tr>\n",
       "      <th>2</th>\n",
       "      <td>FROZEN PIZZA</td>\n",
       "      <td>7.903356</td>\n",
       "      <td>21.512182</td>\n",
       "    </tr>\n",
       "    <tr>\n",
       "      <th>3</th>\n",
       "      <td>ORAL HYGIENE PRODUCTS</td>\n",
       "      <td>3.517138</td>\n",
       "      <td>6.585356</td>\n",
       "    </tr>\n",
       "  </tbody>\n",
       "</table>\n",
       "</div>"
      ],
      "text/plain": [
       "                CATEGORY  UNITS_NORMAL  UNITS_DISC\n",
       "0             BAG SNACKS     16.798057   28.731399\n",
       "1            COLD CEREAL     25.501147   62.804656\n",
       "2           FROZEN PIZZA      7.903356   21.512182\n",
       "3  ORAL HYGIENE PRODUCTS      3.517138    6.585356"
      ]
     },
     "execution_count": 18,
     "metadata": {},
     "output_type": "execute_result"
    }
   ],
   "source": [
    "Normalised_sales_combined = Normalised_sale_normal\\\n",
    "                 .merge(Normalised_sale_discount, on='CATEGORY', how='left')\n",
    "Normalised_sales_combined"
   ]
  },
  {
   "cell_type": "code",
   "execution_count": 19,
   "metadata": {},
   "outputs": [
    {
     "data": {
      "image/png": "[encoded data removed]",
      "text/plain": [
       "<Figure size 432x288 with 1 Axes>"
      ]
     },
     "metadata": {
      "needs_background": "light"
     },
     "output_type": "display_data"
    }
   ],
   "source": [
    "_ = Normalised_sales_combined.plot(kind='bar', x='CATEGORY', y=['UNITS_NORMAL', 'UNITS_DISC'],\\\n",
    "                        label=['Units normal', 'Units promotion'],\\\n",
    "                                   title='Units sold on normal and promotion days (Normalised)')\n",
    "_ = plt.xlabel(\"Category\")\n",
    "_ = plt.ylabel(\"Units Sold per store per weeekend\")\n",
    "plt.show()"
   ]
  },
  {
   "cell_type": "markdown",
   "metadata": {},
   "source": [
    "#### Sales by Feature, Display, or TPR_Only (Normalised)"
   ]
  },
  {
   "cell_type": "code",
   "execution_count": 20,
   "metadata": {},
   "outputs": [],
   "source": [
    "Ndays_feature = transactions[transactions.FEATURE==1]\\\n",
    "                     .groupby(['WEEK_END_DATE','UPC'])\\\n",
    "                     .STORE_NUM.size().reset_index()\\\n",
    "                     .groupby('UPC').STORE_NUM.sum().reset_index()\\\n",
    "                     .merge(products[['UPC','CATEGORY']], on='UPC', how='left')\\\n",
    "                     .groupby('CATEGORY').STORE_NUM.sum().reset_index()\\\n",
    "                     .rename(columns={'STORE_NUM':'NORM_UNITS_FEATURE'})\n",
    " \n",
    "Ndays_display = transactions[transactions.DISPLAY==1]\\\n",
    "                     .groupby(['WEEK_END_DATE','UPC'])\\\n",
    "                     .STORE_NUM.size().reset_index()\\\n",
    "                     .groupby('UPC').STORE_NUM.sum().reset_index()\\\n",
    "                     .merge(products[['UPC','CATEGORY']], on='UPC', how='left')\\\n",
    "                     .groupby('CATEGORY').STORE_NUM.sum().reset_index()\\\n",
    "                     .rename(columns={'STORE_NUM':'NORM_UNITS_DISPLAY'})\n",
    "\n",
    "Ndays_Only = transactions[transactions.TPR_ONLY==1]\\\n",
    "                     .groupby(['WEEK_END_DATE','UPC'])\\\n",
    "                     .STORE_NUM.size().reset_index()\\\n",
    "                     .groupby('UPC').STORE_NUM.sum().reset_index()\\\n",
    "                     .merge(products[['UPC','CATEGORY']], on='UPC', how='left')\\\n",
    "                     .groupby('CATEGORY').STORE_NUM.sum().reset_index()\\\n",
    "                     .rename(columns={'STORE_NUM':'NORM_UNITS_ONLY'})"
   ]
  },
  {
   "cell_type": "code",
   "execution_count": 21,
   "metadata": {},
   "outputs": [],
   "source": [
    "#Normalised most sucessful type of promotion: \n",
    "\n",
    "Normalised_sale_feature = Total_sale_feature.copy(deep= True)\n",
    "Normalised_sale_feature.UNITS_FEATURE = Normalised_sale_feature.UNITS_FEATURE\\\n",
    "                                     /Ndays_feature.NORM_UNITS_FEATURE\n",
    "\n",
    "Normalised_sale_display = Total_sale_display.copy(deep= True)\n",
    "Normalised_sale_display.UNITS_DISPLAY = Normalised_sale_display.UNITS_DISPLAY\\\n",
    "                                      /Ndays_display.NORM_UNITS_DISPLAY\n",
    "\n",
    "Normalised_sale_Only = Total_sale_Only.copy(deep= True)\n",
    "Normalised_sale_Only.UNITS_ONLY = Normalised_sale_Only.UNITS_ONLY\\\n",
    "                                      /Ndays_Only.NORM_UNITS_ONLY"
   ]
  },
  {
   "cell_type": "code",
   "execution_count": 22,
   "metadata": {},
   "outputs": [
    {
     "data": {
      "text/html": [
       "<div>\n",
       "<style scoped>\n",
       "    .dataframe tbody tr th:only-of-type {\n",
       "        vertical-align: middle;\n",
       "    }\n",
       "\n",
       "    .dataframe tbody tr th {\n",
       "        vertical-align: top;\n",
       "    }\n",
       "\n",
       "    .dataframe thead th {\n",
       "        text-align: right;\n",
       "    }\n",
       "</style>\n",
       "<table border=\"1\" class=\"dataframe\">\n",
       "  <thead>\n",
       "    <tr style=\"text-align: right;\">\n",
       "      <th></th>\n",
       "      <th>CATEGORY</th>\n",
       "      <th>UNITS_FEATURE</th>\n",
       "      <th>UNITS_DISPLAY</th>\n",
       "      <th>UNITS_ONLY</th>\n",
       "    </tr>\n",
       "  </thead>\n",
       "  <tbody>\n",
       "    <tr>\n",
       "      <th>0</th>\n",
       "      <td>BAG SNACKS</td>\n",
       "      <td>35.140462</td>\n",
       "      <td>44.315673</td>\n",
       "      <td>16.704998</td>\n",
       "    </tr>\n",
       "    <tr>\n",
       "      <th>1</th>\n",
       "      <td>COLD CEREAL</td>\n",
       "      <td>93.893280</td>\n",
       "      <td>92.303022</td>\n",
       "      <td>36.434502</td>\n",
       "    </tr>\n",
       "    <tr>\n",
       "      <th>2</th>\n",
       "      <td>FROZEN PIZZA</td>\n",
       "      <td>25.967638</td>\n",
       "      <td>27.746035</td>\n",
       "      <td>12.197750</td>\n",
       "    </tr>\n",
       "    <tr>\n",
       "      <th>3</th>\n",
       "      <td>ORAL HYGIENE PRODUCTS</td>\n",
       "      <td>10.210232</td>\n",
       "      <td>8.182900</td>\n",
       "      <td>5.366363</td>\n",
       "    </tr>\n",
       "  </tbody>\n",
       "</table>\n",
       "</div>"
      ],
      "text/plain": [
       "                CATEGORY  UNITS_FEATURE  UNITS_DISPLAY  UNITS_ONLY\n",
       "0             BAG SNACKS      35.140462      44.315673   16.704998\n",
       "1            COLD CEREAL      93.893280      92.303022   36.434502\n",
       "2           FROZEN PIZZA      25.967638      27.746035   12.197750\n",
       "3  ORAL HYGIENE PRODUCTS      10.210232       8.182900    5.366363"
      ]
     },
     "execution_count": 22,
     "metadata": {},
     "output_type": "execute_result"
    }
   ],
   "source": [
    "Normalised_disc_combined = Normalised_sale_feature\\\n",
    "                 .merge(Normalised_sale_display, on='CATEGORY', how='left')\\\n",
    "                 .merge(Normalised_sale_Only, on='CATEGORY', how='left')\n",
    "Normalised_disc_combined"
   ]
  },
  {
   "cell_type": "code",
   "execution_count": 23,
   "metadata": {},
   "outputs": [
    {
     "data": {
      "image/png": "[encoded data removed]",
      "text/plain": [
       "<Figure size 432x288 with 1 Axes>"
      ]
     },
     "metadata": {
      "needs_background": "light"
     },
     "output_type": "display_data"
    }
   ],
   "source": [
    "_ = Normalised_disc_combined.plot(kind='bar', x='CATEGORY', y=['UNITS_FEATURE', 'UNITS_DISPLAY', 'UNITS_ONLY'],\\\n",
    "                        label=['Feature promotion', 'Display promotion', 'TPR promotion'],\\\n",
    "                        title='Units sold on different promotion days (Normalised)')\n",
    "_ = plt.xlabel(\"Category\")\n",
    "_ = plt.ylabel(\"Units Sold per store per weeekend\")\n",
    "plt.show()"
   ]
  },
  {
   "cell_type": "markdown",
   "metadata": {},
   "source": [
    "#### How discount percentages impact sales"
   ]
  },
  {
   "cell_type": "code",
   "execution_count": 24,
   "metadata": {},
   "outputs": [],
   "source": [
    "def discount_percentage_database(discount_class_length):\n",
    "    discount = np.linspace(0,1,round(1/discount_class_length)+1)\n",
    "    #discount = [ '%.2f' % elem for elem in discount ]\n",
    "    discount_range = zip(discount[0:-1],discount[1:])\n",
    "    normalised_bypercentage = pd.DataFrame({'CATEGORY': products.CATEGORY.unique()})\n",
    "    for discount_bin in discount_range:\n",
    "        temp='{}-{}%'.format('%.2f' % discount_bin[0],'%.2f' % discount_bin[1])\n",
    "        sale_temp = transactions[(transactions.Discount_Percentage > discount_bin[0]) &\\\n",
    "                                  (transactions.Discount_Percentage <= discount_bin[1])]\\\n",
    "                      .merge(products[['UPC','CATEGORY']], on='UPC', how='left')\\\n",
    "                      .groupby('CATEGORY').UNITS.sum().reset_index()\\\n",
    "                      .rename(columns={'UNITS':temp})\n",
    "        ndays_temp = transactions[(transactions.Discount_Percentage > discount_bin[0]) &\\\n",
    "                                  (transactions.Discount_Percentage <= discount_bin[1])]\\\n",
    "                      .groupby(['WEEK_END_DATE','UPC'])\\\n",
    "                    .STORE_NUM.size().reset_index()\\\n",
    "                      .groupby('UPC').STORE_NUM.sum().reset_index()\\\n",
    "                      .merge(products[['UPC','CATEGORY']], on='UPC', how='left')\\\n",
    "                      .groupby('CATEGORY').STORE_NUM.sum().reset_index()\n",
    "        sale_temp[temp] = sale_temp[temp]/ndays_temp.STORE_NUM\n",
    "        normalised_bypercentage = normalised_bypercentage.merge(sale_temp, on='CATEGORY', how='left') \n",
    "    return normalised_bypercentage"
   ]
  },
  {
   "cell_type": "code",
   "execution_count": 25,
   "metadata": {
    "scrolled": true
   },
   "outputs": [
    {
     "data": {
      "text/html": [
       "<div>\n",
       "<style scoped>\n",
       "    .dataframe tbody tr th:only-of-type {\n",
       "        vertical-align: middle;\n",
       "    }\n",
       "\n",
       "    .dataframe tbody tr th {\n",
       "        vertical-align: top;\n",
       "    }\n",
       "\n",
       "    .dataframe thead th {\n",
       "        text-align: right;\n",
       "    }\n",
       "</style>\n",
       "<table border=\"1\" class=\"dataframe\">\n",
       "  <thead>\n",
       "    <tr style=\"text-align: right;\">\n",
       "      <th></th>\n",
       "      <th>CATEGORY</th>\n",
       "      <th>0.00-0.33%</th>\n",
       "      <th>0.33-0.67%</th>\n",
       "      <th>0.67-1.00%</th>\n",
       "    </tr>\n",
       "  </thead>\n",
       "  <tbody>\n",
       "    <tr>\n",
       "      <th>0</th>\n",
       "      <td>BAG SNACKS</td>\n",
       "      <td>25.368228</td>\n",
       "      <td>14.593081</td>\n",
       "      <td>4.963636</td>\n",
       "    </tr>\n",
       "    <tr>\n",
       "      <th>1</th>\n",
       "      <td>ORAL HYGIENE PRODUCTS</td>\n",
       "      <td>5.634873</td>\n",
       "      <td>9.574208</td>\n",
       "      <td>9.037037</td>\n",
       "    </tr>\n",
       "    <tr>\n",
       "      <th>2</th>\n",
       "      <td>COLD CEREAL</td>\n",
       "      <td>53.763967</td>\n",
       "      <td>118.007242</td>\n",
       "      <td>47.705882</td>\n",
       "    </tr>\n",
       "    <tr>\n",
       "      <th>3</th>\n",
       "      <td>FROZEN PIZZA</td>\n",
       "      <td>19.785781</td>\n",
       "      <td>32.041645</td>\n",
       "      <td>1.750000</td>\n",
       "    </tr>\n",
       "  </tbody>\n",
       "</table>\n",
       "</div>"
      ],
      "text/plain": [
       "                CATEGORY  0.00-0.33%  0.33-0.67%  0.67-1.00%\n",
       "0             BAG SNACKS   25.368228   14.593081    4.963636\n",
       "1  ORAL HYGIENE PRODUCTS    5.634873    9.574208    9.037037\n",
       "2            COLD CEREAL   53.763967  118.007242   47.705882\n",
       "3           FROZEN PIZZA   19.785781   32.041645    1.750000"
      ]
     },
     "execution_count": 25,
     "metadata": {},
     "output_type": "execute_result"
    }
   ],
   "source": [
    "discount_sales = discount_percentage_database(0.3)\n",
    "discount_sales"
   ]
  },
  {
   "cell_type": "code",
   "execution_count": 26,
   "metadata": {},
   "outputs": [
    {
     "data": {
      "image/png": "[encoded data removed]",
      "text/plain": [
       "<Figure size 432x288 with 1 Axes>"
      ]
     },
     "metadata": {
      "needs_background": "light"
     },
     "output_type": "display_data"
    }
   ],
   "source": [
    "_ = discount_sales.plot(kind='bar', x='CATEGORY', y=discount_sales.columns.to_list()[1:],\\\n",
    "                        title='Units sold with different discount rates (Normalised)')\n",
    "_ = plt.xlabel(\"Category\")\n",
    "_ = plt.ylabel(\"Units Sold per store per weeekend\")\n",
    "plt.show()"
   ]
  },
  {
   "cell_type": "markdown",
   "metadata": {},
   "source": [
    "# How frequency of discounts at a store effects sales  "
   ]
  },
  {
   "cell_type": "code",
   "execution_count": 27,
   "metadata": {},
   "outputs": [],
   "source": [
    "# transactions=pd.read_excel(\"data/userdata.xlsx\", sheet_name='dh Transaction Data')\n",
    "# transactions1=transactions.copy(deep = True)\n",
    "# transactions1=transactions1.dropna(axis='columns', how='all')\n",
    "# transactions1.columns=transactions1.iloc[0].to_list()\n",
    "# transactions1.drop(0, inplace=True)\n",
    "# transactions1 =transactions1.to_csv ('data/products.csv', index = None, header=True)"
   ]
  }
 ],
 "metadata": {
  "kernelspec": {
   "display_name": "Python 3",
   "language": "python",
   "name": "python3"
  },
  "language_info": {
   "codemirror_mode": {
    "name": "ipython",
    "version": 3
   },
   "file_extension": ".py",
   "mimetype": "text/x-python",
   "name": "python",
   "nbconvert_exporter": "python",
   "pygments_lexer": "ipython3",
   "version": "3.7.3"
  }
 },
 "nbformat": 4,
 "nbformat_minor": 2
}
